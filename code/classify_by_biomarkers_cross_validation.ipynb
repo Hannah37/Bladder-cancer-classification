{
  "nbformat": 4,
  "nbformat_minor": 0,
  "metadata": {
    "colab": {
      "name": "classify by biomarkers_cross validation",
      "provenance": [],
      "collapsed_sections": [
        "QXOkd8z7EpPb",
        "q4HMfhUpEIsW"
      ]
    },
    "kernelspec": {
      "name": "python3",
      "display_name": "Python 3"
    },
    "accelerator": "GPU"
  },
  "cells": [
    {
      "cell_type": "markdown",
      "metadata": {
        "id": "QXOkd8z7EpPb",
        "colab_type": "text"
      },
      "source": [
        "## **Load data**"
      ]
    },
    {
      "cell_type": "code",
      "metadata": {
        "id": "pnVKYrMYUoKf",
        "colab_type": "code",
        "colab": {
          "base_uri": "https://localhost:8080/",
          "height": 35
        },
        "outputId": "b336647c-c4ad-4055-8a4b-007d19607e6e"
      },
      "source": [
        "from google.colab import drive\n",
        "drive.mount('/content/gdrive')"
      ],
      "execution_count": 1,
      "outputs": [
        {
          "output_type": "stream",
          "text": [
            "Mounted at /content/gdrive\n"
          ],
          "name": "stdout"
        }
      ]
    },
    {
      "cell_type": "code",
      "metadata": {
        "id": "rgs2hSfRU83c",
        "colab_type": "code",
        "colab": {
          "base_uri": "https://localhost:8080/",
          "height": 182
        },
        "outputId": "1d5f6882-1dde-45bf-b368-252d811869c5"
      },
      "source": [
        "%pwd\n",
        "%cd 'gdrive/My Drive/bladder cancer'\n",
        "%ls"
      ],
      "execution_count": 2,
      "outputs": [
        {
          "output_type": "stream",
          "text": [
            "/content/gdrive/My Drive/bladder cancer\n",
            "'Baseline ECOG Score.png'  'tree_Baseline ECOG Score.dot'\n",
            "'Immune phenotype.png'     'tree_Baseline ECOG Score.png'\n",
            " IMvigor210_clin.csv       'tree_Immune phenotype.dot'\n",
            " imvigor210.csv            'tree_Immune phenotype.png'\n",
            " IMvigor210.xlsx            tree_Sex.dot\n",
            " Race.png                   tree_Sex.png\n",
            "'TCGA Subtype.dot'         'tree_TCGA Subtype.png'\n",
            " tmm.csv\n"
          ],
          "name": "stdout"
        }
      ]
    },
    {
      "cell_type": "code",
      "metadata": {
        "id": "eOwnwj2WWY9o",
        "colab_type": "code",
        "colab": {}
      },
      "source": [
        "import pandas as pd\n",
        "import numpy as np\n",
        "import matplotlib.pyplot as plt"
      ],
      "execution_count": 3,
      "outputs": []
    },
    {
      "cell_type": "code",
      "metadata": {
        "id": "q96dP3Y8U9AP",
        "colab_type": "code",
        "colab": {
          "base_uri": "https://localhost:8080/",
          "height": 164
        },
        "outputId": "440367d8-653b-4a1d-9987-18b7a1a922bf"
      },
      "source": [
        "# xlsx = pd.read_excel('./IMvigor210.xlsx', sheet_name = 'TMM norm' )\n",
        "# xlsx.to_csv('./tmm.csv',index=False)\n",
        "# print(xlsx.columns)\n",
        "%ls"
      ],
      "execution_count": 4,
      "outputs": [
        {
          "output_type": "stream",
          "text": [
            "'Baseline ECOG Score.png'  'tree_Baseline ECOG Score.dot'\n",
            "'Immune phenotype.png'     'tree_Baseline ECOG Score.png'\n",
            " IMvigor210_clin.csv       'tree_Immune phenotype.dot'\n",
            " imvigor210.csv            'tree_Immune phenotype.png'\n",
            " IMvigor210.xlsx            tree_Sex.dot\n",
            " Race.png                   tree_Sex.png\n",
            "'TCGA Subtype.dot'         'tree_TCGA Subtype.png'\n",
            " tmm.csv\n"
          ],
          "name": "stdout"
        }
      ]
    },
    {
      "cell_type": "code",
      "metadata": {
        "id": "IwA_Z40eU8-Q",
        "colab_type": "code",
        "colab": {
          "base_uri": "https://localhost:8080/",
          "height": 201
        },
        "outputId": "f49bec82-c91e-4ca1-8c43-68d6ae9aa63b"
      },
      "source": [
        "data = pd.read_csv(\"IMvigor210_clin.csv\")\n",
        "print(data.columns)\n",
        "print(len(data))"
      ],
      "execution_count": 5,
      "outputs": [
        {
          "output_type": "stream",
          "text": [
            "Index(['SampleID', 'Best Confirmed Overall Response', 'binaryResponse',\n",
            "       'Enrollment IC', 'IC Level', 'TC Level', 'Immune phenotype',\n",
            "       'FMOne mutation burden per MB', 'Sex', 'Race',\n",
            "       'Intravesical BCG administered', 'Baseline ECOG Score',\n",
            "       'Tobacco Use History', 'Met Disease Status', 'Sample age', 'Tissue',\n",
            "       'Received platinum', 'Sample collected pre-platinum',\n",
            "       'Neoantigen burden per MB', 'sizeFactor', 'ANONPT_ID', 'os', 'censOS',\n",
            "       'Lund', 'Lund2', 'TCGA Subtype'],\n",
            "      dtype='object')\n",
            "348\n"
          ],
          "name": "stdout"
        }
      ]
    },
    {
      "cell_type": "code",
      "metadata": {
        "id": "Jm1qg0XFOl9b",
        "colab_type": "code",
        "colab": {}
      },
      "source": [
        "marker = pd.read_csv(\"tmm.csv\")\n",
        "ori_marker = marker "
      ],
      "execution_count": 6,
      "outputs": []
    },
    {
      "cell_type": "code",
      "metadata": {
        "id": "wtRfmjguXpK1",
        "colab_type": "code",
        "colab": {
          "base_uri": "https://localhost:8080/",
          "height": 0
        },
        "outputId": "53fa7338-8ebd-4fc1-aceb-88ed7d254e88"
      },
      "source": [
        "marker.columns"
      ],
      "execution_count": 7,
      "outputs": [
        {
          "output_type": "execute_result",
          "data": {
            "text/plain": [
              "Index(['Entrez Gene ID', 'Symbol', 'SAMf2ce197162ce', 'SAM698d8d76b934',\n",
              "       'SAMc1b27bc16435', 'SAM85e41e7f33f9', 'SAMf275eb859a39',\n",
              "       'SAM7f0d9cc7f001', 'SAM4305ab968b90', 'SAMcf018fee2acd',\n",
              "       ...\n",
              "       'SAMe7e4f7c076a7', 'SAMbe25e2c88f3e', 'SAM4caabd64e7fd',\n",
              "       'SAMc6eff056c89a', 'SAM5cfa1699bdb7', 'SAMda4d892fddc8',\n",
              "       'SAM3a1c9632ff7b', 'SAM8b4b8b0f9e73', 'SAMe3d4266775a9',\n",
              "       'SAM2de7cffb5f72'],\n",
              "      dtype='object', length=350)"
            ]
          },
          "metadata": {
            "tags": []
          },
          "execution_count": 7
        }
      ]
    },
    {
      "cell_type": "markdown",
      "metadata": {
        "id": "q4HMfhUpEIsW",
        "colab_type": "text"
      },
      "source": [
        "## **Data Preprocessing**"
      ]
    },
    {
      "cell_type": "code",
      "metadata": {
        "id": "mU_mZePzT8G5",
        "colab_type": "code",
        "colab": {}
      },
      "source": [
        "marker = marker.rename(columns = {'Symbol':'SampleID'}) \n",
        "marker = marker.drop(['Entrez Gene ID'], axis = 1).T\n",
        "marker.columns = marker.iloc[0]\n",
        "marker = marker.drop(marker.index[0])"
      ],
      "execution_count": 8,
      "outputs": []
    },
    {
      "cell_type": "code",
      "metadata": {
        "id": "MLfxUGgpfQ-R",
        "colab_type": "code",
        "colab": {
          "base_uri": "https://localhost:8080/",
          "height": 0
        },
        "outputId": "fb6669a8-9854-47b4-a95d-5326a9bff3f8"
      },
      "source": [
        "print(marker.head())"
      ],
      "execution_count": 9,
      "outputs": [
        {
          "output_type": "stream",
          "text": [
            "SampleID            A1BG      ADA     CDH2  ...    DGCR2 CASP8AP2     SCO2\n",
            "SAMf2ce197162ce  3.97148  10.2378  9.12886  ...  9.76685  11.1387  10.2317\n",
            "SAM698d8d76b934  6.19179  10.3348  13.7274  ...   9.8475  11.4952  10.4029\n",
            "SAMc1b27bc16435  3.56082   9.1993  5.63238  ...   9.9633  10.9028  9.24281\n",
            "SAM85e41e7f33f9  3.88137  11.7038  9.27618  ...  9.56163     11.8  11.1349\n",
            "SAMf275eb859a39  4.90625  10.1602  7.49974  ...  10.2516   11.416  10.5975\n",
            "\n",
            "[5 rows x 17692 columns]\n"
          ],
          "name": "stdout"
        }
      ]
    },
    {
      "cell_type": "code",
      "metadata": {
        "id": "46SHR0UDVPYQ",
        "colab_type": "code",
        "colab": {
          "base_uri": "https://localhost:8080/",
          "height": 0
        },
        "outputId": "c14d90be-e4b2-4b87-b9f2-7447ae6a23c4"
      },
      "source": [
        "len(marker), len(marker.columns)"
      ],
      "execution_count": 10,
      "outputs": [
        {
          "output_type": "execute_result",
          "data": {
            "text/plain": [
              "(348, 17692)"
            ]
          },
          "metadata": {
            "tags": []
          },
          "execution_count": 10
        }
      ]
    },
    {
      "cell_type": "code",
      "metadata": {
        "id": "lzMC61rRTEbq",
        "colab_type": "code",
        "colab": {}
      },
      "source": [
        "target_column = 'Immune phenotype'"
      ],
      "execution_count": 11,
      "outputs": []
    },
    {
      "cell_type": "code",
      "metadata": {
        "id": "CgINWQFahNaA",
        "colab_type": "code",
        "colab": {
          "base_uri": "https://localhost:8080/",
          "height": 0
        },
        "outputId": "546dac9a-1b00-4b00-f898-b8f80c4a1868"
      },
      "source": [
        "## match non-digit labels to digits\n",
        "\n",
        "# data['Best Confirmed Overall Response'] = data['Best Confirmed Overall Response'].map({'CR':0, 'PR':1, 'SD':2, 'PD':3, 'NE':4})\n",
        "# data['Enrollment IC'] = data['Enrollment IC'].map({'IC0':0, 'IC1':1, 'IC2':2})\n",
        "\n",
        "# NA = -1 -> nan 빼고 해보기\n",
        "data['Immune phenotype'] = data['Immune phenotype'].map({'desert':0, 'inflamed':1, 'excluded':2})\n",
        "\n",
        "# data['Sex'] = data['Sex'].map({'M':0, 'F':1})\n",
        "# # NA = -1, rm 'NATIVE HAWAIIAN OR OTHER PACIFIC ISLANDER' since the number of it is 1\n",
        "# data['Race'] = data['Race'].map({'BLACK OF AFRICAN AMERICAN':0, 'ASIAN':1, 'WHITE':2,  'OTHER':4})\n",
        "# data['Race'] = data['Race'].fillna(-1)\n",
        "# data['Intravesical BCG administered'] = data['Intravesical BCG administered'].map({'N':0, 'Y':1})\n",
        "# data['Tobacco Use History'] = data['Tobacco Use History'].map({'NEVER':0, 'PREVIOUS':1, 'CURRENT':2})\n",
        "\n",
        "# # # replace NA to the mean of N, Y\n",
        "# # data['Met Disease Status'] = data['Met Disease Status'].map({'Liver':0, 'Visceral':1, 'LN Only':2, 'NA': -1})\n",
        "# data['Sample age'] = data['Sample age'].map({'(less than) 1 year':0, '1-2 years':1, 'more than 2 years':2})\n",
        "# data['Received platinum'] = data['Received platinum'].map({'N':0, 'Y':1})\n",
        "\n",
        "# # replace NA to the mean of N, Y\n",
        "# #data['Sample collected pre-platinum'] = data['Sample collected pre-platinum'].map({'N':0, 'Y':1, 'NA': 0.5})\n",
        "# data['Lund'] = data['Lund'].map({'MS1a':0, 'MS1b':1, 'MS2a1':2,'MS2a2':3, 'MS2b1':4, 'MS2b2.1':5, 'MS2b2.2':6})\n",
        "# data['Lund2'] = data['Lund2'].map({'UroA':0, 'UroB':1, 'Genomically unstable':3, 'Infiltrated':4, 'Basal/SCC-like':5})\n",
        "# data['TCGA Subtype'] = data['TCGA Subtype'].map({'I':0, 'II':1, 'III':2, 'IV':3})     \n",
        "\n",
        "# # replace NA to the mean of column \n",
        "# data['Neoantigen burden per MB'] = data['Neoantigen burden per MB'].fillna(data.mean()['Neoantigen burden per MB'])\n",
        "# # replace NA to the mean of column \n",
        "# data['FMOne mutation burden per MB'] = data['FMOne mutation burden per MB'].fillna(data.mean()['FMOne mutation burden per MB'])\n",
        "\n",
        "  \n",
        "\n",
        "print(data[target_column])\n"
      ],
      "execution_count": 12,
      "outputs": [
        {
          "output_type": "stream",
          "text": [
            "0      NaN\n",
            "1      2.0\n",
            "2      2.0\n",
            "3      1.0\n",
            "4      2.0\n",
            "      ... \n",
            "343    NaN\n",
            "344    NaN\n",
            "345    2.0\n",
            "346    NaN\n",
            "347    NaN\n",
            "Name: Immune phenotype, Length: 348, dtype: float64\n"
          ],
          "name": "stdout"
        }
      ]
    },
    {
      "cell_type": "code",
      "metadata": {
        "id": "mHnI5boniQCW",
        "colab_type": "code",
        "colab": {}
      },
      "source": [
        "if target_column in marker.columns:\n",
        "  marker = marker.drop(target_column, axis = 1)"
      ],
      "execution_count": 13,
      "outputs": []
    },
    {
      "cell_type": "code",
      "metadata": {
        "id": "H2DkbikajI03",
        "colab_type": "code",
        "colab": {
          "base_uri": "https://localhost:8080/",
          "height": 0
        },
        "outputId": "755f8fbb-39c6-40d3-b329-b2d4b2369f94"
      },
      "source": [
        "data.index = data['SampleID']\n",
        "marker.index.equals(data.index)"
      ],
      "execution_count": 14,
      "outputs": [
        {
          "output_type": "execute_result",
          "data": {
            "text/plain": [
              "True"
            ]
          },
          "metadata": {
            "tags": []
          },
          "execution_count": 14
        }
      ]
    },
    {
      "cell_type": "code",
      "metadata": {
        "id": "dq2E_2tecooP",
        "colab_type": "code",
        "colab": {
          "base_uri": "https://localhost:8080/",
          "height": 0
        },
        "outputId": "5425f428-a3de-4e6e-c452-661e09d06cd2"
      },
      "source": [
        "marker = marker.join(data[target_column])\n",
        "marker = marker.reset_index()\n",
        "marker = marker.rename(columns = {'index':'SampleID'}) \n",
        "marker.head()"
      ],
      "execution_count": 15,
      "outputs": [
        {
          "output_type": "execute_result",
          "data": {
            "text/html": [
              "<div>\n",
              "<style scoped>\n",
              "    .dataframe tbody tr th:only-of-type {\n",
              "        vertical-align: middle;\n",
              "    }\n",
              "\n",
              "    .dataframe tbody tr th {\n",
              "        vertical-align: top;\n",
              "    }\n",
              "\n",
              "    .dataframe thead th {\n",
              "        text-align: right;\n",
              "    }\n",
              "</style>\n",
              "<table border=\"1\" class=\"dataframe\">\n",
              "  <thead>\n",
              "    <tr style=\"text-align: right;\">\n",
              "      <th></th>\n",
              "      <th>SampleID</th>\n",
              "      <th>A1BG</th>\n",
              "      <th>ADA</th>\n",
              "      <th>CDH2</th>\n",
              "      <th>AKT3</th>\n",
              "      <th>POU5F1P5</th>\n",
              "      <th>ZBTB11-AS1</th>\n",
              "      <th>MED6</th>\n",
              "      <th>NR2E3</th>\n",
              "      <th>NAALAD2</th>\n",
              "      <th>SNORD116-1</th>\n",
              "      <th>SNORD116-2</th>\n",
              "      <th>SNORD116-6</th>\n",
              "      <th>SNORD116-8</th>\n",
              "      <th>SNORD116-14</th>\n",
              "      <th>SNORD116-15</th>\n",
              "      <th>SNORD116-16</th>\n",
              "      <th>SNORD116-20</th>\n",
              "      <th>SNORD116-21</th>\n",
              "      <th>SNORD116-22</th>\n",
              "      <th>SNORD116-23</th>\n",
              "      <th>SNORD116-24</th>\n",
              "      <th>SNORD116-25</th>\n",
              "      <th>SNORD116-26</th>\n",
              "      <th>DDTL</th>\n",
              "      <th>NAALADL1</th>\n",
              "      <th>CDKN2B-AS1</th>\n",
              "      <th>SIGLEC14</th>\n",
              "      <th>ACOT8</th>\n",
              "      <th>ABI1</th>\n",
              "      <th>GNPDA1</th>\n",
              "      <th>KCNE3</th>\n",
              "      <th>ZBTB33</th>\n",
              "      <th>GTF2IP4</th>\n",
              "      <th>CDH3</th>\n",
              "      <th>TANK</th>\n",
              "      <th>POM121C</th>\n",
              "      <th>ZSCAN30</th>\n",
              "      <th>MCTS2P</th>\n",
              "      <th>SRA1</th>\n",
              "      <th>...</th>\n",
              "      <th>CDC25C</th>\n",
              "      <th>GOLGA5</th>\n",
              "      <th>HS3ST3B1</th>\n",
              "      <th>HS3ST3A1</th>\n",
              "      <th>HS3ST2</th>\n",
              "      <th>HS3ST1</th>\n",
              "      <th>USP15</th>\n",
              "      <th>CDC27</th>\n",
              "      <th>USP3</th>\n",
              "      <th>MVP</th>\n",
              "      <th>SLC23A2</th>\n",
              "      <th>SLC23A1</th>\n",
              "      <th>TNFSF15</th>\n",
              "      <th>THRAP3</th>\n",
              "      <th>MED12</th>\n",
              "      <th>MED13</th>\n",
              "      <th>CDC34</th>\n",
              "      <th>NR1H4</th>\n",
              "      <th>NUP153</th>\n",
              "      <th>CCS</th>\n",
              "      <th>NR1D2</th>\n",
              "      <th>CLEC2B</th>\n",
              "      <th>RBX1</th>\n",
              "      <th>CDC42</th>\n",
              "      <th>DOP1B</th>\n",
              "      <th>FGFBP1</th>\n",
              "      <th>THOC1</th>\n",
              "      <th>REC8</th>\n",
              "      <th>RCE1</th>\n",
              "      <th>HNRNPDL</th>\n",
              "      <th>DMTF1</th>\n",
              "      <th>PPP4R1</th>\n",
              "      <th>CDH1</th>\n",
              "      <th>SLC12A6</th>\n",
              "      <th>PTBP3</th>\n",
              "      <th>KCNE2</th>\n",
              "      <th>DGCR2</th>\n",
              "      <th>CASP8AP2</th>\n",
              "      <th>SCO2</th>\n",
              "      <th>Immune phenotype</th>\n",
              "    </tr>\n",
              "  </thead>\n",
              "  <tbody>\n",
              "    <tr>\n",
              "      <th>0</th>\n",
              "      <td>SAMf2ce197162ce</td>\n",
              "      <td>3.97148</td>\n",
              "      <td>10.2378</td>\n",
              "      <td>9.12886</td>\n",
              "      <td>10.7241</td>\n",
              "      <td>7.3897</td>\n",
              "      <td>1.97723</td>\n",
              "      <td>9.09632</td>\n",
              "      <td>3.4958</td>\n",
              "      <td>5.62838</td>\n",
              "      <td>7.31183</td>\n",
              "      <td>1.30374</td>\n",
              "      <td>5.93584</td>\n",
              "      <td>0</td>\n",
              "      <td>3.58678</td>\n",
              "      <td>4.57074</td>\n",
              "      <td>2.22395</td>\n",
              "      <td>5.39654</td>\n",
              "      <td>1.67944</td>\n",
              "      <td>4.88944</td>\n",
              "      <td>8.22823</td>\n",
              "      <td>9.25732</td>\n",
              "      <td>4.1006</td>\n",
              "      <td>3.58678</td>\n",
              "      <td>4.88944</td>\n",
              "      <td>5.49379</td>\n",
              "      <td>3.06064</td>\n",
              "      <td>5.91843</td>\n",
              "      <td>6.54731</td>\n",
              "      <td>11.8771</td>\n",
              "      <td>9.37369</td>\n",
              "      <td>7.51662</td>\n",
              "      <td>11.212</td>\n",
              "      <td>8.36947</td>\n",
              "      <td>12.9403</td>\n",
              "      <td>11.2477</td>\n",
              "      <td>10.4892</td>\n",
              "      <td>7.3897</td>\n",
              "      <td>7.3897</td>\n",
              "      <td>8.57512</td>\n",
              "      <td>...</td>\n",
              "      <td>8.09896</td>\n",
              "      <td>11.478</td>\n",
              "      <td>3.97148</td>\n",
              "      <td>1.67944</td>\n",
              "      <td>4.57074</td>\n",
              "      <td>7.35776</td>\n",
              "      <td>11.3895</td>\n",
              "      <td>10.9476</td>\n",
              "      <td>11.6579</td>\n",
              "      <td>10.884</td>\n",
              "      <td>11.4909</td>\n",
              "      <td>0.794389</td>\n",
              "      <td>5.39654</td>\n",
              "      <td>12.3514</td>\n",
              "      <td>13.1151</td>\n",
              "      <td>13.7472</td>\n",
              "      <td>9.89811</td>\n",
              "      <td>6.93271</td>\n",
              "      <td>13.7003</td>\n",
              "      <td>7.9484</td>\n",
              "      <td>11.3045</td>\n",
              "      <td>9.71611</td>\n",
              "      <td>10.6462</td>\n",
              "      <td>10.8268</td>\n",
              "      <td>12.176</td>\n",
              "      <td>3.18234</td>\n",
              "      <td>10.739</td>\n",
              "      <td>7.26438</td>\n",
              "      <td>8.34687</td>\n",
              "      <td>13.3753</td>\n",
              "      <td>11.5898</td>\n",
              "      <td>12.1645</td>\n",
              "      <td>15.7093</td>\n",
              "      <td>12.7483</td>\n",
              "      <td>13.4474</td>\n",
              "      <td>2.61833</td>\n",
              "      <td>9.76685</td>\n",
              "      <td>11.1387</td>\n",
              "      <td>10.2317</td>\n",
              "      <td>NaN</td>\n",
              "    </tr>\n",
              "    <tr>\n",
              "      <th>1</th>\n",
              "      <td>SAM698d8d76b934</td>\n",
              "      <td>6.19179</td>\n",
              "      <td>10.3348</td>\n",
              "      <td>13.7274</td>\n",
              "      <td>11.8855</td>\n",
              "      <td>5.76731</td>\n",
              "      <td>1.77834</td>\n",
              "      <td>9.5023</td>\n",
              "      <td>2.08421</td>\n",
              "      <td>4.70671</td>\n",
              "      <td>8.59474</td>\n",
              "      <td>2.55106</td>\n",
              "      <td>6.64144</td>\n",
              "      <td>3.05154</td>\n",
              "      <td>5.06196</td>\n",
              "      <td>4.03492</td>\n",
              "      <td>2.08421</td>\n",
              "      <td>6.79668</td>\n",
              "      <td>3.52749</td>\n",
              "      <td>5.76731</td>\n",
              "      <td>9.38659</td>\n",
              "      <td>10.162</td>\n",
              "      <td>5.09653</td>\n",
              "      <td>5.06196</td>\n",
              "      <td>4.91475</td>\n",
              "      <td>5.83029</td>\n",
              "      <td>2.73785</td>\n",
              "      <td>6.79668</td>\n",
              "      <td>6.17571</td>\n",
              "      <td>11.2499</td>\n",
              "      <td>9.61986</td>\n",
              "      <td>5.48368</td>\n",
              "      <td>10.9472</td>\n",
              "      <td>8.09806</td>\n",
              "      <td>11.7468</td>\n",
              "      <td>10.5575</td>\n",
              "      <td>10.8127</td>\n",
              "      <td>8.34448</td>\n",
              "      <td>6.78613</td>\n",
              "      <td>8.94704</td>\n",
              "      <td>...</td>\n",
              "      <td>8.45185</td>\n",
              "      <td>11.6639</td>\n",
              "      <td>2.73785</td>\n",
              "      <td>2.33644</td>\n",
              "      <td>8.20094</td>\n",
              "      <td>5.53499</td>\n",
              "      <td>11.3293</td>\n",
              "      <td>11.0412</td>\n",
              "      <td>10.4973</td>\n",
              "      <td>11.462</td>\n",
              "      <td>9.473</td>\n",
              "      <td>2.08421</td>\n",
              "      <td>4.66125</td>\n",
              "      <td>13.0605</td>\n",
              "      <td>12.9927</td>\n",
              "      <td>12.7929</td>\n",
              "      <td>10.7407</td>\n",
              "      <td>1.38968</td>\n",
              "      <td>13.4348</td>\n",
              "      <td>8.98674</td>\n",
              "      <td>9.88259</td>\n",
              "      <td>8.48158</td>\n",
              "      <td>10.9961</td>\n",
              "      <td>10.8606</td>\n",
              "      <td>11.704</td>\n",
              "      <td>0</td>\n",
              "      <td>11.0561</td>\n",
              "      <td>9.30764</td>\n",
              "      <td>8.30807</td>\n",
              "      <td>12.5417</td>\n",
              "      <td>12.284</td>\n",
              "      <td>11.7372</td>\n",
              "      <td>13.5991</td>\n",
              "      <td>11.7458</td>\n",
              "      <td>12.0886</td>\n",
              "      <td>3.05154</td>\n",
              "      <td>9.8475</td>\n",
              "      <td>11.4952</td>\n",
              "      <td>10.4029</td>\n",
              "      <td>2.0</td>\n",
              "    </tr>\n",
              "    <tr>\n",
              "      <th>2</th>\n",
              "      <td>SAMc1b27bc16435</td>\n",
              "      <td>3.56082</td>\n",
              "      <td>9.1993</td>\n",
              "      <td>5.63238</td>\n",
              "      <td>9.97882</td>\n",
              "      <td>6.66971</td>\n",
              "      <td>3.32203</td>\n",
              "      <td>9.37385</td>\n",
              "      <td>1.4855</td>\n",
              "      <td>2.67817</td>\n",
              "      <td>8.15695</td>\n",
              "      <td>5.46609</td>\n",
              "      <td>7.31662</td>\n",
              "      <td>1.4855</td>\n",
              "      <td>5.34352</td>\n",
              "      <td>5.52367</td>\n",
              "      <td>4.80746</td>\n",
              "      <td>6.44967</td>\n",
              "      <td>0</td>\n",
              "      <td>6.56388</td>\n",
              "      <td>8.9118</td>\n",
              "      <td>9.17254</td>\n",
              "      <td>5.06189</td>\n",
              "      <td>5.06189</td>\n",
              "      <td>6.00011</td>\n",
              "      <td>3.03572</td>\n",
              "      <td>1.4855</td>\n",
              "      <td>6.25938</td>\n",
              "      <td>7.4414</td>\n",
              "      <td>11.5368</td>\n",
              "      <td>9.45749</td>\n",
              "      <td>6.47908</td>\n",
              "      <td>11.7335</td>\n",
              "      <td>8.96474</td>\n",
              "      <td>10.8795</td>\n",
              "      <td>11.4194</td>\n",
              "      <td>10.5753</td>\n",
              "      <td>6.59107</td>\n",
              "      <td>6.74427</td>\n",
              "      <td>8.13864</td>\n",
              "      <td>...</td>\n",
              "      <td>8.21054</td>\n",
              "      <td>11.9173</td>\n",
              "      <td>2.20172</td>\n",
              "      <td>2.20172</td>\n",
              "      <td>3.03572</td>\n",
              "      <td>7.92017</td>\n",
              "      <td>11.6381</td>\n",
              "      <td>11.3752</td>\n",
              "      <td>12.2196</td>\n",
              "      <td>10.6882</td>\n",
              "      <td>12.2071</td>\n",
              "      <td>5.4061</td>\n",
              "      <td>5.91659</td>\n",
              "      <td>12.7454</td>\n",
              "      <td>13.22</td>\n",
              "      <td>13.8861</td>\n",
              "      <td>10.8878</td>\n",
              "      <td>4.80746</td>\n",
              "      <td>12.7835</td>\n",
              "      <td>7.67536</td>\n",
              "      <td>11.7918</td>\n",
              "      <td>8.64613</td>\n",
              "      <td>10.6156</td>\n",
              "      <td>11.7456</td>\n",
              "      <td>12.3472</td>\n",
              "      <td>0</td>\n",
              "      <td>10.2373</td>\n",
              "      <td>7.30024</td>\n",
              "      <td>7.98311</td>\n",
              "      <td>12.9666</td>\n",
              "      <td>11.4569</td>\n",
              "      <td>11.3791</td>\n",
              "      <td>15.5232</td>\n",
              "      <td>11.8236</td>\n",
              "      <td>13.9629</td>\n",
              "      <td>0</td>\n",
              "      <td>9.9633</td>\n",
              "      <td>10.9028</td>\n",
              "      <td>9.24281</td>\n",
              "      <td>2.0</td>\n",
              "    </tr>\n",
              "    <tr>\n",
              "      <th>3</th>\n",
              "      <td>SAM85e41e7f33f9</td>\n",
              "      <td>3.88137</td>\n",
              "      <td>11.7038</td>\n",
              "      <td>9.27618</td>\n",
              "      <td>11.1349</td>\n",
              "      <td>6.1579</td>\n",
              "      <td>2.14869</td>\n",
              "      <td>9.15104</td>\n",
              "      <td>2.14869</td>\n",
              "      <td>4.37483</td>\n",
              "      <td>5.17796</td>\n",
              "      <td>1.83822</td>\n",
              "      <td>4.25019</td>\n",
              "      <td>0</td>\n",
              "      <td>1.44208</td>\n",
              "      <td>2.14869</td>\n",
              "      <td>0</td>\n",
              "      <td>4.18359</td>\n",
              "      <td>0.894188</td>\n",
              "      <td>2.97609</td>\n",
              "      <td>6.45475</td>\n",
              "      <td>7.85234</td>\n",
              "      <td>2.62091</td>\n",
              "      <td>0.894188</td>\n",
              "      <td>0</td>\n",
              "      <td>3.96307</td>\n",
              "      <td>3.26087</td>\n",
              "      <td>7.46765</td>\n",
              "      <td>7.03894</td>\n",
              "      <td>11.7277</td>\n",
              "      <td>9.04951</td>\n",
              "      <td>5.89196</td>\n",
              "      <td>10.9337</td>\n",
              "      <td>8.06153</td>\n",
              "      <td>15.0576</td>\n",
              "      <td>11.6926</td>\n",
              "      <td>10.9132</td>\n",
              "      <td>8.58143</td>\n",
              "      <td>6.64003</td>\n",
              "      <td>8.98985</td>\n",
              "      <td>...</td>\n",
              "      <td>8.31591</td>\n",
              "      <td>11.5379</td>\n",
              "      <td>4.04038</td>\n",
              "      <td>3.79478</td>\n",
              "      <td>4.43333</td>\n",
              "      <td>6.56352</td>\n",
              "      <td>11.9468</td>\n",
              "      <td>11.3846</td>\n",
              "      <td>10.735</td>\n",
              "      <td>12.0241</td>\n",
              "      <td>8.93776</td>\n",
              "      <td>2.97609</td>\n",
              "      <td>6.53708</td>\n",
              "      <td>12.8946</td>\n",
              "      <td>12.8183</td>\n",
              "      <td>13.1813</td>\n",
              "      <td>9.78585</td>\n",
              "      <td>5.27712</td>\n",
              "      <td>13.4875</td>\n",
              "      <td>8.36933</td>\n",
              "      <td>9.70505</td>\n",
              "      <td>10.8748</td>\n",
              "      <td>10.624</td>\n",
              "      <td>10.7878</td>\n",
              "      <td>11.3934</td>\n",
              "      <td>8.60389</td>\n",
              "      <td>11.0416</td>\n",
              "      <td>9.57793</td>\n",
              "      <td>9.00198</td>\n",
              "      <td>12.6481</td>\n",
              "      <td>12.1515</td>\n",
              "      <td>12.3973</td>\n",
              "      <td>15.1202</td>\n",
              "      <td>13.0617</td>\n",
              "      <td>12.9823</td>\n",
              "      <td>2.62091</td>\n",
              "      <td>9.56163</td>\n",
              "      <td>11.8</td>\n",
              "      <td>11.1349</td>\n",
              "      <td>1.0</td>\n",
              "    </tr>\n",
              "    <tr>\n",
              "      <th>4</th>\n",
              "      <td>SAMf275eb859a39</td>\n",
              "      <td>4.90625</td>\n",
              "      <td>10.1602</td>\n",
              "      <td>7.49974</td>\n",
              "      <td>9.62024</td>\n",
              "      <td>6.76629</td>\n",
              "      <td>1.88613</td>\n",
              "      <td>9.12538</td>\n",
              "      <td>3.71523</td>\n",
              "      <td>5.79708</td>\n",
              "      <td>8.12622</td>\n",
              "      <td>2.82109</td>\n",
              "      <td>5.50751</td>\n",
              "      <td>4.2631</td>\n",
              "      <td>5.14484</td>\n",
              "      <td>4.36101</td>\n",
              "      <td>3.474</td>\n",
              "      <td>6.42522</td>\n",
              "      <td>0</td>\n",
              "      <td>5.46411</td>\n",
              "      <td>8.93584</td>\n",
              "      <td>9.34167</td>\n",
              "      <td>4.53888</td>\n",
              "      <td>4.77031</td>\n",
              "      <td>0</td>\n",
              "      <td>4.45268</td>\n",
              "      <td>3.073</td>\n",
              "      <td>5.14484</td>\n",
              "      <td>6.12431</td>\n",
              "      <td>12.0255</td>\n",
              "      <td>10.8691</td>\n",
              "      <td>5.83165</td>\n",
              "      <td>11.1274</td>\n",
              "      <td>9.25041</td>\n",
              "      <td>12.9814</td>\n",
              "      <td>12.0055</td>\n",
              "      <td>10.701</td>\n",
              "      <td>7.97208</td>\n",
              "      <td>6.73011</td>\n",
              "      <td>8.78306</td>\n",
              "      <td>...</td>\n",
              "      <td>6.37923</td>\n",
              "      <td>12.2804</td>\n",
              "      <td>3.63921</td>\n",
              "      <td>0</td>\n",
              "      <td>2.67646</td>\n",
              "      <td>9.09547</td>\n",
              "      <td>12.0987</td>\n",
              "      <td>11.1265</td>\n",
              "      <td>11.3188</td>\n",
              "      <td>12.1944</td>\n",
              "      <td>12.4287</td>\n",
              "      <td>3.18417</td>\n",
              "      <td>8.66583</td>\n",
              "      <td>12.7132</td>\n",
              "      <td>12.5897</td>\n",
              "      <td>13.3354</td>\n",
              "      <td>9.63744</td>\n",
              "      <td>2.67646</td>\n",
              "      <td>12.9693</td>\n",
              "      <td>8.04386</td>\n",
              "      <td>11.8697</td>\n",
              "      <td>12.2113</td>\n",
              "      <td>10.6119</td>\n",
              "      <td>11.4677</td>\n",
              "      <td>11.5236</td>\n",
              "      <td>3.18417</td>\n",
              "      <td>10.7544</td>\n",
              "      <td>9.09369</td>\n",
              "      <td>7.83399</td>\n",
              "      <td>13.2014</td>\n",
              "      <td>12.3724</td>\n",
              "      <td>12.4545</td>\n",
              "      <td>15.2666</td>\n",
              "      <td>13.831</td>\n",
              "      <td>13.0864</td>\n",
              "      <td>2.12781</td>\n",
              "      <td>10.2516</td>\n",
              "      <td>11.416</td>\n",
              "      <td>10.5975</td>\n",
              "      <td>2.0</td>\n",
              "    </tr>\n",
              "  </tbody>\n",
              "</table>\n",
              "<p>5 rows × 17694 columns</p>\n",
              "</div>"
            ],
            "text/plain": [
              "          SampleID     A1BG      ADA  ... CASP8AP2     SCO2 Immune phenotype\n",
              "0  SAMf2ce197162ce  3.97148  10.2378  ...  11.1387  10.2317              NaN\n",
              "1  SAM698d8d76b934  6.19179  10.3348  ...  11.4952  10.4029              2.0\n",
              "2  SAMc1b27bc16435  3.56082   9.1993  ...  10.9028  9.24281              2.0\n",
              "3  SAM85e41e7f33f9  3.88137  11.7038  ...     11.8  11.1349              1.0\n",
              "4  SAMf275eb859a39  4.90625  10.1602  ...   11.416  10.5975              2.0\n",
              "\n",
              "[5 rows x 17694 columns]"
            ]
          },
          "metadata": {
            "tags": []
          },
          "execution_count": 15
        }
      ]
    },
    {
      "cell_type": "code",
      "metadata": {
        "id": "Duad5FAdmW3V",
        "colab_type": "code",
        "colab": {
          "base_uri": "https://localhost:8080/",
          "height": 0
        },
        "outputId": "0061d43d-624b-4b17-cdf5-3da9adae713b"
      },
      "source": [
        "marker.index"
      ],
      "execution_count": 16,
      "outputs": [
        {
          "output_type": "execute_result",
          "data": {
            "text/plain": [
              "RangeIndex(start=0, stop=348, step=1)"
            ]
          },
          "metadata": {
            "tags": []
          },
          "execution_count": 16
        }
      ]
    },
    {
      "cell_type": "code",
      "metadata": {
        "id": "bDkXbL_7iT_P",
        "colab_type": "code",
        "colab": {
          "base_uri": "https://localhost:8080/",
          "height": 0
        },
        "outputId": "6661a22a-e74d-42d4-f246-9105951f9b03"
      },
      "source": [
        "marker = marker.dropna(axis=0)\n",
        "marker.shape"
      ],
      "execution_count": 17,
      "outputs": [
        {
          "output_type": "execute_result",
          "data": {
            "text/plain": [
              "(284, 17694)"
            ]
          },
          "metadata": {
            "tags": []
          },
          "execution_count": 17
        }
      ]
    },
    {
      "cell_type": "code",
      "metadata": {
        "id": "pMWy9jjqjIxb",
        "colab_type": "code",
        "colab": {
          "base_uri": "https://localhost:8080/",
          "height": 0
        },
        "outputId": "c074adeb-897c-4a45-931e-ad63d9ef4ac5"
      },
      "source": [
        "marker.reset_index(inplace=True, drop=True)\n",
        "marker.index"
      ],
      "execution_count": 18,
      "outputs": [
        {
          "output_type": "execute_result",
          "data": {
            "text/plain": [
              "RangeIndex(start=0, stop=284, step=1)"
            ]
          },
          "metadata": {
            "tags": []
          },
          "execution_count": 18
        }
      ]
    },
    {
      "cell_type": "code",
      "metadata": {
        "id": "1t2VTkGlmVuJ",
        "colab_type": "code",
        "colab": {
          "base_uri": "https://localhost:8080/",
          "height": 0
        },
        "outputId": "a9115109-24fc-4f2f-d661-7651a7de4745"
      },
      "source": [
        "######17694 check\n",
        "marker.shape"
      ],
      "execution_count": 19,
      "outputs": [
        {
          "output_type": "execute_result",
          "data": {
            "text/plain": [
              "(284, 17694)"
            ]
          },
          "metadata": {
            "tags": []
          },
          "execution_count": 19
        }
      ]
    },
    {
      "cell_type": "code",
      "metadata": {
        "id": "Q5pg4s1picsV",
        "colab_type": "code",
        "colab": {
          "base_uri": "https://localhost:8080/",
          "height": 0
        },
        "outputId": "87cb09f6-c4ea-43e0-a007-e30d6ef8b774"
      },
      "source": [
        "# split train and test data\n",
        "# 5-fold cross validation\n",
        "\n",
        "train_list = []\n",
        "test_list = []\n",
        "\n",
        "from sklearn.model_selection import StratifiedKFold\n",
        "fold = StratifiedKFold(n_splits=5, shuffle=False, random_state=1004)\n",
        "\n",
        "for train_idx, test_idx in fold.split(marker, marker[target_column]):\n",
        "    # print(\"TRAIN:\", train_idx, \"\\nTEST:\", test_idx)\n",
        "    train_list.append(marker.loc[train_idx])\n",
        "    test_list.append(marker.loc[test_idx])\n",
        "\n",
        "print(len(train_list), len(test_list))"
      ],
      "execution_count": 20,
      "outputs": [
        {
          "output_type": "stream",
          "text": [
            "/usr/local/lib/python3.6/dist-packages/sklearn/model_selection/_split.py:296: FutureWarning: Setting a random_state has no effect since shuffle is False. This will raise an error in 0.24. You should leave random_state to its default (None), or set shuffle=True.\n",
            "  FutureWarning\n"
          ],
          "name": "stderr"
        },
        {
          "output_type": "stream",
          "text": [
            "5 5\n"
          ],
          "name": "stdout"
        }
      ]
    },
    {
      "cell_type": "code",
      "metadata": {
        "id": "tZXlDXTo3NQN",
        "colab_type": "code",
        "colab": {
          "base_uri": "https://localhost:8080/",
          "height": 0
        },
        "outputId": "6eb179b6-5476-4548-acea-c0e804af5328"
      },
      "source": [
        "# groupby 1 df\n",
        "\n",
        "print(train_list[0].groupby(target_column).size())\n",
        "print(test_list[0].groupby(target_column).size()) "
      ],
      "execution_count": 21,
      "outputs": [
        {
          "output_type": "stream",
          "text": [
            "Immune phenotype\n",
            "0.0     61\n",
            "1.0     59\n",
            "2.0    107\n",
            "dtype: int64\n",
            "Immune phenotype\n",
            "0.0    15\n",
            "1.0    15\n",
            "2.0    27\n",
            "dtype: int64\n"
          ],
          "name": "stdout"
        }
      ]
    },
    {
      "cell_type": "code",
      "metadata": {
        "id": "HAiCZxYRnaZR",
        "colab_type": "code",
        "colab": {
          "base_uri": "https://localhost:8080/",
          "height": 0
        },
        "outputId": "2786c90e-c2c1-48b7-f658-996e0203aadf"
      },
      "source": [
        "# check the average number of total 5 training data per class\n",
        "total_train = pd.concat([train_list[0], train_list[1], train_list[2], train_list[3], train_list[4]], axis=0, ignore_index=True)\n",
        "print(total_train.groupby(target_column).size())\n",
        "print('\\n', total_train.groupby(target_column).size()/5)"
      ],
      "execution_count": 22,
      "outputs": [
        {
          "output_type": "stream",
          "text": [
            "Immune phenotype\n",
            "0.0    304\n",
            "1.0    296\n",
            "2.0    536\n",
            "dtype: int64\n",
            "\n",
            " Immune phenotype\n",
            "0.0     60.8\n",
            "1.0     59.2\n",
            "2.0    107.2\n",
            "dtype: float64\n"
          ],
          "name": "stdout"
        }
      ]
    },
    {
      "cell_type": "code",
      "metadata": {
        "id": "mAu8j7eamQp_",
        "colab_type": "code",
        "colab": {
          "base_uri": "https://localhost:8080/",
          "height": 0
        },
        "outputId": "ec3f348f-38ac-40fb-b8f5-92ff452ac51a"
      },
      "source": [
        "# check the average number of total 5 test data per class\n",
        "total_test = pd.concat([test_list[0], test_list[1], test_list[2], test_list[3], test_list[4]], axis=0, ignore_index=True)\n",
        "print(total_test.groupby(target_column).size())\n",
        "print('\\n', total_test.groupby(target_column).size()/5)"
      ],
      "execution_count": 23,
      "outputs": [
        {
          "output_type": "stream",
          "text": [
            "Immune phenotype\n",
            "0.0     76\n",
            "1.0     74\n",
            "2.0    134\n",
            "dtype: int64\n",
            "\n",
            " Immune phenotype\n",
            "0.0    15.2\n",
            "1.0    14.8\n",
            "2.0    26.8\n",
            "dtype: float64\n"
          ],
          "name": "stdout"
        }
      ]
    },
    {
      "cell_type": "code",
      "metadata": {
        "id": "2f3C3dn4584-",
        "colab_type": "code",
        "colab": {}
      },
      "source": [
        "from sklearn.preprocessing import LabelEncoder\n",
        "encoder =  LabelEncoder()"
      ],
      "execution_count": 24,
      "outputs": []
    },
    {
      "cell_type": "code",
      "metadata": {
        "id": "2beh0JNx6iN-",
        "colab_type": "code",
        "colab": {}
      },
      "source": [
        "x_train_list, x_test_list, y_train_list, y_test_list = [], [], [], []\n",
        "decoded_y_train_list, decoded_y_test_list = [], []"
      ],
      "execution_count": 25,
      "outputs": []
    },
    {
      "cell_type": "code",
      "metadata": {
        "id": "bDa6ilfFS7F8",
        "colab_type": "code",
        "colab": {
          "base_uri": "https://localhost:8080/",
          "height": 0
        },
        "outputId": "4d0c2fc2-fe78-4cd2-9923-f63a23802fed"
      },
      "source": [
        "for (train, test) in zip(train_list, test_list): \n",
        "  decoded_y_train = train[target_column]\n",
        "  Y = encoder.fit_transform(decoded_y_train)\n",
        "  y_train = pd.get_dummies(Y).values\n",
        "\n",
        "  decoded_y_test = test[target_column]\n",
        "  Y = encoder.fit_transform(decoded_y_test)\n",
        "  y_test = pd.get_dummies(Y).values\n",
        "\n",
        "  x_train = train.drop([target_column], axis = 1)\n",
        "  x_test = test.drop([target_column], axis = 1)\n",
        "\n",
        "  features = marker.columns.tolist()\n",
        "  features.remove(target_column)\n",
        "  features.remove('SampleID')\n",
        "\n",
        "  x_train.set_index(x_train['SampleID'], inplace=True, drop=True)\n",
        "  x_test.set_index(x_test['SampleID'], inplace=True, drop=True)\n",
        "\n",
        "  x_train.drop(['SampleID'], axis=1, inplace=True)\n",
        "  x_test.drop(['SampleID'], axis=1, inplace=True)\n",
        "  x_train.reset_index(drop=True, inplace=True)\n",
        "  x_test.reset_index(drop=True, inplace=True)\n",
        "\n",
        "  x_test = np.asarray(x_test).astype(np.float32)\n",
        "  x_train = np.asarray(x_train).astype(np.float32)\n",
        "\n",
        "  x_train_list.append(x_train)\n",
        "  x_test_list.append(x_test)\n",
        "  y_train_list.append(y_train)\n",
        "  y_test_list.append(y_test)\n",
        "  decoded_y_train_list.append(decoded_y_train)\n",
        "  decoded_y_test_list.append(decoded_y_test)"
      ],
      "execution_count": 26,
      "outputs": [
        {
          "output_type": "stream",
          "text": [
            "/usr/local/lib/python3.6/dist-packages/pandas/core/frame.py:3997: SettingWithCopyWarning: \n",
            "A value is trying to be set on a copy of a slice from a DataFrame\n",
            "\n",
            "See the caveats in the documentation: https://pandas.pydata.org/pandas-docs/stable/user_guide/indexing.html#returning-a-view-versus-a-copy\n",
            "  errors=errors,\n"
          ],
          "name": "stderr"
        }
      ]
    },
    {
      "cell_type": "code",
      "metadata": {
        "id": "1qZKqIRkU_Bk",
        "colab_type": "code",
        "colab": {}
      },
      "source": [
        "from keras import backend as K\n",
        "import tensorflow as tf\n",
        "\n",
        "def result(one_pred, y_test):\n",
        "  acc, rec, pre = [], [], []\n",
        "  \n",
        "  \"\"\"total Accuracy\"\"\"\n",
        "  total_acc = K.sum(one_pred[:,:] * y_test[:,:])/y_test.shape[0]\n",
        "\n",
        "  for target_class in range(y_test.shape[1]):\n",
        "    \"\"\"RECALL per class\"\"\"\n",
        "\n",
        "    tp = K.sum(one_pred[:, target_class] * y_test[:, target_class])  #dtype=float32\n",
        "    tpfn = tf.cast(K.sum(y_test[:, target_class]), tf.float32)  #uint8 to float32\n",
        "\n",
        "    # Recall =  (True Positive) / (True Positive + False Negative)\n",
        "    recall = tp / (tpfn + K.epsilon())\n",
        "\n",
        "    \"\"\"PRECISION per class\"\"\"\n",
        "\n",
        "    tpfp = tf.cast(K.sum(one_pred[:, target_class]), tf.float32)\n",
        "\n",
        "    # Precision = (True Positive) / (True Positive + False Positive)\n",
        "    precision = tp / (tpfp + K.epsilon())\n",
        "\n",
        "    \"\"\"Accuracy per class\"\"\"\n",
        "    tn = np.sum((one_pred[:, target_class]==0) * (y_test[:, target_class]==0).T)\n",
        "\n",
        "    accuracy = (tp + tn)/(tpfn + tpfp - tp + tn)\n",
        "\n",
        "    acc.append(accuracy)\n",
        "    rec.append(recall)\n",
        "    pre.append(precision)\n",
        "\n",
        "    print(\"\\nclass: \", target_class)\n",
        "    print(\"tp: \", tp)\n",
        "    print(\"tp+fn: \", tpfn)\n",
        "    print(\"tp+fp: \", tpfp)\n",
        "\n",
        "    tf.print(\"Accuracy = {:.3f}\".format(accuracy))\n",
        "    tf.print(\"Recall = {:.3f}\".format(recall))\n",
        "    tf.print(\"Precision = {:.3f} \".format(precision))\n",
        "\n",
        "  return acc, rec, pre, total_acc"
      ],
      "execution_count": 27,
      "outputs": []
    },
    {
      "cell_type": "markdown",
      "metadata": {
        "id": "t1YoXxZQDKmE",
        "colab_type": "text"
      },
      "source": [
        "# **Neural Networks**"
      ]
    },
    {
      "cell_type": "code",
      "metadata": {
        "id": "yfiOn9Ip7rOs",
        "colab_type": "code",
        "colab": {}
      },
      "source": [
        "one_pred_list = []"
      ],
      "execution_count": 39,
      "outputs": []
    },
    {
      "cell_type": "code",
      "metadata": {
        "id": "_aRNcR30s20H",
        "colab_type": "code",
        "colab": {
          "base_uri": "https://localhost:8080/",
          "height": 423
        },
        "outputId": "7256ec49-57b2-45b1-f3e2-67c436cfd7cb"
      },
      "source": [
        "from keras.models import Sequential\n",
        "from keras.layers import Dense, Dropout\n",
        "from keras.optimizers import Adam\n",
        "from keras import regularizers\n",
        "from keras.callbacks import EarlyStopping\n",
        "%matplotlib inline\n",
        "\n",
        "# EarlyStopping = EarlyStopping(monitor='val_loss', patience=20)\n",
        "\n",
        "for (x_train, x_test, y_train, y_test) in zip(x_train_list, x_test_list, y_train_list, y_test_list):\n",
        "  model = Sequential()\n",
        "\n",
        "  model.add(Dense(y_train.shape[1], input_shape=(len(features),), activation='softmax'))\n",
        "\n",
        "  opt = Adam(learning_rate=0.00001)\n",
        "  model.compile(loss='categorical_crossentropy', \n",
        "                optimizer=opt, \n",
        "                metrics=['accuracy']) \n",
        "\n",
        "\n",
        "  # model.summary()\n",
        "\n",
        "  hist = model.fit(x_train, y_train, validation_data=(x_test, y_test), epochs=500, verbose=0)\n",
        "\n",
        "  # plt.figure(figsize=(12,8))\n",
        "  # plt.plot(hist.history['loss'])\n",
        "  # plt.plot(hist.history['val_loss'])\n",
        "  # plt.plot(hist.history['accuracy'])\n",
        "  # plt.plot(hist.history['val_accuracy'])\n",
        "  # plt.legend(['loss','val_loss', 'acc','val_acc'])\n",
        "  # plt.grid()\n",
        "  # plt.show()\n",
        "\n",
        "  loss, accuracy = model.evaluate(x_test, y_test)\n",
        "  print(\"Accuracy = {:.3f}\".format(accuracy))\n",
        "\n",
        "  prediction = model.predict(x_test, verbose=1)\n",
        "  one_pred = np.zeros_like(prediction)\n",
        "  # one hot encoding of prediction\n",
        "  one_pred[np.arange(len(prediction)), prediction.argmax(1)] = 1\n",
        "  one_pred_list.append(one_pred)"
      ],
      "execution_count": 40,
      "outputs": [
        {
          "output_type": "stream",
          "text": [
            "1/2 [==============>...............] - ETA: 0s - loss: 1.3280 - accuracy: 0.5938WARNING:tensorflow:Callbacks method `on_test_batch_end` is slow compared to the batch time (batch time: 0.0031s vs `on_test_batch_end` time: 0.0061s). Check your callbacks.\n",
            "2/2 [==============================] - 0s 7ms/step - loss: 1.4269 - accuracy: 0.5614\n",
            "Accuracy = 0.561\n",
            "WARNING:tensorflow:6 out of the last 11 calls to <function Model.make_predict_function.<locals>.predict_function at 0x7efe606e8c80> triggered tf.function retracing. Tracing is expensive and the excessive number of tracings could be due to (1) creating @tf.function repeatedly in a loop, (2) passing tensors with different shapes, (3) passing Python objects instead of tensors. For (1), please define your @tf.function outside of the loop. For (2), @tf.function has experimental_relax_shapes=True option that relaxes argument shapes that can avoid unnecessary retracing. For (3), please refer to https://www.tensorflow.org/tutorials/customization/performance#python_or_tensor_args and https://www.tensorflow.org/api_docs/python/tf/function for  more details.\n",
            "2/2 [==============================] - 0s 3ms/step\n",
            "2/2 [==============================] - 0s 3ms/step - loss: 1.0851 - accuracy: 0.5263\n",
            "Accuracy = 0.526\n",
            "WARNING:tensorflow:6 out of the last 11 calls to <function Model.make_predict_function.<locals>.predict_function at 0x7efe505ce840> triggered tf.function retracing. Tracing is expensive and the excessive number of tracings could be due to (1) creating @tf.function repeatedly in a loop, (2) passing tensors with different shapes, (3) passing Python objects instead of tensors. For (1), please define your @tf.function outside of the loop. For (2), @tf.function has experimental_relax_shapes=True option that relaxes argument shapes that can avoid unnecessary retracing. For (3), please refer to https://www.tensorflow.org/tutorials/customization/performance#python_or_tensor_args and https://www.tensorflow.org/api_docs/python/tf/function for  more details.\n",
            "2/2 [==============================] - 0s 2ms/step\n",
            "2/2 [==============================] - 0s 3ms/step - loss: 1.1649 - accuracy: 0.5614\n",
            "Accuracy = 0.561\n",
            "WARNING:tensorflow:6 out of the last 11 calls to <function Model.make_predict_function.<locals>.predict_function at 0x7efe5048ad90> triggered tf.function retracing. Tracing is expensive and the excessive number of tracings could be due to (1) creating @tf.function repeatedly in a loop, (2) passing tensors with different shapes, (3) passing Python objects instead of tensors. For (1), please define your @tf.function outside of the loop. For (2), @tf.function has experimental_relax_shapes=True option that relaxes argument shapes that can avoid unnecessary retracing. For (3), please refer to https://www.tensorflow.org/tutorials/customization/performance#python_or_tensor_args and https://www.tensorflow.org/api_docs/python/tf/function for  more details.\n",
            "2/2 [==============================] - 0s 2ms/step\n",
            "2/2 [==============================] - 0s 3ms/step - loss: 1.1063 - accuracy: 0.5439\n",
            "Accuracy = 0.544\n",
            "WARNING:tensorflow:6 out of the last 11 calls to <function Model.make_predict_function.<locals>.predict_function at 0x7efe5033f730> triggered tf.function retracing. Tracing is expensive and the excessive number of tracings could be due to (1) creating @tf.function repeatedly in a loop, (2) passing tensors with different shapes, (3) passing Python objects instead of tensors. For (1), please define your @tf.function outside of the loop. For (2), @tf.function has experimental_relax_shapes=True option that relaxes argument shapes that can avoid unnecessary retracing. For (3), please refer to https://www.tensorflow.org/tutorials/customization/performance#python_or_tensor_args and https://www.tensorflow.org/api_docs/python/tf/function for  more details.\n",
            "2/2 [==============================] - 0s 2ms/step\n",
            "2/2 [==============================] - 0s 3ms/step - loss: 1.2513 - accuracy: 0.5536\n",
            "Accuracy = 0.554\n",
            "WARNING:tensorflow:6 out of the last 11 calls to <function Model.make_predict_function.<locals>.predict_function at 0x7efe50249268> triggered tf.function retracing. Tracing is expensive and the excessive number of tracings could be due to (1) creating @tf.function repeatedly in a loop, (2) passing tensors with different shapes, (3) passing Python objects instead of tensors. For (1), please define your @tf.function outside of the loop. For (2), @tf.function has experimental_relax_shapes=True option that relaxes argument shapes that can avoid unnecessary retracing. For (3), please refer to https://www.tensorflow.org/tutorials/customization/performance#python_or_tensor_args and https://www.tensorflow.org/api_docs/python/tf/function for  more details.\n",
            "2/2 [==============================] - 0s 3ms/step\n"
          ],
          "name": "stdout"
        }
      ]
    },
    {
      "cell_type": "code",
      "metadata": {
        "id": "lqLbWJGAzxSr",
        "colab_type": "code",
        "colab": {
          "base_uri": "https://localhost:8080/",
          "height": 1000
        },
        "outputId": "e1bd408b-3696-4919-af9f-83b861f56b65"
      },
      "source": [
        "acc_list, rec_list, pre_list, total_acc_list = [], [], [], []\n",
        "\n",
        "for one_pred, y_test in zip(one_pred_list, y_test_list):\n",
        "  acc, rec, pre, total_acc = result(one_pred, y_test)\n",
        "  acc_list.append(acc)\n",
        "  rec_list.append(rec)\n",
        "  pre_list.append(pre)\n",
        "  total_acc_list.append(total_acc)"
      ],
      "execution_count": 41,
      "outputs": [
        {
          "output_type": "stream",
          "text": [
            "\n",
            "class:  0\n",
            "tp:  tf.Tensor(5.0, shape=(), dtype=float32)\n",
            "tp+fn:  tf.Tensor(15.0, shape=(), dtype=float32)\n",
            "tp+fp:  tf.Tensor(10.0, shape=(), dtype=float32)\n",
            "Accuracy = 0.737\n",
            "Recall = 0.333\n",
            "Precision = 0.500 \n",
            "\n",
            "class:  1\n",
            "tp:  tf.Tensor(4.0, shape=(), dtype=float32)\n",
            "tp+fn:  tf.Tensor(15.0, shape=(), dtype=float32)\n",
            "tp+fp:  tf.Tensor(6.0, shape=(), dtype=float32)\n",
            "Accuracy = 0.772\n",
            "Recall = 0.267\n",
            "Precision = 0.667 \n",
            "\n",
            "class:  2\n",
            "tp:  tf.Tensor(23.0, shape=(), dtype=float32)\n",
            "tp+fn:  tf.Tensor(27.0, shape=(), dtype=float32)\n",
            "tp+fp:  tf.Tensor(41.0, shape=(), dtype=float32)\n",
            "Accuracy = 0.614\n",
            "Recall = 0.852\n",
            "Precision = 0.561 \n",
            "\n",
            "class:  0\n",
            "tp:  tf.Tensor(9.0, shape=(), dtype=float32)\n",
            "tp+fn:  tf.Tensor(15.0, shape=(), dtype=float32)\n",
            "tp+fp:  tf.Tensor(19.0, shape=(), dtype=float32)\n",
            "Accuracy = 0.719\n",
            "Recall = 0.600\n",
            "Precision = 0.474 \n",
            "\n",
            "class:  1\n",
            "tp:  tf.Tensor(5.0, shape=(), dtype=float32)\n",
            "tp+fn:  tf.Tensor(15.0, shape=(), dtype=float32)\n",
            "tp+fp:  tf.Tensor(7.0, shape=(), dtype=float32)\n",
            "Accuracy = 0.789\n",
            "Recall = 0.333\n",
            "Precision = 0.714 \n",
            "\n",
            "class:  2\n",
            "tp:  tf.Tensor(16.0, shape=(), dtype=float32)\n",
            "tp+fn:  tf.Tensor(27.0, shape=(), dtype=float32)\n",
            "tp+fp:  tf.Tensor(31.0, shape=(), dtype=float32)\n",
            "Accuracy = 0.544\n",
            "Recall = 0.593\n",
            "Precision = 0.516 \n",
            "\n",
            "class:  0\n",
            "tp:  tf.Tensor(9.0, shape=(), dtype=float32)\n",
            "tp+fn:  tf.Tensor(15.0, shape=(), dtype=float32)\n",
            "tp+fp:  tf.Tensor(14.0, shape=(), dtype=float32)\n",
            "Accuracy = 0.807\n",
            "Recall = 0.600\n",
            "Precision = 0.643 \n",
            "\n",
            "class:  1\n",
            "tp:  tf.Tensor(8.0, shape=(), dtype=float32)\n",
            "tp+fn:  tf.Tensor(15.0, shape=(), dtype=float32)\n",
            "tp+fp:  tf.Tensor(16.0, shape=(), dtype=float32)\n",
            "Accuracy = 0.737\n",
            "Recall = 0.533\n",
            "Precision = 0.500 \n",
            "\n",
            "class:  2\n",
            "tp:  tf.Tensor(15.0, shape=(), dtype=float32)\n",
            "tp+fn:  tf.Tensor(27.0, shape=(), dtype=float32)\n",
            "tp+fp:  tf.Tensor(27.0, shape=(), dtype=float32)\n",
            "Accuracy = 0.579\n",
            "Recall = 0.556\n",
            "Precision = 0.556 \n",
            "\n",
            "class:  0\n",
            "tp:  tf.Tensor(3.0, shape=(), dtype=float32)\n",
            "tp+fn:  tf.Tensor(16.0, shape=(), dtype=float32)\n",
            "tp+fp:  tf.Tensor(7.0, shape=(), dtype=float32)\n",
            "Accuracy = 0.702\n",
            "Recall = 0.188\n",
            "Precision = 0.429 \n",
            "\n",
            "class:  1\n",
            "tp:  tf.Tensor(4.0, shape=(), dtype=float32)\n",
            "tp+fn:  tf.Tensor(14.0, shape=(), dtype=float32)\n",
            "tp+fp:  tf.Tensor(5.0, shape=(), dtype=float32)\n",
            "Accuracy = 0.807\n",
            "Recall = 0.286\n",
            "Precision = 0.800 \n",
            "\n",
            "class:  2\n",
            "tp:  tf.Tensor(24.0, shape=(), dtype=float32)\n",
            "tp+fn:  tf.Tensor(27.0, shape=(), dtype=float32)\n",
            "tp+fp:  tf.Tensor(45.0, shape=(), dtype=float32)\n",
            "Accuracy = 0.579\n",
            "Recall = 0.889\n",
            "Precision = 0.533 \n",
            "\n",
            "class:  0\n",
            "tp:  tf.Tensor(8.0, shape=(), dtype=float32)\n",
            "tp+fn:  tf.Tensor(15.0, shape=(), dtype=float32)\n",
            "tp+fp:  tf.Tensor(11.0, shape=(), dtype=float32)\n",
            "Accuracy = 0.821\n",
            "Recall = 0.533\n",
            "Precision = 0.727 \n",
            "\n",
            "class:  1\n",
            "tp:  tf.Tensor(8.0, shape=(), dtype=float32)\n",
            "tp+fn:  tf.Tensor(15.0, shape=(), dtype=float32)\n",
            "tp+fp:  tf.Tensor(18.0, shape=(), dtype=float32)\n",
            "Accuracy = 0.696\n",
            "Recall = 0.533\n",
            "Precision = 0.444 \n",
            "\n",
            "class:  2\n",
            "tp:  tf.Tensor(15.0, shape=(), dtype=float32)\n",
            "tp+fn:  tf.Tensor(26.0, shape=(), dtype=float32)\n",
            "tp+fp:  tf.Tensor(27.0, shape=(), dtype=float32)\n",
            "Accuracy = 0.589\n",
            "Recall = 0.577\n",
            "Precision = 0.556 \n"
          ],
          "name": "stdout"
        }
      ]
    },
    {
      "cell_type": "code",
      "metadata": {
        "id": "2HGz-aYzJO09",
        "colab_type": "code",
        "colab": {
          "base_uri": "https://localhost:8080/",
          "height": 109
        },
        "outputId": "08ba0f64-63f7-462e-da5f-22036c3f1efa"
      },
      "source": [
        "# total accuracy\n",
        "total_acc_list"
      ],
      "execution_count": 42,
      "outputs": [
        {
          "output_type": "execute_result",
          "data": {
            "text/plain": [
              "[<tf.Tensor: shape=(), dtype=float32, numpy=0.5614035>,\n",
              " <tf.Tensor: shape=(), dtype=float32, numpy=0.5263158>,\n",
              " <tf.Tensor: shape=(), dtype=float32, numpy=0.5614035>,\n",
              " <tf.Tensor: shape=(), dtype=float32, numpy=0.54385966>,\n",
              " <tf.Tensor: shape=(), dtype=float32, numpy=0.5535714>]"
            ]
          },
          "metadata": {
            "tags": []
          },
          "execution_count": 42
        }
      ]
    },
    {
      "cell_type": "code",
      "metadata": {
        "id": "BxeFJw-3Xzor",
        "colab_type": "code",
        "colab": {
          "base_uri": "https://localhost:8080/",
          "height": 35
        },
        "outputId": "d68e3bfe-7230-4f10-ec68-195433a5c0d0"
      },
      "source": [
        "tf.print(\"Total Accuracy = {:.3f}\".format(K.sum(total_acc_list)/len(total_acc_list)))"
      ],
      "execution_count": 43,
      "outputs": [
        {
          "output_type": "stream",
          "text": [
            "Total Accuracy = 0.549\n"
          ],
          "name": "stdout"
        }
      ]
    },
    {
      "cell_type": "code",
      "metadata": {
        "id": "-ThdIAXcV-2C",
        "colab_type": "code",
        "colab": {}
      },
      "source": [
        "# decode one hot vector\n",
        "y_pred = np.argmax(one_pred, axis=1).reshape(-1, 1)\n",
        "# y_pred"
      ],
      "execution_count": 44,
      "outputs": []
    },
    {
      "cell_type": "code",
      "metadata": {
        "id": "lNC-HX58VPB0",
        "colab_type": "code",
        "colab": {
          "base_uri": "https://localhost:8080/",
          "height": 937
        },
        "outputId": "8dd15bdf-b9f5-4785-efab-52c6a950a7f8"
      },
      "source": [
        "from sklearn import metrics\n",
        "\n",
        "for one_pred, y_test in zip(one_pred_list, y_test_list):\n",
        "  \n",
        "  dec_y_pred = np.argmax(one_pred, axis=1).reshape(-1, 1)\n",
        "  dec_y_test = np.argmax(y_test, axis=1).reshape(-1, 1)\n",
        "\n",
        "  # Print the confusion matrix\n",
        "  # print(metrics.confusion_matrix(dec_y_test, dec_y_pred))\n",
        "\n",
        "  # Print the precision and recall, among other metrics\n",
        "  print(metrics.classification_report(dec_y_test, dec_y_pred, digits=3))"
      ],
      "execution_count": 45,
      "outputs": [
        {
          "output_type": "stream",
          "text": [
            "              precision    recall  f1-score   support\n",
            "\n",
            "           0      0.500     0.333     0.400        15\n",
            "           1      0.667     0.267     0.381        15\n",
            "           2      0.561     0.852     0.676        27\n",
            "\n",
            "    accuracy                          0.561        57\n",
            "   macro avg      0.576     0.484     0.486        57\n",
            "weighted avg      0.573     0.561     0.526        57\n",
            "\n",
            "              precision    recall  f1-score   support\n",
            "\n",
            "           0      0.474     0.600     0.529        15\n",
            "           1      0.714     0.333     0.455        15\n",
            "           2      0.516     0.593     0.552        27\n",
            "\n",
            "    accuracy                          0.526        57\n",
            "   macro avg      0.568     0.509     0.512        57\n",
            "weighted avg      0.557     0.526     0.520        57\n",
            "\n",
            "              precision    recall  f1-score   support\n",
            "\n",
            "           0      0.643     0.600     0.621        15\n",
            "           1      0.500     0.533     0.516        15\n",
            "           2      0.556     0.556     0.556        27\n",
            "\n",
            "    accuracy                          0.561        57\n",
            "   macro avg      0.566     0.563     0.564        57\n",
            "weighted avg      0.564     0.561     0.562        57\n",
            "\n",
            "              precision    recall  f1-score   support\n",
            "\n",
            "           0      0.429     0.188     0.261        16\n",
            "           1      0.800     0.286     0.421        14\n",
            "           2      0.533     0.889     0.667        27\n",
            "\n",
            "    accuracy                          0.544        57\n",
            "   macro avg      0.587     0.454     0.450        57\n",
            "weighted avg      0.569     0.544     0.492        57\n",
            "\n",
            "              precision    recall  f1-score   support\n",
            "\n",
            "           0      0.727     0.533     0.615        15\n",
            "           1      0.444     0.533     0.485        15\n",
            "           2      0.556     0.577     0.566        26\n",
            "\n",
            "    accuracy                          0.554        56\n",
            "   macro avg      0.576     0.548     0.555        56\n",
            "weighted avg      0.572     0.554     0.558        56\n",
            "\n"
          ],
          "name": "stdout"
        }
      ]
    },
    {
      "cell_type": "code",
      "metadata": {
        "id": "kntqJEQmN2Xx",
        "colab_type": "code",
        "colab": {
          "base_uri": "https://localhost:8080/",
          "height": 293
        },
        "outputId": "69cfe676-b469-46d1-8956-5fbe0c38d6f4"
      },
      "source": [
        "# number of class\n",
        "for i in range(y_test_list[0].shape[1]):\n",
        "  acc_mean, rec_mean, pre_mean = 0, 0, 0\n",
        "  \n",
        "  # k-fold\n",
        "  for j in range(len(acc_list)):  \n",
        "    acc_mean += acc_list[j][i]\n",
        "    rec_mean += rec_list[j][i]\n",
        "    pre_mean += pre_list[j][i]\n",
        "  \n",
        "  acc_mean /= len(acc_list)\n",
        "  rec_mean /= len(rec_list)\n",
        "  pre_mean /= len(pre_list)\n",
        "\n",
        "  print(\"\\nclass: \", i)\n",
        "  # mean score of k-folds\n",
        "  tf.print(\"Accuracy = {:.3f}\".format(acc_mean))\n",
        "  tf.print(\"Recall = {:.3f}\".format(rec_mean))\n",
        "  tf.print(\"Precision = {:.3f} \".format(pre_mean))"
      ],
      "execution_count": 46,
      "outputs": [
        {
          "output_type": "stream",
          "text": [
            "\n",
            "class:  0\n",
            "Accuracy = 0.757\n",
            "Recall = 0.451\n",
            "Precision = 0.554 \n",
            "\n",
            "class:  1\n",
            "Accuracy = 0.760\n",
            "Recall = 0.390\n",
            "Precision = 0.625 \n",
            "\n",
            "class:  2\n",
            "Accuracy = 0.581\n",
            "Recall = 0.693\n",
            "Precision = 0.544 \n"
          ],
          "name": "stdout"
        }
      ]
    },
    {
      "cell_type": "code",
      "metadata": {
        "id": "qhXKxrFivMNq",
        "colab_type": "code",
        "colab": {
          "base_uri": "https://localhost:8080/",
          "height": 35
        },
        "outputId": "c4b224c8-8f26-42a0-b00b-bf41581aec70"
      },
      "source": [
        "len(acc_list)"
      ],
      "execution_count": 47,
      "outputs": [
        {
          "output_type": "execute_result",
          "data": {
            "text/plain": [
              "5"
            ]
          },
          "metadata": {
            "tags": []
          },
          "execution_count": 47
        }
      ]
    },
    {
      "cell_type": "markdown",
      "metadata": {
        "id": "TdjgW7RovsvY",
        "colab_type": "text"
      },
      "source": [
        "# **SVM**"
      ]
    },
    {
      "cell_type": "code",
      "metadata": {
        "id": "c71NtlyIisen",
        "colab_type": "code",
        "colab": {}
      },
      "source": [
        "acc_list, rec_list, pre_list, total_acc_list = [], [], [], []"
      ],
      "execution_count": 48,
      "outputs": []
    },
    {
      "cell_type": "code",
      "metadata": {
        "id": "qBAGFlSCvwuJ",
        "colab_type": "code",
        "colab": {
          "base_uri": "https://localhost:8080/",
          "height": 1000
        },
        "outputId": "50d7a6ab-ec41-4327-bf7b-400ed396f4e5"
      },
      "source": [
        "# Support Vector Classifier\n",
        "# one vs rest\n",
        "\n",
        "from sklearn.svm import SVC\n",
        "from sklearn.multiclass import OneVsRestClassifier\n",
        "\n",
        "for x_train, decoded_y_train, x_test, y_test in zip(x_train_list, decoded_y_train_list, x_test_list, y_test_list):\n",
        "  svm = OneVsRestClassifier(SVC()).fit(x_train, decoded_y_train)\n",
        "  y_pred_svc = svm.predict(x_test)\n",
        "\n",
        "  # print(y_pred_svc)\n",
        "\n",
        "  # encode y_pred_svc to one-hot vector \n",
        "  Y = encoder.fit_transform(y_pred_svc)\n",
        "  y_pred_svc = pd.get_dummies(Y).values.astype(np.float32)\n",
        "\n",
        "  acc, rec, pre, total_acc = result(y_pred_svc, y_test)\n",
        "  acc_list.append(acc)\n",
        "  rec_list.append(rec)\n",
        "  pre_list.append(pre)\n",
        "  total_acc_list.append(total_acc)"
      ],
      "execution_count": 49,
      "outputs": [
        {
          "output_type": "stream",
          "text": [
            "\n",
            "class:  0\n",
            "tp:  tf.Tensor(7.0, shape=(), dtype=float32)\n",
            "tp+fn:  tf.Tensor(15.0, shape=(), dtype=float32)\n",
            "tp+fp:  tf.Tensor(9.0, shape=(), dtype=float32)\n",
            "Accuracy = 0.825\n",
            "Recall = 0.467\n",
            "Precision = 0.778 \n",
            "\n",
            "class:  1\n",
            "tp:  tf.Tensor(4.0, shape=(), dtype=float32)\n",
            "tp+fn:  tf.Tensor(15.0, shape=(), dtype=float32)\n",
            "tp+fp:  tf.Tensor(4.0, shape=(), dtype=float32)\n",
            "Accuracy = 0.807\n",
            "Recall = 0.267\n",
            "Precision = 1.000 \n",
            "\n",
            "class:  2\n",
            "tp:  tf.Tensor(25.0, shape=(), dtype=float32)\n",
            "tp+fn:  tf.Tensor(27.0, shape=(), dtype=float32)\n",
            "tp+fp:  tf.Tensor(44.0, shape=(), dtype=float32)\n",
            "Accuracy = 0.632\n",
            "Recall = 0.926\n",
            "Precision = 0.568 \n",
            "\n",
            "class:  0\n",
            "tp:  tf.Tensor(6.0, shape=(), dtype=float32)\n",
            "tp+fn:  tf.Tensor(15.0, shape=(), dtype=float32)\n",
            "tp+fp:  tf.Tensor(8.0, shape=(), dtype=float32)\n",
            "Accuracy = 0.807\n",
            "Recall = 0.400\n",
            "Precision = 0.750 \n",
            "\n",
            "class:  1\n",
            "tp:  tf.Tensor(2.0, shape=(), dtype=float32)\n",
            "tp+fn:  tf.Tensor(15.0, shape=(), dtype=float32)\n",
            "tp+fp:  tf.Tensor(3.0, shape=(), dtype=float32)\n",
            "Accuracy = 0.754\n",
            "Recall = 0.133\n",
            "Precision = 0.667 \n",
            "\n",
            "class:  2\n",
            "tp:  tf.Tensor(24.0, shape=(), dtype=float32)\n",
            "tp+fn:  tf.Tensor(27.0, shape=(), dtype=float32)\n",
            "tp+fp:  tf.Tensor(46.0, shape=(), dtype=float32)\n",
            "Accuracy = 0.561\n",
            "Recall = 0.889\n",
            "Precision = 0.522 \n",
            "\n",
            "class:  0\n",
            "tp:  tf.Tensor(7.0, shape=(), dtype=float32)\n",
            "tp+fn:  tf.Tensor(15.0, shape=(), dtype=float32)\n",
            "tp+fp:  tf.Tensor(9.0, shape=(), dtype=float32)\n",
            "Accuracy = 0.825\n",
            "Recall = 0.467\n",
            "Precision = 0.778 \n",
            "\n",
            "class:  1\n",
            "tp:  tf.Tensor(5.0, shape=(), dtype=float32)\n",
            "tp+fn:  tf.Tensor(15.0, shape=(), dtype=float32)\n",
            "tp+fp:  tf.Tensor(8.0, shape=(), dtype=float32)\n",
            "Accuracy = 0.772\n",
            "Recall = 0.333\n",
            "Precision = 0.625 \n",
            "\n",
            "class:  2\n",
            "tp:  tf.Tensor(22.0, shape=(), dtype=float32)\n",
            "tp+fn:  tf.Tensor(27.0, shape=(), dtype=float32)\n",
            "tp+fp:  tf.Tensor(40.0, shape=(), dtype=float32)\n",
            "Accuracy = 0.596\n",
            "Recall = 0.815\n",
            "Precision = 0.550 \n",
            "\n",
            "class:  0\n",
            "tp:  tf.Tensor(5.0, shape=(), dtype=float32)\n",
            "tp+fn:  tf.Tensor(16.0, shape=(), dtype=float32)\n",
            "tp+fp:  tf.Tensor(6.0, shape=(), dtype=float32)\n",
            "Accuracy = 0.789\n",
            "Recall = 0.312\n",
            "Precision = 0.833 \n",
            "\n",
            "class:  1\n",
            "tp:  tf.Tensor(2.0, shape=(), dtype=float32)\n",
            "tp+fn:  tf.Tensor(14.0, shape=(), dtype=float32)\n",
            "tp+fp:  tf.Tensor(3.0, shape=(), dtype=float32)\n",
            "Accuracy = 0.772\n",
            "Recall = 0.143\n",
            "Precision = 0.667 \n",
            "\n",
            "class:  2\n",
            "tp:  tf.Tensor(26.0, shape=(), dtype=float32)\n",
            "tp+fn:  tf.Tensor(27.0, shape=(), dtype=float32)\n",
            "tp+fp:  tf.Tensor(48.0, shape=(), dtype=float32)\n",
            "Accuracy = 0.596\n",
            "Recall = 0.963\n",
            "Precision = 0.542 \n",
            "\n",
            "class:  0\n",
            "tp:  tf.Tensor(6.0, shape=(), dtype=float32)\n",
            "tp+fn:  tf.Tensor(15.0, shape=(), dtype=float32)\n",
            "tp+fp:  tf.Tensor(7.0, shape=(), dtype=float32)\n",
            "Accuracy = 0.821\n",
            "Recall = 0.400\n",
            "Precision = 0.857 \n",
            "\n",
            "class:  1\n",
            "tp:  tf.Tensor(6.0, shape=(), dtype=float32)\n",
            "tp+fn:  tf.Tensor(15.0, shape=(), dtype=float32)\n",
            "tp+fp:  tf.Tensor(6.0, shape=(), dtype=float32)\n",
            "Accuracy = 0.839\n",
            "Recall = 0.400\n",
            "Precision = 1.000 \n",
            "\n",
            "class:  2\n",
            "tp:  tf.Tensor(25.0, shape=(), dtype=float32)\n",
            "tp+fn:  tf.Tensor(26.0, shape=(), dtype=float32)\n",
            "tp+fp:  tf.Tensor(43.0, shape=(), dtype=float32)\n",
            "Accuracy = 0.661\n",
            "Recall = 0.962\n",
            "Precision = 0.581 \n"
          ],
          "name": "stdout"
        }
      ]
    },
    {
      "cell_type": "code",
      "metadata": {
        "id": "HyLE_NGj64s8",
        "colab_type": "code",
        "colab": {
          "base_uri": "https://localhost:8080/",
          "height": 35
        },
        "outputId": "08c90aab-b348-4640-b8cf-06aea360b4d8"
      },
      "source": [
        "tf.print(\"Total Accuracy = {:.3f}\".format(K.sum(total_acc_list)/len(total_acc_list)))"
      ],
      "execution_count": 50,
      "outputs": [
        {
          "output_type": "stream",
          "text": [
            "Total Accuracy = 0.606\n"
          ],
          "name": "stdout"
        }
      ]
    },
    {
      "cell_type": "code",
      "metadata": {
        "id": "n5YJfX8dixap",
        "colab_type": "code",
        "colab": {
          "base_uri": "https://localhost:8080/",
          "height": 293
        },
        "outputId": "44abaf5a-acc8-4ebc-f372-4f89799464a2"
      },
      "source": [
        "# number of class\n",
        "for i in range(y_test_list[0].shape[1]):\n",
        "  acc_mean, rec_mean, pre_mean = 0, 0, 0\n",
        "  \n",
        "  # k-fold\n",
        "  for j in range(len(acc_list)):  \n",
        "    acc_mean += acc_list[j][i]\n",
        "    rec_mean += rec_list[j][i]\n",
        "    pre_mean += pre_list[j][i]\n",
        "  \n",
        "  acc_mean /= len(acc_list)\n",
        "  rec_mean /= len(rec_list)\n",
        "  pre_mean /= len(pre_list)\n",
        "\n",
        "  print(\"\\nclass: \", i)\n",
        "  # mean score of k-folds\n",
        "  tf.print(\"Accuracy = {:.3f}\".format(acc_mean))\n",
        "  tf.print(\"Recall = {:.3f}\".format(rec_mean))\n",
        "  tf.print(\"Precision = {:.3f} \".format(pre_mean))"
      ],
      "execution_count": 51,
      "outputs": [
        {
          "output_type": "stream",
          "text": [
            "\n",
            "class:  0\n",
            "Accuracy = 0.813\n",
            "Recall = 0.409\n",
            "Precision = 0.799 \n",
            "\n",
            "class:  1\n",
            "Accuracy = 0.789\n",
            "Recall = 0.255\n",
            "Precision = 0.792 \n",
            "\n",
            "class:  2\n",
            "Accuracy = 0.609\n",
            "Recall = 0.911\n",
            "Precision = 0.553 \n"
          ],
          "name": "stdout"
        }
      ]
    },
    {
      "cell_type": "code",
      "metadata": {
        "id": "NOkExKYKFqi2",
        "colab_type": "code",
        "colab": {}
      },
      "source": [
        "# output개수가 0인 class가 있을 때 add [0]*y_pred_svc.shape[0]\n",
        "\n",
        "# new_column = [0] * y_pred_svc.shape[0]\n",
        "# y_pred_svc = np.insert(y_pred_svc, 2, new_column, axis=1)\n",
        "# y_pred_svc"
      ],
      "execution_count": 52,
      "outputs": []
    }
  ]
}