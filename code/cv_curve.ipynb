{
 "cells": [
  {
   "cell_type": "markdown",
   "metadata": {
    "id": "QXOkd8z7EpPb"
   },
   "source": [
    "## **Load data**"
   ]
  },
  {
   "cell_type": "code",
   "execution_count": 97,
   "metadata": {
    "colab": {
     "base_uri": "https://localhost:8080/",
     "height": 35
    },
    "id": "pnVKYrMYUoKf",
    "outputId": "674ee460-18f4-4c87-9438-cea851c161c3"
   },
   "outputs": [
    {
     "name": "stdout",
     "output_type": "stream",
     "text": [
      "[name: \"/device:CPU:0\"\n",
      "device_type: \"CPU\"\n",
      "memory_limit: 268435456\n",
      "locality {\n",
      "}\n",
      "incarnation: 7135381678853238874\n",
      ", name: \"/device:GPU:0\"\n",
      "device_type: \"GPU\"\n",
      "memory_limit: 6586313605\n",
      "locality {\n",
      "  bus_id: 1\n",
      "  links {\n",
      "  }\n",
      "}\n",
      "incarnation: 11585893254183002879\n",
      "physical_device_desc: \"device: 0, name: GeForce RTX 2070 SUPER, pci bus id: 0000:08:00.0, compute capability: 7.5\"\n",
      "]\n"
     ]
    }
   ],
   "source": [
    "import tensorflow\n",
    "from tensorflow.python.client import device_lib\n",
    "print(device_lib.list_local_devices())"
   ]
  },
  {
   "cell_type": "code",
   "execution_count": 98,
   "metadata": {
    "id": "eOwnwj2WWY9o"
   },
   "outputs": [],
   "source": [
    "import pandas as pd\n",
    "import numpy as np\n",
    "import matplotlib.pyplot as plt"
   ]
  },
  {
   "cell_type": "code",
   "execution_count": 99,
   "metadata": {
    "colab": {
     "base_uri": "https://localhost:8080/",
     "height": 197
    },
    "id": "IwA_Z40eU8-Q",
    "outputId": "f045a394-6132-4600-a3c8-467005259cf9"
   },
   "outputs": [
    {
     "name": "stdout",
     "output_type": "stream",
     "text": [
      "Index(['SampleID', 'Best Confirmed Overall Response', 'binaryResponse',\n",
      "       'Enrollment IC', 'IC Level', 'TC Level', 'Immune phenotype',\n",
      "       'FMOne mutation burden per MB', 'Sex', 'Race',\n",
      "       'Intravesical BCG administered', 'Baseline ECOG Score',\n",
      "       'Tobacco Use History', 'Met Disease Status', 'Sample age', 'Tissue',\n",
      "       'Received platinum', 'Sample collected pre-platinum',\n",
      "       'Neoantigen burden per MB', 'sizeFactor', 'ANONPT_ID', 'os', 'censOS',\n",
      "       'Lund', 'Lund2', 'TCGA Subtype'],\n",
      "      dtype='object')\n",
      "348\n"
     ]
    }
   ],
   "source": [
    "data = pd.read_csv(\"IMvigor210_clin.csv\")\n",
    "print(data.columns)\n",
    "print(len(data))"
   ]
  },
  {
   "cell_type": "code",
   "execution_count": 100,
   "metadata": {
    "id": "Jm1qg0XFOl9b"
   },
   "outputs": [],
   "source": [
    "marker = pd.read_csv(\"tmm.csv\")\n",
    "ori_marker = marker "
   ]
  },
  {
   "cell_type": "code",
   "execution_count": 101,
   "metadata": {
    "colab": {
     "base_uri": "https://localhost:8080/",
     "height": 0
    },
    "id": "wtRfmjguXpK1",
    "outputId": "e1c31a43-a7a8-479d-a852-252ef9814e8c"
   },
   "outputs": [
    {
     "data": {
      "text/plain": [
       "Index(['Entrez Gene ID', 'Symbol', 'SAMf2ce197162ce', 'SAM698d8d76b934',\n",
       "       'SAMc1b27bc16435', 'SAM85e41e7f33f9', 'SAMf275eb859a39',\n",
       "       'SAM7f0d9cc7f001', 'SAM4305ab968b90', 'SAMcf018fee2acd',\n",
       "       ...\n",
       "       'SAMe7e4f7c076a7', 'SAMbe25e2c88f3e', 'SAM4caabd64e7fd',\n",
       "       'SAMc6eff056c89a', 'SAM5cfa1699bdb7', 'SAMda4d892fddc8',\n",
       "       'SAM3a1c9632ff7b', 'SAM8b4b8b0f9e73', 'SAMe3d4266775a9',\n",
       "       'SAM2de7cffb5f72'],\n",
       "      dtype='object', length=350)"
      ]
     },
     "execution_count": 101,
     "metadata": {},
     "output_type": "execute_result"
    }
   ],
   "source": [
    "marker.columns"
   ]
  },
  {
   "cell_type": "markdown",
   "metadata": {
    "id": "q4HMfhUpEIsW"
   },
   "source": [
    "## **Data Preprocessing**"
   ]
  },
  {
   "cell_type": "code",
   "execution_count": 102,
   "metadata": {
    "id": "mU_mZePzT8G5"
   },
   "outputs": [],
   "source": [
    "marker = marker.rename(columns = {'Symbol':'SampleID'}) \n",
    "marker = marker.drop(['Entrez Gene ID'], axis = 1).T\n",
    "marker.columns = marker.iloc[0]\n",
    "marker = marker.drop(marker.index[0])"
   ]
  },
  {
   "cell_type": "code",
   "execution_count": 103,
   "metadata": {
    "colab": {
     "base_uri": "https://localhost:8080/",
     "height": 0
    },
    "id": "MLfxUGgpfQ-R",
    "outputId": "a7d064d0-37f3-49db-e1c7-2d824d2ca05a"
   },
   "outputs": [
    {
     "name": "stdout",
     "output_type": "stream",
     "text": [
      "SampleID            A1BG      ADA     CDH2     AKT3 POU5F1P5 ZBTB11-AS1  \\\n",
      "SAMf2ce197162ce  3.97148  10.2378  9.12886  10.7241   7.3897    1.97723   \n",
      "SAM698d8d76b934  6.19179  10.3348  13.7274  11.8855  5.76731    1.77834   \n",
      "SAMc1b27bc16435  3.56082   9.1993  5.63238  9.97882  6.66971    3.32203   \n",
      "SAM85e41e7f33f9  3.88137  11.7038  9.27618  11.1349   6.1579    2.14869   \n",
      "SAMf275eb859a39  4.90625  10.1602  7.49974  9.62024  6.76629    1.88613   \n",
      "\n",
      "SampleID            MED6    NR2E3  NAALAD2 SNORD116-1  ...  HNRNPDL    DMTF1  \\\n",
      "SAMf2ce197162ce  9.09632   3.4958  5.62838    7.31183  ...  13.3753  11.5898   \n",
      "SAM698d8d76b934   9.5023  2.08421  4.70671    8.59474  ...  12.5417   12.284   \n",
      "SAMc1b27bc16435  9.37385   1.4855  2.67817    8.15695  ...  12.9666  11.4569   \n",
      "SAM85e41e7f33f9  9.15104  2.14869  4.37483    5.17796  ...  12.6481  12.1515   \n",
      "SAMf275eb859a39  9.12538  3.71523  5.79708    8.12622  ...  13.2014  12.3724   \n",
      "\n",
      "SampleID          PPP4R1     CDH1  SLC12A6    PTBP3    KCNE2    DGCR2  \\\n",
      "SAMf2ce197162ce  12.1645  15.7093  12.7483  13.4474  2.61833  9.76685   \n",
      "SAM698d8d76b934  11.7372  13.5991  11.7458  12.0886  3.05154   9.8475   \n",
      "SAMc1b27bc16435  11.3791  15.5232  11.8236  13.9629        0   9.9633   \n",
      "SAM85e41e7f33f9  12.3973  15.1202  13.0617  12.9823  2.62091  9.56163   \n",
      "SAMf275eb859a39  12.4545  15.2666   13.831  13.0864  2.12781  10.2516   \n",
      "\n",
      "SampleID        CASP8AP2     SCO2  \n",
      "SAMf2ce197162ce  11.1387  10.2317  \n",
      "SAM698d8d76b934  11.4952  10.4029  \n",
      "SAMc1b27bc16435  10.9028  9.24281  \n",
      "SAM85e41e7f33f9     11.8  11.1349  \n",
      "SAMf275eb859a39   11.416  10.5975  \n",
      "\n",
      "[5 rows x 17692 columns]\n"
     ]
    }
   ],
   "source": [
    "print(marker.head())"
   ]
  },
  {
   "cell_type": "code",
   "execution_count": 104,
   "metadata": {
    "colab": {
     "base_uri": "https://localhost:8080/",
     "height": 0
    },
    "id": "46SHR0UDVPYQ",
    "outputId": "7d66fe1a-444c-4265-95d9-cef62e2d7bdb"
   },
   "outputs": [
    {
     "data": {
      "text/plain": [
       "(348, 17692)"
      ]
     },
     "execution_count": 104,
     "metadata": {},
     "output_type": "execute_result"
    }
   ],
   "source": [
    "len(marker), len(marker.columns)"
   ]
  },
  {
   "cell_type": "code",
   "execution_count": 105,
   "metadata": {
    "id": "lzMC61rRTEbq"
   },
   "outputs": [],
   "source": [
    "target_column = 'Immune phenotype'"
   ]
  },
  {
   "cell_type": "code",
   "execution_count": 106,
   "metadata": {
    "colab": {
     "base_uri": "https://localhost:8080/",
     "height": 0
    },
    "id": "CgINWQFahNaA",
    "outputId": "27cc709b-7b59-41c5-ddac-6c3c99e46dd8"
   },
   "outputs": [
    {
     "name": "stdout",
     "output_type": "stream",
     "text": [
      "0      NaN\n",
      "1      2.0\n",
      "2      2.0\n",
      "3      1.0\n",
      "4      2.0\n",
      "      ... \n",
      "343    NaN\n",
      "344    NaN\n",
      "345    2.0\n",
      "346    NaN\n",
      "347    NaN\n",
      "Name: Immune phenotype, Length: 348, dtype: float64\n"
     ]
    }
   ],
   "source": [
    "## match non-digit labels to digits\n",
    "\n",
    "# data['Best Confirmed Overall Response'] = data['Best Confirmed Overall Response'].map({'CR':0, 'PR':1, 'SD':2, 'PD':3, 'NE':4})\n",
    "# data['Enrollment IC'] = data['Enrollment IC'].map({'IC0':0, 'IC1':1, 'IC2':2})\n",
    "\n",
    "# NA = -1 -> nan 빼고 해보기\n",
    "data['Immune phenotype'] = data['Immune phenotype'].map({'desert':0, 'inflamed':1, 'excluded':2})\n",
    "\n",
    "# data['Sex'] = data['Sex'].map({'M':0, 'F':1})\n",
    "# # NA = -1, rm 'NATIVE HAWAIIAN OR OTHER PACIFIC ISLANDER' since the number of it is 1\n",
    "# data['Race'] = data['Race'].map({'BLACK OF AFRICAN AMERICAN':0, 'ASIAN':1, 'WHITE':2,  'OTHER':4})\n",
    "# data['Race'] = data['Race'].fillna(-1)\n",
    "# data['Intravesical BCG administered'] = data['Intravesical BCG administered'].map({'N':0, 'Y':1})\n",
    "# data['Tobacco Use History'] = data['Tobacco Use History'].map({'NEVER':0, 'PREVIOUS':1, 'CURRENT':2})\n",
    "\n",
    "# # # replace NA to the mean of N, Y\n",
    "# # data['Met Disease Status'] = data['Met Disease Status'].map({'Liver':0, 'Visceral':1, 'LN Only':2, 'NA': -1})\n",
    "# data['Sample age'] = data['Sample age'].map({'(less than) 1 year':0, '1-2 years':1, 'more than 2 years':2})\n",
    "# data['Received platinum'] = data['Received platinum'].map({'N':0, 'Y':1})\n",
    "\n",
    "# # replace NA to the mean of N, Y\n",
    "# #data['Sample collected pre-platinum'] = data['Sample collected pre-platinum'].map({'N':0, 'Y':1, 'NA': 0.5})\n",
    "# data['Lund'] = data['Lund'].map({'MS1a':0, 'MS1b':1, 'MS2a1':2,'MS2a2':3, 'MS2b1':4, 'MS2b2.1':5, 'MS2b2.2':6})\n",
    "# data['Lund2'] = data['Lund2'].map({'UroA':0, 'UroB':1, 'Genomically unstable':3, 'Infiltrated':4, 'Basal/SCC-like':5})\n",
    "# data['TCGA Subtype'] = data['TCGA Subtype'].map({'I':0, 'II':1, 'III':2, 'IV':3})     \n",
    "\n",
    "# # replace NA to the mean of column \n",
    "# data['Neoantigen burden per MB'] = data['Neoantigen burden per MB'].fillna(data.mean()['Neoantigen burden per MB'])\n",
    "# # replace NA to the mean of column \n",
    "# data['FMOne mutation burden per MB'] = data['FMOne mutation burden per MB'].fillna(data.mean()['FMOne mutation burden per MB'])\n",
    "\n",
    "  \n",
    "\n",
    "print(data[target_column])\n"
   ]
  },
  {
   "cell_type": "code",
   "execution_count": 107,
   "metadata": {
    "id": "mHnI5boniQCW"
   },
   "outputs": [],
   "source": [
    "if target_column in marker.columns:\n",
    "  marker = marker.drop(target_column, axis = 1)"
   ]
  },
  {
   "cell_type": "code",
   "execution_count": 108,
   "metadata": {
    "colab": {
     "base_uri": "https://localhost:8080/",
     "height": 0
    },
    "id": "H2DkbikajI03",
    "outputId": "5aebfe0e-c808-4308-91c0-c7e276b9eeec"
   },
   "outputs": [
    {
     "data": {
      "text/plain": [
       "True"
      ]
     },
     "execution_count": 108,
     "metadata": {},
     "output_type": "execute_result"
    }
   ],
   "source": [
    "data.index = data['SampleID']\n",
    "marker.index.equals(data.index)"
   ]
  },
  {
   "cell_type": "code",
   "execution_count": 109,
   "metadata": {
    "colab": {
     "base_uri": "https://localhost:8080/",
     "height": 0
    },
    "id": "dq2E_2tecooP",
    "outputId": "7208aee7-d707-4ff4-fa69-4fa2115a4e23"
   },
   "outputs": [
    {
     "data": {
      "text/html": [
       "<div>\n",
       "<style scoped>\n",
       "    .dataframe tbody tr th:only-of-type {\n",
       "        vertical-align: middle;\n",
       "    }\n",
       "\n",
       "    .dataframe tbody tr th {\n",
       "        vertical-align: top;\n",
       "    }\n",
       "\n",
       "    .dataframe thead th {\n",
       "        text-align: right;\n",
       "    }\n",
       "</style>\n",
       "<table border=\"1\" class=\"dataframe\">\n",
       "  <thead>\n",
       "    <tr style=\"text-align: right;\">\n",
       "      <th></th>\n",
       "      <th>SampleID</th>\n",
       "      <th>A1BG</th>\n",
       "      <th>ADA</th>\n",
       "      <th>CDH2</th>\n",
       "      <th>AKT3</th>\n",
       "      <th>POU5F1P5</th>\n",
       "      <th>ZBTB11-AS1</th>\n",
       "      <th>MED6</th>\n",
       "      <th>NR2E3</th>\n",
       "      <th>NAALAD2</th>\n",
       "      <th>...</th>\n",
       "      <th>DMTF1</th>\n",
       "      <th>PPP4R1</th>\n",
       "      <th>CDH1</th>\n",
       "      <th>SLC12A6</th>\n",
       "      <th>PTBP3</th>\n",
       "      <th>KCNE2</th>\n",
       "      <th>DGCR2</th>\n",
       "      <th>CASP8AP2</th>\n",
       "      <th>SCO2</th>\n",
       "      <th>Immune phenotype</th>\n",
       "    </tr>\n",
       "  </thead>\n",
       "  <tbody>\n",
       "    <tr>\n",
       "      <th>0</th>\n",
       "      <td>SAMf2ce197162ce</td>\n",
       "      <td>3.97148</td>\n",
       "      <td>10.2378</td>\n",
       "      <td>9.12886</td>\n",
       "      <td>10.7241</td>\n",
       "      <td>7.3897</td>\n",
       "      <td>1.97723</td>\n",
       "      <td>9.09632</td>\n",
       "      <td>3.4958</td>\n",
       "      <td>5.62838</td>\n",
       "      <td>...</td>\n",
       "      <td>11.5898</td>\n",
       "      <td>12.1645</td>\n",
       "      <td>15.7093</td>\n",
       "      <td>12.7483</td>\n",
       "      <td>13.4474</td>\n",
       "      <td>2.61833</td>\n",
       "      <td>9.76685</td>\n",
       "      <td>11.1387</td>\n",
       "      <td>10.2317</td>\n",
       "      <td>NaN</td>\n",
       "    </tr>\n",
       "    <tr>\n",
       "      <th>1</th>\n",
       "      <td>SAM698d8d76b934</td>\n",
       "      <td>6.19179</td>\n",
       "      <td>10.3348</td>\n",
       "      <td>13.7274</td>\n",
       "      <td>11.8855</td>\n",
       "      <td>5.76731</td>\n",
       "      <td>1.77834</td>\n",
       "      <td>9.5023</td>\n",
       "      <td>2.08421</td>\n",
       "      <td>4.70671</td>\n",
       "      <td>...</td>\n",
       "      <td>12.284</td>\n",
       "      <td>11.7372</td>\n",
       "      <td>13.5991</td>\n",
       "      <td>11.7458</td>\n",
       "      <td>12.0886</td>\n",
       "      <td>3.05154</td>\n",
       "      <td>9.8475</td>\n",
       "      <td>11.4952</td>\n",
       "      <td>10.4029</td>\n",
       "      <td>2.0</td>\n",
       "    </tr>\n",
       "    <tr>\n",
       "      <th>2</th>\n",
       "      <td>SAMc1b27bc16435</td>\n",
       "      <td>3.56082</td>\n",
       "      <td>9.1993</td>\n",
       "      <td>5.63238</td>\n",
       "      <td>9.97882</td>\n",
       "      <td>6.66971</td>\n",
       "      <td>3.32203</td>\n",
       "      <td>9.37385</td>\n",
       "      <td>1.4855</td>\n",
       "      <td>2.67817</td>\n",
       "      <td>...</td>\n",
       "      <td>11.4569</td>\n",
       "      <td>11.3791</td>\n",
       "      <td>15.5232</td>\n",
       "      <td>11.8236</td>\n",
       "      <td>13.9629</td>\n",
       "      <td>0</td>\n",
       "      <td>9.9633</td>\n",
       "      <td>10.9028</td>\n",
       "      <td>9.24281</td>\n",
       "      <td>2.0</td>\n",
       "    </tr>\n",
       "    <tr>\n",
       "      <th>3</th>\n",
       "      <td>SAM85e41e7f33f9</td>\n",
       "      <td>3.88137</td>\n",
       "      <td>11.7038</td>\n",
       "      <td>9.27618</td>\n",
       "      <td>11.1349</td>\n",
       "      <td>6.1579</td>\n",
       "      <td>2.14869</td>\n",
       "      <td>9.15104</td>\n",
       "      <td>2.14869</td>\n",
       "      <td>4.37483</td>\n",
       "      <td>...</td>\n",
       "      <td>12.1515</td>\n",
       "      <td>12.3973</td>\n",
       "      <td>15.1202</td>\n",
       "      <td>13.0617</td>\n",
       "      <td>12.9823</td>\n",
       "      <td>2.62091</td>\n",
       "      <td>9.56163</td>\n",
       "      <td>11.8</td>\n",
       "      <td>11.1349</td>\n",
       "      <td>1.0</td>\n",
       "    </tr>\n",
       "    <tr>\n",
       "      <th>4</th>\n",
       "      <td>SAMf275eb859a39</td>\n",
       "      <td>4.90625</td>\n",
       "      <td>10.1602</td>\n",
       "      <td>7.49974</td>\n",
       "      <td>9.62024</td>\n",
       "      <td>6.76629</td>\n",
       "      <td>1.88613</td>\n",
       "      <td>9.12538</td>\n",
       "      <td>3.71523</td>\n",
       "      <td>5.79708</td>\n",
       "      <td>...</td>\n",
       "      <td>12.3724</td>\n",
       "      <td>12.4545</td>\n",
       "      <td>15.2666</td>\n",
       "      <td>13.831</td>\n",
       "      <td>13.0864</td>\n",
       "      <td>2.12781</td>\n",
       "      <td>10.2516</td>\n",
       "      <td>11.416</td>\n",
       "      <td>10.5975</td>\n",
       "      <td>2.0</td>\n",
       "    </tr>\n",
       "  </tbody>\n",
       "</table>\n",
       "<p>5 rows × 17694 columns</p>\n",
       "</div>"
      ],
      "text/plain": [
       "          SampleID     A1BG      ADA     CDH2     AKT3 POU5F1P5 ZBTB11-AS1  \\\n",
       "0  SAMf2ce197162ce  3.97148  10.2378  9.12886  10.7241   7.3897    1.97723   \n",
       "1  SAM698d8d76b934  6.19179  10.3348  13.7274  11.8855  5.76731    1.77834   \n",
       "2  SAMc1b27bc16435  3.56082   9.1993  5.63238  9.97882  6.66971    3.32203   \n",
       "3  SAM85e41e7f33f9  3.88137  11.7038  9.27618  11.1349   6.1579    2.14869   \n",
       "4  SAMf275eb859a39  4.90625  10.1602  7.49974  9.62024  6.76629    1.88613   \n",
       "\n",
       "      MED6    NR2E3  NAALAD2  ...    DMTF1   PPP4R1     CDH1  SLC12A6  \\\n",
       "0  9.09632   3.4958  5.62838  ...  11.5898  12.1645  15.7093  12.7483   \n",
       "1   9.5023  2.08421  4.70671  ...   12.284  11.7372  13.5991  11.7458   \n",
       "2  9.37385   1.4855  2.67817  ...  11.4569  11.3791  15.5232  11.8236   \n",
       "3  9.15104  2.14869  4.37483  ...  12.1515  12.3973  15.1202  13.0617   \n",
       "4  9.12538  3.71523  5.79708  ...  12.3724  12.4545  15.2666   13.831   \n",
       "\n",
       "     PTBP3    KCNE2    DGCR2 CASP8AP2     SCO2 Immune phenotype  \n",
       "0  13.4474  2.61833  9.76685  11.1387  10.2317              NaN  \n",
       "1  12.0886  3.05154   9.8475  11.4952  10.4029              2.0  \n",
       "2  13.9629        0   9.9633  10.9028  9.24281              2.0  \n",
       "3  12.9823  2.62091  9.56163     11.8  11.1349              1.0  \n",
       "4  13.0864  2.12781  10.2516   11.416  10.5975              2.0  \n",
       "\n",
       "[5 rows x 17694 columns]"
      ]
     },
     "execution_count": 109,
     "metadata": {},
     "output_type": "execute_result"
    }
   ],
   "source": [
    "marker = marker.join(data[target_column])\n",
    "marker = marker.reset_index()\n",
    "marker = marker.rename(columns = {'index':'SampleID'}) \n",
    "marker.head()"
   ]
  },
  {
   "cell_type": "code",
   "execution_count": 110,
   "metadata": {
    "colab": {
     "base_uri": "https://localhost:8080/",
     "height": 0
    },
    "id": "Duad5FAdmW3V",
    "outputId": "ebc90e5e-19ea-45e1-b967-2ebcffcba7b2"
   },
   "outputs": [
    {
     "data": {
      "text/plain": [
       "RangeIndex(start=0, stop=348, step=1)"
      ]
     },
     "execution_count": 110,
     "metadata": {},
     "output_type": "execute_result"
    }
   ],
   "source": [
    "marker.index"
   ]
  },
  {
   "cell_type": "code",
   "execution_count": 111,
   "metadata": {
    "colab": {
     "base_uri": "https://localhost:8080/",
     "height": 0
    },
    "id": "bDkXbL_7iT_P",
    "outputId": "6b0c4317-a54c-497a-d7ef-da268c9894f8"
   },
   "outputs": [
    {
     "data": {
      "text/plain": [
       "(284, 17694)"
      ]
     },
     "execution_count": 111,
     "metadata": {},
     "output_type": "execute_result"
    }
   ],
   "source": [
    "marker = marker.dropna(axis=0)\n",
    "marker.shape"
   ]
  },
  {
   "cell_type": "code",
   "execution_count": 112,
   "metadata": {
    "colab": {
     "base_uri": "https://localhost:8080/",
     "height": 0
    },
    "id": "pMWy9jjqjIxb",
    "outputId": "093a7936-1f67-44fa-906c-32524e37c103"
   },
   "outputs": [
    {
     "data": {
      "text/plain": [
       "RangeIndex(start=0, stop=284, step=1)"
      ]
     },
     "execution_count": 112,
     "metadata": {},
     "output_type": "execute_result"
    }
   ],
   "source": [
    "marker.reset_index(inplace=True, drop=True)\n",
    "marker.index"
   ]
  },
  {
   "cell_type": "code",
   "execution_count": 113,
   "metadata": {
    "colab": {
     "base_uri": "https://localhost:8080/",
     "height": 0
    },
    "id": "1t2VTkGlmVuJ",
    "outputId": "1fab6540-0078-40f9-e65c-feb0d382d30b"
   },
   "outputs": [
    {
     "data": {
      "text/plain": [
       "(284, 17694)"
      ]
     },
     "execution_count": 113,
     "metadata": {},
     "output_type": "execute_result"
    }
   ],
   "source": [
    "######17694 check\n",
    "marker.shape"
   ]
  },
  {
   "cell_type": "code",
   "execution_count": 114,
   "metadata": {
    "id": "ioWXedMq_xXb"
   },
   "outputs": [],
   "source": [
    "x_train_cls0_list, x_train_cls1_list, x_train_cls2_list = [], [], []\n",
    "df_x_train_cls0, df_x_train_cls1, df_x_train_cls2 = pd.DataFrame(columns = marker.columns), pd.DataFrame(columns = marker.columns), pd.DataFrame(columns = marker.columns)"
   ]
  },
  {
   "cell_type": "code",
   "execution_count": 115,
   "metadata": {
    "colab": {
     "base_uri": "https://localhost:8080/",
     "height": 0
    },
    "id": "Q5pg4s1picsV",
    "outputId": "ff19b913-f62b-4637-c793-573a442702f4"
   },
   "outputs": [
    {
     "name": "stderr",
     "output_type": "stream",
     "text": [
      "C:\\Users\\user\\anaconda3\\envs\\imvigor_keras\\lib\\site-packages\\sklearn\\model_selection\\_split.py:297: FutureWarning: Setting a random_state has no effect since shuffle is False. This will raise an error in 0.24. You should leave random_state to its default (None), or set shuffle=True.\n",
      "  FutureWarning\n"
     ]
    }
   ],
   "source": [
    "# split train and test data\n",
    "# 10-fold cross validation\n",
    "\n",
    "train_list = []\n",
    "test_list = []\n",
    "\n",
    "from sklearn.model_selection import StratifiedKFold\n",
    "# 10-fold cv\n",
    "nsplit = 10\n",
    "fold = StratifiedKFold(n_splits=nsplit, shuffle=False, random_state=0)"
   ]
  },
  {
   "cell_type": "code",
   "execution_count": 116,
   "metadata": {},
   "outputs": [
    {
     "name": "stdout",
     "output_type": "stream",
     "text": [
      "10 10\n"
     ]
    }
   ],
   "source": [
    "for train_idx, test_idx in fold.split(marker, marker[target_column]):\n",
    "    # print(\"TRAIN:\", train_idx, \"\\nTEST:\", test_idx)\n",
    "    train_list.append(marker.loc[train_idx])\n",
    "    test_list.append(marker.loc[test_idx])\n",
    "\n",
    "    train_df = marker.loc[train_idx]\n",
    "    df_x_train_cls0 = np.asarray(train_df.loc[train_df[target_column].isin([0.0])].drop(['SampleID', 'Immune phenotype'], axis=1)).astype(np.float32)\n",
    "    df_x_train_cls1 = np.asarray(train_df.loc[train_df[target_column].isin([1.0])].drop(['SampleID', 'Immune phenotype'], axis=1)).astype(np.float32)\n",
    "    df_x_train_cls2 = np.asarray(train_df.loc[train_df[target_column].isin([2.0])].drop(['SampleID', 'Immune phenotype'], axis=1)).astype(np.float32)\n",
    "\n",
    "    x_train_cls0_list.append(df_x_train_cls0)\n",
    "    x_train_cls1_list.append(df_x_train_cls1)\n",
    "    x_train_cls2_list.append(df_x_train_cls2)\n",
    "\n",
    "\n",
    "print(len(train_list), len(test_list))"
   ]
  },
  {
   "cell_type": "code",
   "execution_count": 117,
   "metadata": {
    "colab": {
     "base_uri": "https://localhost:8080/",
     "height": 0
    },
    "id": "tZXlDXTo3NQN",
    "outputId": "0ff237b0-7387-49b5-8b0f-d7cdead2b512"
   },
   "outputs": [
    {
     "name": "stdout",
     "output_type": "stream",
     "text": [
      "Immune phenotype\n",
      "0.0     68\n",
      "1.0     67\n",
      "2.0    120\n",
      "dtype: int64\n",
      "Immune phenotype\n",
      "0.0     8\n",
      "1.0     7\n",
      "2.0    14\n",
      "dtype: int64\n"
     ]
    }
   ],
   "source": [
    "# groupby 1 df\n",
    "\n",
    "print(train_list[0].groupby(target_column).size())\n",
    "print(test_list[0].groupby(target_column).size()) "
   ]
  },
  {
   "cell_type": "code",
   "execution_count": 118,
   "metadata": {},
   "outputs": [
    {
     "data": {
      "text/plain": [
       "10"
      ]
     },
     "execution_count": 118,
     "metadata": {},
     "output_type": "execute_result"
    }
   ],
   "source": [
    "len(train_list)"
   ]
  },
  {
   "cell_type": "code",
   "execution_count": 119,
   "metadata": {
    "colab": {
     "base_uri": "https://localhost:8080/",
     "height": 0
    },
    "id": "HAiCZxYRnaZR",
    "outputId": "2cb1f428-7a9c-4caa-e447-74c1cf9e7e57"
   },
   "outputs": [],
   "source": [
    "# # check the average number of total 5 training data per class\n",
    "# total_train = pd.concat([train_list[0], train_list[1], train_list[2], train_list[3], train_list[4]], axis=0, ignore_index=True)\n",
    "# print(total_train.groupby(target_column).size())\n",
    "# print('\\n', total_train.groupby(target_column).size()/5)"
   ]
  },
  {
   "cell_type": "code",
   "execution_count": 120,
   "metadata": {
    "colab": {
     "base_uri": "https://localhost:8080/",
     "height": 0
    },
    "id": "mAu8j7eamQp_",
    "outputId": "ebc61981-660b-4f35-8d66-aed2fd6c3967"
   },
   "outputs": [],
   "source": [
    "# # check the average number of total 5 test data per class\n",
    "# total_test = pd.concat([test_list[0], test_list[1], test_list[2], test_list[3], test_list[4]], axis=0, ignore_index=True)\n",
    "# print(total_test.groupby(target_column).size())\n",
    "# print('\\n', total_test.groupby(target_column).size()/5)"
   ]
  },
  {
   "cell_type": "code",
   "execution_count": 121,
   "metadata": {
    "id": "2f3C3dn4584-"
   },
   "outputs": [],
   "source": [
    "from sklearn.preprocessing import LabelEncoder\n",
    "encoder =  LabelEncoder()"
   ]
  },
  {
   "cell_type": "code",
   "execution_count": 122,
   "metadata": {
    "id": "2beh0JNx6iN-"
   },
   "outputs": [],
   "source": [
    "x_train_list, x_test_list, y_train_list, y_test_list = [], [], [], []\n",
    "decoded_y_train_list, decoded_y_test_list = [], []"
   ]
  },
  {
   "cell_type": "code",
   "execution_count": 123,
   "metadata": {
    "colab": {
     "base_uri": "https://localhost:8080/",
     "height": 0
    },
    "id": "bDa6ilfFS7F8",
    "outputId": "d29f9fee-cfc0-4035-93c0-d135825a6d69"
   },
   "outputs": [
    {
     "name": "stderr",
     "output_type": "stream",
     "text": [
      "C:\\Users\\user\\anaconda3\\envs\\imvigor_keras\\lib\\site-packages\\pandas\\core\\frame.py:4167: SettingWithCopyWarning: \n",
      "A value is trying to be set on a copy of a slice from a DataFrame\n",
      "\n",
      "See the caveats in the documentation: https://pandas.pydata.org/pandas-docs/stable/user_guide/indexing.html#returning-a-view-versus-a-copy\n",
      "  errors=errors,\n"
     ]
    }
   ],
   "source": [
    "for (train, test) in zip(train_list, test_list): \n",
    "  decoded_y_train = train[target_column]\n",
    "  Y = encoder.fit_transform(decoded_y_train)\n",
    "  y_train = pd.get_dummies(Y).values\n",
    "\n",
    "  decoded_y_test = test[target_column]\n",
    "  Y = encoder.fit_transform(decoded_y_test)\n",
    "  y_test = pd.get_dummies(Y).values\n",
    "\n",
    "  x_train = train.drop([target_column], axis = 1)\n",
    "  x_test = test.drop([target_column], axis = 1)\n",
    "\n",
    "  features = marker.columns.tolist()\n",
    "  features.remove(target_column)\n",
    "  features.remove('SampleID')\n",
    "\n",
    "  x_train.set_index(x_train['SampleID'], inplace=True, drop=True)\n",
    "  x_test.set_index(x_test['SampleID'], inplace=True, drop=True)\n",
    "\n",
    "  x_train.drop(['SampleID'], axis=1, inplace=True)\n",
    "  x_test.drop(['SampleID'], axis=1, inplace=True)\n",
    "  x_train.reset_index(drop=True, inplace=True)\n",
    "  x_test.reset_index(drop=True, inplace=True)\n",
    "\n",
    "\n",
    "  x_test = np.asarray(x_test).astype(np.float32)\n",
    "  x_train = np.asarray(x_train).astype(np.float32)\n",
    "\n",
    "  x_train_list.append(x_train)\n",
    "  x_test_list.append(x_test)\n",
    "  y_train_list.append(y_train)\n",
    "  y_test_list.append(y_test)\n",
    "  decoded_y_train_list.append(decoded_y_train)\n",
    "  decoded_y_test_list.append(decoded_y_test)"
   ]
  },
  {
   "cell_type": "code",
   "execution_count": 124,
   "metadata": {
    "id": "1qZKqIRkU_Bk"
   },
   "outputs": [],
   "source": [
    "from keras import backend as K\n",
    "import tensorflow as tf\n",
    "\n",
    "def result(one_pred, y_test):\n",
    "  acc, rec, pre = [], [], []\n",
    "  \n",
    "  \"\"\"total Accuracy\"\"\"\n",
    "  total_acc = K.sum(one_pred[:,:] * y_test[:,:])/y_test.shape[0]\n",
    "\n",
    "  for target_class in range(y_test.shape[1]):\n",
    "    \"\"\"RECALL per class\"\"\"\n",
    "\n",
    "    tp = K.sum(one_pred[:, target_class] * y_test[:, target_class])  #dtype=float32\n",
    "    tpfn = tf.cast(K.sum(y_test[:, target_class]), tf.float32)  #uint8 to float32\n",
    "\n",
    "    # Recall =  (True Positive) / (True Positive + False Negative)\n",
    "    recall = tp / (tpfn + K.epsilon())\n",
    "\n",
    "    \"\"\"PRECISION per class\"\"\"\n",
    "\n",
    "    tpfp = tf.cast(K.sum(one_pred[:, target_class]), tf.float32)\n",
    "\n",
    "    # Precision = (True Positive) / (True Positive + False Positive)\n",
    "    precision = tp / (tpfp + K.epsilon())\n",
    "\n",
    "    \"\"\"Accuracy per class\"\"\"\n",
    "    tn = np.sum((one_pred[:, target_class]==0) * (y_test[:, target_class]==0).T)\n",
    "\n",
    "    accuracy = (tp + tn)/(tpfn + tpfp - tp + tn)\n",
    "\n",
    "    acc.append(accuracy)\n",
    "    rec.append(recall)\n",
    "    pre.append(precision)\n",
    "\n",
    "    # print(\"\\nclass: \", target_class)\n",
    "    # print(\"tp: \", tp)\n",
    "    # print(\"tp+fn: \", tpfn)\n",
    "    # print(\"tp+fp: \", tpfp)\n",
    "\n",
    "    # tf.print(\"Accuracy = {:.3f}\".format(accuracy))\n",
    "    # tf.print(\"Recall = {:.3f}\".format(recall))\n",
    "    # tf.print(\"Precision = {:.3f} \".format(precision))\n",
    "\n",
    "  return acc, rec, pre, total_acc"
   ]
  },
  {
   "cell_type": "markdown",
   "metadata": {
    "id": "W6U48cnDvxCm"
   },
   "source": [
    "# **T-Test**\n"
   ]
  },
  {
   "cell_type": "code",
   "execution_count": 125,
   "metadata": {
    "id": "Hp5WLcWPvv9f"
   },
   "outputs": [],
   "source": [
    "from statsmodels.sandbox.stats.multicomp import MultiComparison\n",
    "import scipy.stats"
   ]
  },
  {
   "cell_type": "code",
   "execution_count": 126,
   "metadata": {
    "colab": {
     "base_uri": "https://localhost:8080/",
     "height": 34
    },
    "id": "3tU1lQ4W7RBs",
    "outputId": "0628a8a8-9916-41fa-a063-c53acae55d13"
   },
   "outputs": [
    {
     "data": {
      "text/plain": [
       "17692"
      ]
     },
     "execution_count": 126,
     "metadata": {},
     "output_type": "execute_result"
    }
   ],
   "source": [
    "x_train.shape[1]"
   ]
  },
  {
   "cell_type": "code",
   "execution_count": 127,
   "metadata": {
    "colab": {
     "base_uri": "https://localhost:8080/",
     "height": 34
    },
    "id": "V9QpJaJgW7il",
    "outputId": "f38b022b-b70f-4e11-d40d-b165b77509a8"
   },
   "outputs": [
    {
     "data": {
      "text/plain": [
       "(68, 17692)"
      ]
     },
     "execution_count": 127,
     "metadata": {},
     "output_type": "execute_result"
    }
   ],
   "source": [
    "x_train_cls0_list[0].shape"
   ]
  },
  {
   "cell_type": "code",
   "execution_count": 128,
   "metadata": {
    "colab": {
     "base_uri": "https://localhost:8080/",
     "height": 52
    },
    "id": "kE4559WfW_k7",
    "outputId": "370c53f4-c805-4d9a-cd1a-ab596c976481"
   },
   "outputs": [
    {
     "data": {
      "text/plain": [
       "array([ 5.316224 ,  7.6651883,  6.9541984, ..., 10.070971 , 10.705562 ,\n",
       "        9.4054575], dtype=float32)"
      ]
     },
     "execution_count": 128,
     "metadata": {},
     "output_type": "execute_result"
    }
   ],
   "source": [
    "x_train_cls0_list[0][0]"
   ]
  },
  {
   "cell_type": "code",
   "execution_count": 129,
   "metadata": {
    "colab": {
     "base_uri": "https://localhost:8080/",
     "height": 262
    },
    "id": "k1pXeOikdnyc",
    "outputId": "7d54a815-39f7-4198-8e92-5ee01102632b"
   },
   "outputs": [
    {
     "data": {
      "text/html": [
       "<div>\n",
       "<style scoped>\n",
       "    .dataframe tbody tr th:only-of-type {\n",
       "        vertical-align: middle;\n",
       "    }\n",
       "\n",
       "    .dataframe tbody tr th {\n",
       "        vertical-align: top;\n",
       "    }\n",
       "\n",
       "    .dataframe thead th {\n",
       "        text-align: right;\n",
       "    }\n",
       "</style>\n",
       "<table border=\"1\" class=\"dataframe\">\n",
       "  <thead>\n",
       "    <tr style=\"text-align: right;\">\n",
       "      <th></th>\n",
       "      <th>A1BG</th>\n",
       "      <th>ADA</th>\n",
       "      <th>CDH2</th>\n",
       "      <th>AKT3</th>\n",
       "      <th>POU5F1P5</th>\n",
       "      <th>ZBTB11-AS1</th>\n",
       "      <th>MED6</th>\n",
       "      <th>NR2E3</th>\n",
       "      <th>NAALAD2</th>\n",
       "      <th>SNORD116-1</th>\n",
       "      <th>...</th>\n",
       "      <th>HNRNPDL</th>\n",
       "      <th>DMTF1</th>\n",
       "      <th>PPP4R1</th>\n",
       "      <th>CDH1</th>\n",
       "      <th>SLC12A6</th>\n",
       "      <th>PTBP3</th>\n",
       "      <th>KCNE2</th>\n",
       "      <th>DGCR2</th>\n",
       "      <th>CASP8AP2</th>\n",
       "      <th>SCO2</th>\n",
       "    </tr>\n",
       "  </thead>\n",
       "  <tbody>\n",
       "    <tr>\n",
       "      <th>0</th>\n",
       "      <td>6.19179</td>\n",
       "      <td>10.3348</td>\n",
       "      <td>13.7274</td>\n",
       "      <td>11.8855</td>\n",
       "      <td>5.76731</td>\n",
       "      <td>1.77834</td>\n",
       "      <td>9.5023</td>\n",
       "      <td>2.08421</td>\n",
       "      <td>4.70671</td>\n",
       "      <td>8.59474</td>\n",
       "      <td>...</td>\n",
       "      <td>12.5417</td>\n",
       "      <td>12.284</td>\n",
       "      <td>11.7372</td>\n",
       "      <td>13.5991</td>\n",
       "      <td>11.7458</td>\n",
       "      <td>12.0886</td>\n",
       "      <td>3.05154</td>\n",
       "      <td>9.8475</td>\n",
       "      <td>11.4952</td>\n",
       "      <td>10.4029</td>\n",
       "    </tr>\n",
       "    <tr>\n",
       "      <th>1</th>\n",
       "      <td>3.56082</td>\n",
       "      <td>9.1993</td>\n",
       "      <td>5.63238</td>\n",
       "      <td>9.97882</td>\n",
       "      <td>6.66971</td>\n",
       "      <td>3.32203</td>\n",
       "      <td>9.37385</td>\n",
       "      <td>1.4855</td>\n",
       "      <td>2.67817</td>\n",
       "      <td>8.15695</td>\n",
       "      <td>...</td>\n",
       "      <td>12.9666</td>\n",
       "      <td>11.4569</td>\n",
       "      <td>11.3791</td>\n",
       "      <td>15.5232</td>\n",
       "      <td>11.8236</td>\n",
       "      <td>13.9629</td>\n",
       "      <td>0</td>\n",
       "      <td>9.9633</td>\n",
       "      <td>10.9028</td>\n",
       "      <td>9.24281</td>\n",
       "    </tr>\n",
       "    <tr>\n",
       "      <th>2</th>\n",
       "      <td>3.88137</td>\n",
       "      <td>11.7038</td>\n",
       "      <td>9.27618</td>\n",
       "      <td>11.1349</td>\n",
       "      <td>6.1579</td>\n",
       "      <td>2.14869</td>\n",
       "      <td>9.15104</td>\n",
       "      <td>2.14869</td>\n",
       "      <td>4.37483</td>\n",
       "      <td>5.17796</td>\n",
       "      <td>...</td>\n",
       "      <td>12.6481</td>\n",
       "      <td>12.1515</td>\n",
       "      <td>12.3973</td>\n",
       "      <td>15.1202</td>\n",
       "      <td>13.0617</td>\n",
       "      <td>12.9823</td>\n",
       "      <td>2.62091</td>\n",
       "      <td>9.56163</td>\n",
       "      <td>11.8</td>\n",
       "      <td>11.1349</td>\n",
       "    </tr>\n",
       "    <tr>\n",
       "      <th>3</th>\n",
       "      <td>4.90625</td>\n",
       "      <td>10.1602</td>\n",
       "      <td>7.49974</td>\n",
       "      <td>9.62024</td>\n",
       "      <td>6.76629</td>\n",
       "      <td>1.88613</td>\n",
       "      <td>9.12538</td>\n",
       "      <td>3.71523</td>\n",
       "      <td>5.79708</td>\n",
       "      <td>8.12622</td>\n",
       "      <td>...</td>\n",
       "      <td>13.2014</td>\n",
       "      <td>12.3724</td>\n",
       "      <td>12.4545</td>\n",
       "      <td>15.2666</td>\n",
       "      <td>13.831</td>\n",
       "      <td>13.0864</td>\n",
       "      <td>2.12781</td>\n",
       "      <td>10.2516</td>\n",
       "      <td>11.416</td>\n",
       "      <td>10.5975</td>\n",
       "    </tr>\n",
       "    <tr>\n",
       "      <th>4</th>\n",
       "      <td>5.12333</td>\n",
       "      <td>8.82476</td>\n",
       "      <td>7.47552</td>\n",
       "      <td>12.0178</td>\n",
       "      <td>6.72309</td>\n",
       "      <td>2.48973</td>\n",
       "      <td>9.33838</td>\n",
       "      <td>2.02779</td>\n",
       "      <td>9.2093</td>\n",
       "      <td>8.29892</td>\n",
       "      <td>...</td>\n",
       "      <td>12.7182</td>\n",
       "      <td>12.6469</td>\n",
       "      <td>12.3837</td>\n",
       "      <td>14.568</td>\n",
       "      <td>12.6963</td>\n",
       "      <td>12.953</td>\n",
       "      <td>3.55733</td>\n",
       "      <td>9.2681</td>\n",
       "      <td>11.5961</td>\n",
       "      <td>10.6172</td>\n",
       "    </tr>\n",
       "  </tbody>\n",
       "</table>\n",
       "<p>5 rows × 17692 columns</p>\n",
       "</div>"
      ],
      "text/plain": [
       "      A1BG      ADA     CDH2     AKT3 POU5F1P5 ZBTB11-AS1     MED6    NR2E3  \\\n",
       "0  6.19179  10.3348  13.7274  11.8855  5.76731    1.77834   9.5023  2.08421   \n",
       "1  3.56082   9.1993  5.63238  9.97882  6.66971    3.32203  9.37385   1.4855   \n",
       "2  3.88137  11.7038  9.27618  11.1349   6.1579    2.14869  9.15104  2.14869   \n",
       "3  4.90625  10.1602  7.49974  9.62024  6.76629    1.88613  9.12538  3.71523   \n",
       "4  5.12333  8.82476  7.47552  12.0178  6.72309    2.48973  9.33838  2.02779   \n",
       "\n",
       "   NAALAD2 SNORD116-1  ...  HNRNPDL    DMTF1   PPP4R1     CDH1  SLC12A6  \\\n",
       "0  4.70671    8.59474  ...  12.5417   12.284  11.7372  13.5991  11.7458   \n",
       "1  2.67817    8.15695  ...  12.9666  11.4569  11.3791  15.5232  11.8236   \n",
       "2  4.37483    5.17796  ...  12.6481  12.1515  12.3973  15.1202  13.0617   \n",
       "3  5.79708    8.12622  ...  13.2014  12.3724  12.4545  15.2666   13.831   \n",
       "4   9.2093    8.29892  ...  12.7182  12.6469  12.3837   14.568  12.6963   \n",
       "\n",
       "     PTBP3    KCNE2    DGCR2 CASP8AP2     SCO2  \n",
       "0  12.0886  3.05154   9.8475  11.4952  10.4029  \n",
       "1  13.9629        0   9.9633  10.9028  9.24281  \n",
       "2  12.9823  2.62091  9.56163     11.8  11.1349  \n",
       "3  13.0864  2.12781  10.2516   11.416  10.5975  \n",
       "4   12.953  3.55733   9.2681  11.5961  10.6172  \n",
       "\n",
       "[5 rows x 17692 columns]"
      ]
     },
     "execution_count": 129,
     "metadata": {},
     "output_type": "execute_result"
    }
   ],
   "source": [
    "df_x = marker.drop(['SampleID', target_column], axis = 1)\n",
    "df_x.head()"
   ]
  },
  {
   "cell_type": "code",
   "execution_count": 130,
   "metadata": {},
   "outputs": [
    {
     "data": {
      "text/plain": [
       "17692"
      ]
     },
     "execution_count": 130,
     "metadata": {},
     "output_type": "execute_result"
    }
   ],
   "source": [
    "# all column names\n",
    "col_name = df_x.columns.tolist()\n",
    "len(col_name)"
   ]
  },
  {
   "cell_type": "code",
   "execution_count": 131,
   "metadata": {
    "id": "o6AbQ9Di2XYL"
   },
   "outputs": [],
   "source": [
    "from scipy import stats\n",
    "\n",
    "pval_list = []\n",
    "\n",
    "def bonferroni_correction_function(cls0, cls1, alpha, no_test):\n",
    "    # 2.8261361067148994e-06\n",
    "    alpha_bonferroni = alpha/no_test \n",
    "    \n",
    "    # number of valid features\n",
    "    counter = 0\n",
    "    lowpval= []\n",
    "    for i in range(no_test):\n",
    "        statistic, pvalue = stats.ttest_ind(cls0[i], cls1[i], equal_var=False)\n",
    "        # print(len(statistic)) #17962\n",
    "        # print(len(pvalue)) #17692\n",
    "        # print(pvalue)\n",
    "\n",
    "        # low p-value\n",
    "        if pvalue <= alpha_bonferroni:\n",
    "            lowpval.append(pvalue)\n",
    "            counter = counter + 1\n",
    "\n",
    "            # size (selected feature count)*(number of training data per class) array\n",
    "            features.append(i)\n",
    "\n",
    "        # break\n",
    "    # class0, class1의 경우 대략 900 ~ 1300개\n",
    "    # class1, class2의 경우 대략 200 ~ 300개\n",
    "    # class2, class0의 경우 대략 200 ~ 400개\n",
    "    # print(\"number of selected features per fold: \", counter)\n",
    "\n",
    "    # save feature index without duplication\n",
    "    # print(\"# of features w dups: \", len(features))\n",
    "    \n",
    "    nodup_features = list(set(features))\n",
    "    # print(\"# of features w/o dups: \", len(nodup_features))\n",
    "\n",
    "    return nodup_features, lowpval"
   ]
  },
  {
   "cell_type": "code",
   "execution_count": 132,
   "metadata": {
    "id": "Eol8P0fn-cRB"
   },
   "outputs": [],
   "source": [
    "# 'desert':0, 'inflamed':1, 'excluded':2  \n",
    "# no_test=17692\n",
    "# compare an array of each class\n",
    "\n",
    "pval0, pval1, pval2 = [], [], []\n",
    "# selected feature indexes with low p-value\n",
    "feature_list = []\n",
    "\n",
    "if x_train.shape[1] == 17692: \n",
    "  for cls0, cls1, cls2 in zip(x_train_cls0_list, x_train_cls1_list, x_train_cls2_list):\n",
    "\n",
    "    features = []\n",
    "\n",
    "    # print(\"\\ncls0, cls1\")\n",
    "    _, pv0 = bonferroni_correction_function(cls0.T, cls1.T, alpha=0.05, no_test=x_train.shape[1])\n",
    "    # print(\"\\ncls1, cls2\")\n",
    "    _, pv1 = bonferroni_correction_function(cls1.T, cls2.T, alpha=0.05, no_test=x_train.shape[1])\n",
    "    # print(\"\\ncls2, cls0\")\n",
    "    final_nodup_features, pv2 = bonferroni_correction_function(cls2.T, cls0.T, alpha=0.05, no_test=x_train.shape[1])\n",
    "\n",
    "    pval0.append(pv0)\n",
    "    pval1.append(pv1)\n",
    "    pval2.append(pv2)\n",
    "\n",
    "    # Feature indexes per fold\n",
    "    feature_list.append(final_nodup_features)"
   ]
  },
  {
   "cell_type": "code",
   "execution_count": 133,
   "metadata": {},
   "outputs": [],
   "source": [
    "col_name_list = []\n",
    "# {name:index} pairs of selected feature from x_train_cls_list\n",
    "col_idx_map_list = []\n",
    "\n",
    "for i, (cls0, cls1, cls2) in enumerate(zip(x_train_cls0_list, x_train_cls1_list, x_train_cls2_list)):\n",
    "  col_name_list.append(np.array(col_name)[feature_list[i]].astype(np.str))  \n",
    "\n",
    "  col_idx_dict = dict(zip(feature_list[i], col_name_list[i]))\n",
    "  col_idx_map_list.append(col_idx_dict)\n",
    "\n",
    "  # cls with important features\n",
    "  x_train_cls0_list[i] = cls0[:, feature_list[i]]\n",
    "  x_train_cls1_list[i] = cls1[:, feature_list[i]]\n",
    "  x_train_cls2_list[i] = cls2[:, feature_list[i]]"
   ]
  },
  {
   "cell_type": "code",
   "execution_count": 134,
   "metadata": {},
   "outputs": [
    {
     "data": {
      "text/plain": [
       "OrderedDict([(1, 'ADA'),\n",
       "             (58, 'MIR29B2CHG'),\n",
       "             (80, 'MKRN2OS'),\n",
       "             (164, 'FCGR1CP'),\n",
       "             (171, 'IPO5P1'),\n",
       "             (201, 'SH2B3'),\n",
       "             (225, 'ANAPC1P1'),\n",
       "             (236, 'LINC00173'),\n",
       "             (239, 'LOC100287896'),\n",
       "             (272, 'nan'),\n",
       "             (305, 'IGLL5'),\n",
       "             (309, 'MAMLD1'),\n",
       "             (342, 'SMIM25'),\n",
       "             (371, 'SLFN12L'),\n",
       "             (400, 'VIM-AS1'),\n",
       "             (408, 'PSMB8-AS1'),\n",
       "             (419, 'nan'),\n",
       "             (441, 'KLRC4-KLRK1'),\n",
       "             (466, 'ABCC5'),\n",
       "             (472, 'TPTE2P5'),\n",
       "             (490, 'IL18BP'),\n",
       "             (497, 'PTPRU'),\n",
       "             (498, 'TSPAN32'),\n",
       "             (543, 'ANTXRLP1'),\n",
       "             (554, 'nan'),\n",
       "             (596, 'nan'),\n",
       "             (613, 'RASGRP1'),\n",
       "             (617, 'FRY'),\n",
       "             (630, 'FAM13A'),\n",
       "             (633, 'EBI3'),\n",
       "             (640, 'PLXNC1'),\n",
       "             (738, 'LOC101928548'),\n",
       "             (774, 'nan'),\n",
       "             (813, 'nan'),\n",
       "             (829, 'ADAM10'),\n",
       "             (833, 'DHRS2'),\n",
       "             (850, 'KLRG1'),\n",
       "             (878, 'LINC01948'),\n",
       "             (890, 'IGSF6'),\n",
       "             (904, 'LOC102723407'),\n",
       "             (911, 'LOC102723692'),\n",
       "             (945, 'nan'),\n",
       "             (960, 'LOC102724850'),\n",
       "             (968, 'nan'),\n",
       "             (1003, 'LILRB2'),\n",
       "             (1015, 'ADAR'),\n",
       "             (1035, 'IKZF1'),\n",
       "             (1040, 'SIRPB1'),\n",
       "             (1048, 'TLR6'),\n",
       "             (1051, 'PCGF3'),\n",
       "             (1056, 'TRIM22'),\n",
       "             (1072, 'IRF9'),\n",
       "             (1077, 'BTN3A3'),\n",
       "             (1078, 'BTN2A2'),\n",
       "             (1096, 'ST3GAL6'),\n",
       "             (1102, 'IFITM3'),\n",
       "             (1118, 'CD52'),\n",
       "             (1125, 'IFI30'),\n",
       "             (1148, 'CLEC10A'),\n",
       "             (1220, 'UBD'),\n",
       "             (1249, 'IFI44'),\n",
       "             (1251, 'CXCL13'),\n",
       "             (1265, 'GNLY'),\n",
       "             (1334, 'CELF2'),\n",
       "             (1337, 'CXCR6'),\n",
       "             (1341, 'CD226'),\n",
       "             (1350, 'TNFSF13B'),\n",
       "             (1424, 'NEK6'),\n",
       "             (1427, 'IQGAP2'),\n",
       "             (1428, 'VAMP5'),\n",
       "             (1432, 'MTHFD2'),\n",
       "             (1456, 'ALDH1L1'),\n",
       "             (1460, 'PDE10A'),\n",
       "             (1464, 'HPSE'),\n",
       "             (1468, 'LILRB1'),\n",
       "             (1471, 'ARID5A'),\n",
       "             (1472, 'HCP5'),\n",
       "             (1477, 'HCST'),\n",
       "             (1478, 'CD300C'),\n",
       "             (1481, 'FGL2'),\n",
       "             (1542, 'SEC61B'),\n",
       "             (1553, 'IFI44L'),\n",
       "             (1561, 'ADIRF'),\n",
       "             (1574, 'LILRB5'),\n",
       "             (1577, 'SDS'),\n",
       "             (1585, 'LILRB4'),\n",
       "             (1587, 'IL24'),\n",
       "             (1588, 'GLIPR1'),\n",
       "             (1602, 'LILRA1'),\n",
       "             (1612, 'PIM2'),\n",
       "             (1649, 'ESM1'),\n",
       "             (1673, 'BTN3A2'),\n",
       "             (1674, 'BTN3A1'),\n",
       "             (1702, 'CORO1A'),\n",
       "             (1711, 'CHI3L1'),\n",
       "             (1731, 'CHIT1'),\n",
       "             (1735, 'MAP4K1'),\n",
       "             (1775, 'HPS5'),\n",
       "             (1782, 'PADI2'),\n",
       "             (1805, 'SP140'),\n",
       "             (1817, 'STX1B'),\n",
       "             (1841, 'ADCY7'),\n",
       "             (1845, 'SLCO2B1'),\n",
       "             (1851, 'CD300A'),\n",
       "             (1873, 'VSIG4'),\n",
       "             (1875, 'TMEM106A'),\n",
       "             (1912, 'KLHDC7B'),\n",
       "             (1937, 'NLRP3'),\n",
       "             (1945, 'CARD16'),\n",
       "             (1959, 'FMNL2'),\n",
       "             (1979, 'SLAMF6'),\n",
       "             (1982, 'OSBPL6'),\n",
       "             (2004, 'CGAS'),\n",
       "             (2023, 'FCRL1'),\n",
       "             (2024, 'FCRL3'),\n",
       "             (2026, 'GBP4'),\n",
       "             (2027, 'GBP5'),\n",
       "             (2045, 'RASGRP4'),\n",
       "             (2066, 'BATF2'),\n",
       "             (2092, 'IL22RA2'),\n",
       "             (2097, 'GRIN3A'),\n",
       "             (2100, 'CLNK'),\n",
       "             (2130, 'DACH2'),\n",
       "             (2132, 'SH2D1B'),\n",
       "             (2141, 'TAGAP'),\n",
       "             (2156, 'CLCN3'),\n",
       "             (2172, 'BTBD16'),\n",
       "             (2176, 'PIK3AP1'),\n",
       "             (2191, 'CLIC2'),\n",
       "             (2222, 'JAML'),\n",
       "             (2229, 'LRRK2'),\n",
       "             (2238, 'RHEBL1'),\n",
       "             (2263, 'IFI27L1'),\n",
       "             (2280, 'CCR1'),\n",
       "             (2283, 'SLC24A4'),\n",
       "             (2293, 'CCR4'),\n",
       "             (2295, 'CCR5'),\n",
       "             (2302, 'CCR8'),\n",
       "             (2314, 'CMKLR1'),\n",
       "             (2331, 'SNX20'),\n",
       "             (2335, 'MSI2'),\n",
       "             (2340, 'KIF19'),\n",
       "             (2377, 'ZNF816'),\n",
       "             (2386, 'OSCAR'),\n",
       "             (2390, 'ZNF440'),\n",
       "             (2408, 'JSRP1'),\n",
       "             (2410, 'MFSD12'),\n",
       "             (2414, 'LRRC25'),\n",
       "             (2416, 'ZNF792'),\n",
       "             (2420, 'CYP4F22'),\n",
       "             (2442, 'CNR2'),\n",
       "             (2444, 'SLC44A3'),\n",
       "             (2471, 'VWA5B1'),\n",
       "             (2475, 'GOLT1A'),\n",
       "             (2497, 'C1orf162'),\n",
       "             (2507, 'ZNF831'),\n",
       "             (2541, 'CMPK2'),\n",
       "             (2607, 'CD200R1'),\n",
       "             (2618, 'SLC31A2'),\n",
       "             (2623, 'FAM172BP'),\n",
       "             (2653, 'IL31RA'),\n",
       "             (2697, 'PACRG'),\n",
       "             (2740, 'CR1'),\n",
       "             (2744, 'CR1L'),\n",
       "             (2748, 'CR2'),\n",
       "             (2771, 'DBH-AS1'),\n",
       "             (2788, 'GAB3'),\n",
       "             (2789, 'PNCK'),\n",
       "             (2792, 'DOCK11'),\n",
       "             (2796, 'ADORA3'),\n",
       "             (2820, 'NOL4L'),\n",
       "             (2822, 'TRIM69'),\n",
       "             (2847, 'SIRPA'),\n",
       "             (2853, 'DCANP1'),\n",
       "             (2854, 'ADPRH'),\n",
       "             (2888, 'CSF1'),\n",
       "             (2891, 'CSF1R'),\n",
       "             (2898, 'CSF2RA'),\n",
       "             (2903, 'CSF2RB'),\n",
       "             (2927, 'CFAP54'),\n",
       "             (2940, 'LINC00239'),\n",
       "             (2954, 'CEP128'),\n",
       "             (2968, 'HAPLN3'),\n",
       "             (2979, 'CARMIL2'),\n",
       "             (3002, 'CD300LF'),\n",
       "             (3007, 'PIK3R6'),\n",
       "             (3024, 'TMC8'),\n",
       "             (3055, 'TMC4'),\n",
       "             (3099, 'SAMD13'),\n",
       "             (3131, 'CTLA4'),\n",
       "             (3132, 'SHISA4'),\n",
       "             (3144, 'PYHIN1'),\n",
       "             (3169, 'ENTHD1'),\n",
       "             (3171, 'MEI1'),\n",
       "             (3173, 'NFAM1'),\n",
       "             (3179, 'CTRL'),\n",
       "             (3188, 'ITPRIPL1'),\n",
       "             (3191, 'CTSB'),\n",
       "             (3212, 'SLC38A11'),\n",
       "             (3217, 'LRATD1'),\n",
       "             (3219, 'CTSL'),\n",
       "             (3220, 'GDF7'),\n",
       "             (3228, 'GPR155'),\n",
       "             (3230, 'DTX3L'),\n",
       "             (3239, 'BTLA'),\n",
       "             (3245, 'CTSS'),\n",
       "             (3248, 'GLIPR2'),\n",
       "             (3258, 'CTSZ'),\n",
       "             (3278, 'JAKMIP1'),\n",
       "             (3279, 'CYB5A'),\n",
       "             (3287, 'RASGEF1B'),\n",
       "             (3303, 'CYBB'),\n",
       "             (3316, 'CYLD'),\n",
       "             (3320, 'SAMD3'),\n",
       "             (3325, 'NKAIN2'),\n",
       "             (3340, 'GIMAP8'),\n",
       "             (3347, 'AMZ1'),\n",
       "             (3365, 'CYP2J2'),\n",
       "             (3379, 'CYP3A5'),\n",
       "             (3400, 'TTC16'),\n",
       "             (3423, 'CXorf65'),\n",
       "             (3451, 'CLECL1'),\n",
       "             (3454, 'ALDH1L2'),\n",
       "             (3464, 'DGKH'),\n",
       "             (3518, 'DBT'),\n",
       "             (3527, 'ZNF846'),\n",
       "             (3530, 'DCC'),\n",
       "             (3573, 'TTC24'),\n",
       "             (3581, 'AKR1C2'),\n",
       "             (3593, 'TOGARAM2'),\n",
       "             (3602, 'PARP15'),\n",
       "             (3607, 'XIRP1'),\n",
       "             (3643, 'TXLNB'),\n",
       "             (3651, 'GIMAP7'),\n",
       "             (3653, 'BHLHA15'),\n",
       "             (3662, 'IDO2'),\n",
       "             (3674, 'TMEM273'),\n",
       "             (3680, 'CLEC4C'),\n",
       "             (3693, 'PPP1R18'),\n",
       "             (3704, 'NLRP6'),\n",
       "             (3722, 'SEPTIN1'),\n",
       "             (3737, 'DLX5'),\n",
       "             (3757, 'DNASE1L3'),\n",
       "             (3769, 'DOCK1'),\n",
       "             (3770, 'DOCK2'),\n",
       "             (3775, 'ABAT'),\n",
       "             (3782, 'DPYD'),\n",
       "             (3812, 'DTX1'),\n",
       "             (3840, 'GPR183'),\n",
       "             (3842, 'TYMP'),\n",
       "             (3929, 'PATL2'),\n",
       "             (3932, 'MLKL'),\n",
       "             (3937, 'NLRC3'),\n",
       "             (3949, 'AIF1'),\n",
       "             (3951, 'SERPINB1'),\n",
       "             (3956, 'ELAVL4'),\n",
       "             (3967, 'NIBAN3'),\n",
       "             (3983, 'NBPF11'),\n",
       "             (3985, 'nan'),\n",
       "             (3998, 'ELK2AP'),\n",
       "             (4016, 'SPRED2'),\n",
       "             (4052, 'EMP3'),\n",
       "             (4055, 'ADGRE1'),\n",
       "             (4056, 'ZBTB7C'),\n",
       "             (4064, 'TIGIT'),\n",
       "             (4089, 'GAPT'),\n",
       "             (4091, 'STK32A'),\n",
       "             (4104, 'HTRA4'),\n",
       "             (4107, 'TMEM268'),\n",
       "             (4115, 'SUSD3'),\n",
       "             (4125, 'EPB41L1'),\n",
       "             (4145, 'EPHB6'),\n",
       "             (4156, 'EPS8'),\n",
       "             (4206, 'MECOM'),\n",
       "             (4207, 'EVI2A'),\n",
       "             (4208, 'EVI2B'),\n",
       "             (4243, 'FABP6'),\n",
       "             (4261, 'SAMD9L'),\n",
       "             (4296, 'OR5B21'),\n",
       "             (4297, 'MPEG1'),\n",
       "             (4328, 'FCER1G'),\n",
       "             (4333, 'FCGR1A'),\n",
       "             (4343, 'FCGR1B'),\n",
       "             (4349, 'NSUN6'),\n",
       "             (4359, 'ADGRG5'),\n",
       "             (4360, 'FCGR2A'),\n",
       "             (4364, 'FCGR2B'),\n",
       "             (4371, 'FCGR3A'),\n",
       "             (4380, 'FGD2'),\n",
       "             (4422, 'KIAA1324L'),\n",
       "             (4424, 'FAM185A'),\n",
       "             (4426, 'NAPEPLD'),\n",
       "             (4433, 'HS3ST5'),\n",
       "             (4462, 'ABCD2'),\n",
       "             (4488, 'TFEC'),\n",
       "             (4496, 'IKZF2'),\n",
       "             (4514, 'COBLL1'),\n",
       "             (4568, 'DENND3'),\n",
       "             (4575, 'SBNO2'),\n",
       "             (4577, 'TRAK1'),\n",
       "             (4583, 'KLRK1'),\n",
       "             (4646, 'WDFY3'),\n",
       "             (4654, 'FBXO21'),\n",
       "             (4685, 'FNBP1'),\n",
       "             (4754, 'FLI1'),\n",
       "             (4760, 'EPB41L3'),\n",
       "             (4778, 'SEPTIN6'),\n",
       "             (4787, 'STAB1'),\n",
       "             (4795, 'METAP1'),\n",
       "             (4839, 'FLT3'),\n",
       "             (4840, 'DTX4'),\n",
       "             (4847, 'FLT3LG'),\n",
       "             (4855, 'PHLPP1'),\n",
       "             (4857, 'TMEM131L'),\n",
       "             (4875, 'FMO1'),\n",
       "             (4897, 'nan'),\n",
       "             (4915, 'FKBP15'),\n",
       "             (4927, 'TRIM2'),\n",
       "             (4934, 'TBC1D30'),\n",
       "             (5054, 'TNFRSF13B'),\n",
       "             (5082, 'ARHGAP45'),\n",
       "             (5090, 'PIK3R5'),\n",
       "             (5099, 'LILRA4'),\n",
       "             (5107, 'TSPAN12'),\n",
       "             (5122, 'FPR1'),\n",
       "             (5124, 'FPR2'),\n",
       "             (5129, 'VSIG2'),\n",
       "             (5131, 'DDX58'),\n",
       "             (5135, 'FPR3'),\n",
       "             (5142, 'ACOT9'),\n",
       "             (5143, 'PATZ1'),\n",
       "             (5146, 'CORO1C'),\n",
       "             (5152, 'ZMYND8'),\n",
       "             (5170, 'LY96'),\n",
       "             (5223, 'ALOX5AP'),\n",
       "             (5225, 'IFIT5'),\n",
       "             (5251, 'STAC3'),\n",
       "             (5278, 'FUT7'),\n",
       "             (5292, 'FYB1'),\n",
       "             (5293, 'FYN'),\n",
       "             (5303, 'IFI6'),\n",
       "             (5311, 'ZDHHC20'),\n",
       "             (5319, 'UBN2'),\n",
       "             (5357, 'MCOLN2'),\n",
       "             (5372, 'PCSK9'),\n",
       "             (5391, 'NAPSB'),\n",
       "             (5400, 'SCML4'),\n",
       "             (5415, 'HEATR9'),\n",
       "             (5422, 'ZNF683'),\n",
       "             (5423, 'ARHGAP30'),\n",
       "             (5527, 'GALNT1'),\n",
       "             (5537, 'IFFO1'),\n",
       "             (5553, 'NCR3'),\n",
       "             (5581, 'IL4I1'),\n",
       "             (5587, 'SAMHD1'),\n",
       "             (5644, 'LRIG1'),\n",
       "             (5667, 'LRRTM2'),\n",
       "             (5673, 'PPP1R16B'),\n",
       "             (5721, 'PHF19'),\n",
       "             (5732, 'GIMAP2'),\n",
       "             (5747, 'PTPN22'),\n",
       "             (5761, 'STAP1'),\n",
       "             (5775, 'GATA3'),\n",
       "             (5776, 'CLEC4E'),\n",
       "             (5790, 'FBXO6'),\n",
       "             (5797, 'SACS'),\n",
       "             (5798, 'PLA2G2D'),\n",
       "             (5806, 'GALNT8'),\n",
       "             (5814, 'GBP1'),\n",
       "             (5815, 'GBP2'),\n",
       "             (5883, 'RGL4'),\n",
       "             (5895, 'GFI1'),\n",
       "             (5902, 'SH3YL1'),\n",
       "             (5928, 'GGTA1P'),\n",
       "             (5965, 'RNF11'),\n",
       "             (5970, 'AMPD1'),\n",
       "             (5985, 'ZBTB32'),\n",
       "             (5988, 'SIGLEC7'),\n",
       "             (6004, 'LAMP3'),\n",
       "             (6038, 'CYTH4'),\n",
       "             (6060, 'GLS2'),\n",
       "             (6066, 'SIGLEC9'),\n",
       "             (6067, 'SIGLEC8'),\n",
       "             (6071, 'GPR82'),\n",
       "             (6077, 'C5AR2'),\n",
       "             (6086, 'SIT1'),\n",
       "             (6088, 'TNFRSF21'),\n",
       "             (6117, 'ADAMDEC1'),\n",
       "             (6131, 'TOX3'),\n",
       "             (6138, 'P2RY10'),\n",
       "             (6161, 'BIN1'),\n",
       "             (6191, 'GNAO1'),\n",
       "             (6206, 'GNGT2'),\n",
       "             (6254, 'SLC25A45'),\n",
       "             (6272, 'CXCR3'),\n",
       "             (6275, 'CD163L1'),\n",
       "             (6292, 'KSR2'),\n",
       "             (6315, 'LOC283710'),\n",
       "             (6322, 'GPR15'),\n",
       "             (6337, 'HID1'),\n",
       "             (6344, 'VMO1'),\n",
       "             (6346, 'MILR1'),\n",
       "             (6355, 'GPR18'),\n",
       "             (6366, 'GPR19'),\n",
       "             (6373, 'HMSD'),\n",
       "             (6387, 'PPP1R37'),\n",
       "             (6404, 'TMEM150B'),\n",
       "             (6413, 'C1orf167'),\n",
       "             (6428, 'BTBD8'),\n",
       "             (6435, 'SIRPB2'),\n",
       "             (6443, 'NT5DC4'),\n",
       "             (6449, 'CCDC141'),\n",
       "             (6462, 'RUFY4'),\n",
       "             (6478, 'TCAIM'),\n",
       "             (6497, 'GPRIN3'),\n",
       "             (6517, 'GPR34'),\n",
       "             (6554, 'FBXO43'),\n",
       "             (6565, 'FAM78A'),\n",
       "             (6614, 'TMEM176B'),\n",
       "             (6653, 'SLC43A3'),\n",
       "             (6714, 'C11orf21'),\n",
       "             (6715, 'CD274'),\n",
       "             (6724, 'CXCL2'),\n",
       "             (6776, 'PARVB'),\n",
       "             (6787, 'VPREB3'),\n",
       "             (6797, 'ICOS'),\n",
       "             (6805, 'SNX10'),\n",
       "             (6819, 'GPR171'),\n",
       "             (6836, 'GPR132'),\n",
       "             (6864, 'PSAT1'),\n",
       "             (6877, 'GZMH'),\n",
       "             (6879, 'PILRA'),\n",
       "             (6891, 'TBX21'),\n",
       "             (6892, 'GZMA'),\n",
       "             (6895, 'GZMB'),\n",
       "             (6896, 'GZMK'),\n",
       "             (6897, 'GZMM'),\n",
       "             (6938, 'HCK'),\n",
       "             (6949, 'NCKAP1L'),\n",
       "             (6955, 'ANXA5'),\n",
       "             (6964, 'KCNIP1'),\n",
       "             (6970, 'CD209'),\n",
       "             (6981, 'ANXA6'),\n",
       "             (6994, 'HK3'),\n",
       "             (6996, 'HLA-A'),\n",
       "             (6997, 'HLA-B'),\n",
       "             (6998, 'HLA-C'),\n",
       "             (6999, 'HLA-DMA'),\n",
       "             (7000, 'HLA-DMB'),\n",
       "             (7003, 'HLA-DOA'),\n",
       "             (7004, 'HLA-DOB'),\n",
       "             (7005, 'HLA-DPA1'),\n",
       "             (7006, 'HLA-DPB1'),\n",
       "             (7008, 'HLA-DQA2'),\n",
       "             (7009, 'HLA-DQB1'),\n",
       "             (7010, 'HLA-DQB2'),\n",
       "             (7011, 'HLA-DRA'),\n",
       "             (7012, 'HLA-DRB1'),\n",
       "             (7013, 'HLA-DRB3'),\n",
       "             (7014, 'HLA-DRB4'),\n",
       "             (7016, 'HLA-DRB6'),\n",
       "             (7017, 'AOAH'),\n",
       "             (7019, 'HLA-E'),\n",
       "             (7020, 'HLA-F'),\n",
       "             (7022, 'HLA-H'),\n",
       "             (7038, 'HMGCS2'),\n",
       "             (7111, 'HOXD1'),\n",
       "             (7129, 'ADGRE4P'),\n",
       "             (7131, 'RAB37'),\n",
       "             (7138, 'HRH2'),\n",
       "             (7147, 'HSD11B1'),\n",
       "             (7151, 'HSD17B2'),\n",
       "             (7157, 'BIRC3'),\n",
       "             (7168, 'HSPA7'),\n",
       "             (7195, 'HTR4'),\n",
       "             (7200, 'IARS1'),\n",
       "             (7208, 'ICA1'),\n",
       "             (7209, 'ICAM1'),\n",
       "             (7213, 'CLEC4D'),\n",
       "             (7219, 'ICAM3'),\n",
       "             (7243, 'ENPP7'),\n",
       "             (7257, 'IRF8'),\n",
       "             (7277, 'MROH2A'),\n",
       "             (7288, 'ID3'),\n",
       "             (7295, 'ID4'),\n",
       "             (7297, 'ARSI'),\n",
       "             (7299, 'ZC3H12D'),\n",
       "             (7318, 'ACER2'),\n",
       "             (7333, 'APOC1'),\n",
       "             (7362, 'CD300E'),\n",
       "             (7373, 'IFI27'),\n",
       "             (7380, 'IFI35'),\n",
       "             (7383, 'SP110'),\n",
       "             (7384, 'IFIT2'),\n",
       "             (7385, 'IFIT1'),\n",
       "             (7386, 'FCRL6'),\n",
       "             (7390, 'IFIT3'),\n",
       "             (7401, 'SOWAHB'),\n",
       "             (7416, 'IFNG'),\n",
       "             (7444, 'SERINC2'),\n",
       "             (7450, 'AMIGO2'),\n",
       "             (7452, 'APOE'),\n",
       "             (7467, 'SHISAL2A'),\n",
       "             (7475, 'FTCDNL1'),\n",
       "             (7498, 'JCHAIN'),\n",
       "             (7512, 'GPR141'),\n",
       "             (7517, 'LILRA5'),\n",
       "             (7520, 'FAS'),\n",
       "             (7528, 'IL2RA'),\n",
       "             (7529, 'FASLG'),\n",
       "             (7530, 'IL2RB'),\n",
       "             (7531, 'IL2RG'),\n",
       "             (7534, 'IL5RA'),\n",
       "             (7535, 'IL6'),\n",
       "             (7540, 'IL7R'),\n",
       "             (7545, 'CXCR2P1'),\n",
       "             (7547, 'IL10'),\n",
       "             (7548, 'IL10RA'),\n",
       "             (7553, 'IL12B'),\n",
       "             (7554, 'IL12RB1'),\n",
       "             (7555, 'IL12RB2'),\n",
       "             (7563, 'IL15'),\n",
       "             (7565, 'IL15RA'),\n",
       "             (7568, 'IL16'),\n",
       "             (7569, 'TNFRSF9'),\n",
       "             (7580, 'IDO1'),\n",
       "             (7586, 'CXCL10'),\n",
       "             (7589, 'INPP5A'),\n",
       "             (7605, 'IRF1'),\n",
       "             (7609, 'IRF4'),\n",
       "             (7612, 'IRF7'),\n",
       "             (7614, 'ISG20'),\n",
       "             (7622, 'ITGA4'),\n",
       "             (7627, 'ITGAD'),\n",
       "             (7628, 'ITGAE'),\n",
       "             (7629, 'ITGAL'),\n",
       "             (7630, 'ITGAM'),\n",
       "             (7632, 'ITGAX'),\n",
       "             (7634, 'ITGB2'),\n",
       "             (7641, 'ITGB7'),\n",
       "             (7648, 'ITK'),\n",
       "             (7661, 'JAK2'),\n",
       "             (7662, 'JAK3'),\n",
       "             (7670, 'ANOS1'),\n",
       "             (7676, 'KCNA2'),\n",
       "             (7677, 'KCNA3'),\n",
       "             (7689, 'TBC1D10C'),\n",
       "             (7722, 'DRAXIN'),\n",
       "             (7745, 'NRROS'),\n",
       "             (7755, 'SPATC1'),\n",
       "             (7768, 'RAB15'),\n",
       "             (7772, 'KCNJ10'),\n",
       "             (7785, 'KCNMA1'),\n",
       "             (7818, 'KIR2DL4'),\n",
       "             (7820, 'KIR3DL2'),\n",
       "             (7826, 'KLRB1'),\n",
       "             (7827, 'KLRC1'),\n",
       "             (7828, 'KLRC2'),\n",
       "             (7829, 'KLRC3'),\n",
       "             (7830, 'KLRD1'),\n",
       "             (7846, 'KRTAP5-9'),\n",
       "             (7874, 'KRTAP5-10'),\n",
       "             (7876, 'THEMIS'),\n",
       "             (7889, 'C10orf99'),\n",
       "             (7894, 'GVINP1'),\n",
       "             (7916, 'TNFAIP8L3'),\n",
       "             (7925, 'SCIMP'),\n",
       "             (7930, 'CCL4L1'),\n",
       "             (7936, 'CLEC17A'),\n",
       "             (7945, 'ZNF888'),\n",
       "             (7958, 'GBP7'),\n",
       "             (7990, 'C4orf50'),\n",
       "             (7991, 'KRT86'),\n",
       "             (8012, 'NUGGC'),\n",
       "             (8036, 'LAG3'),\n",
       "             (8037, 'LAIR1'),\n",
       "             (8052, 'RHOG'),\n",
       "             (8079, 'ARHGAP4'),\n",
       "             (8082, 'LCK'),\n",
       "             (8084, 'LCP1'),\n",
       "             (8085, 'LCP2'),\n",
       "             (8099, 'LGALS2'),\n",
       "             (8105, 'LGALS9'),\n",
       "             (8116, 'LIMK1'),\n",
       "             (8119, 'LIPA'),\n",
       "             (8120, 'RHOH'),\n",
       "             (8133, 'ZNF321P'),\n",
       "             (8163, 'FAM174B'),\n",
       "             (8180, 'GBP1P1'),\n",
       "             (8203, 'DTHD1'),\n",
       "             (8206, 'CCSER1'),\n",
       "             (8239, 'C9orf139'),\n",
       "             (8242, 'SLC25A53'),\n",
       "             (8275, 'LRP5'),\n",
       "             (8290, 'LTA'),\n",
       "             (8292, 'LTB'),\n",
       "             (8304, 'ARNTL'),\n",
       "             (8308, 'LY9'),\n",
       "             (8309, 'CD180'),\n",
       "             (8312, 'LYN'),\n",
       "             (8313, 'SH2D1A'),\n",
       "             (8314, 'LYZ'),\n",
       "             (8335, 'ARRB2'),\n",
       "             (8337, 'SMAD6'),\n",
       "             (8340, 'MAF'),\n",
       "             (8361, 'MAOA'),\n",
       "             (8369, 'MARK1'),\n",
       "             (8389, 'MATK'),\n",
       "             (8403, 'MBNL1'),\n",
       "             (8406, 'MC4R'),\n",
       "             (8411, 'MCL1'),\n",
       "             (8418, 'CD46'),\n",
       "             (8438, 'MEFV'),\n",
       "             (8446, 'RAB8A'),\n",
       "             (8460, 'MELTF'),\n",
       "             (8461, 'MFNG'),\n",
       "             (8472, 'MGST2'),\n",
       "             (8474, 'CIITA'),\n",
       "             (8477, 'MICB'),\n",
       "             (8480, 'CXCL9'),\n",
       "             (8509, 'MMP9'),\n",
       "             (8522, 'ASGR2'),\n",
       "             (8525, 'MNDA'),\n",
       "             (8536, 'MPP1'),\n",
       "             (8542, 'MRC1'),\n",
       "             (8555, 'KRTAP5-7'),\n",
       "             (8556, 'CASP1P2'),\n",
       "             (8557, 'CARD17'),\n",
       "             (8602, 'MIAT'),\n",
       "             (8603, 'ODF3B'),\n",
       "             (8617, 'IRF1-AS1'),\n",
       "             (8621, 'CALHM6'),\n",
       "             (8675, 'TARP'),\n",
       "             (8681, 'MSN'),\n",
       "             (8682, 'MSR1'),\n",
       "             (8687, 'MSX2'),\n",
       "             (8697, 'MT2A'),\n",
       "             (8719, 'MYO1F'),\n",
       "             (8739, 'MX1'),\n",
       "             (8744, 'MYBL1'),\n",
       "             (8748, 'MYBPC3'),\n",
       "             (8762, 'ZFHX3'),\n",
       "             (8775, 'MYO7A'),\n",
       "             (8776, 'MYO7B'),\n",
       "             (8807, 'NCF2'),\n",
       "             (8808, 'NCF4'),\n",
       "             (8849, 'RERE'),\n",
       "             (8861, 'GIMAP6'),\n",
       "             (8863, 'NELL1'),\n",
       "             (8869, 'NELL2'),\n",
       "             (8877, 'NFATC2'),\n",
       "             (8891, 'NFKB2'),\n",
       "             (8911, 'NINJ2'),\n",
       "             (8913, 'NKG7'),\n",
       "             (8945, 'NPAS2'),\n",
       "             (8947, 'NPC1'),\n",
       "             (8978, 'NTRK1'),\n",
       "             (8983, 'ROR2'),\n",
       "             (9005, 'OAS2'),\n",
       "             (9008, 'OAS3'),\n",
       "             (9027, 'TIFAB'),\n",
       "             (9030, 'OLR1'),\n",
       "             (9061, 'P2RX1'),\n",
       "             (9063, 'P2RX5'),\n",
       "             (9064, 'P2RX7'),\n",
       "             (9068, 'P2RY6'),\n",
       "             (9094, 'CHST11'),\n",
       "             (9102, 'IL21R'),\n",
       "             (9123, 'PAX5'),\n",
       "             (9144, 'TRAT1'),\n",
       "             (9148, 'CLEC4A'),\n",
       "             (9165, 'FOXP3'),\n",
       "             (9213, 'LAP3'),\n",
       "             (9252, 'SCCPDH'),\n",
       "             (9311, 'AADAT'),\n",
       "             (9320, 'PLEKHO1'),\n",
       "             (9331, 'HERC5'),\n",
       "             (9336, 'PLCE1'),\n",
       "             (9350, 'ABI3'),\n",
       "             (9360, 'MZB1'),\n",
       "             (9398, 'TLR7'),\n",
       "             (9408, 'SLC15A3'),\n",
       "             (9415, 'FKBP11'),\n",
       "             (9416, 'ZDHHC3'),\n",
       "             (9423, 'TLR8'),\n",
       "             (9438, 'PDCD1'),\n",
       "             (9445, 'MS4A4A'),\n",
       "             (9459, 'CHST15'),\n",
       "             (9472, 'ANGPT4'),\n",
       "             (9473, 'CRLF3'),\n",
       "             (9484, 'TRPV2'),\n",
       "             (9494, 'BIN2'),\n",
       "             (9495, 'PDE4B'),\n",
       "             (9513, 'IP6K2'),\n",
       "             (9524, 'EVL'),\n",
       "             (9551, 'ETV7'),\n",
       "             (9602, 'TRIM33'),\n",
       "             (9657, 'ASB2'),\n",
       "             (9695, 'CD244'),\n",
       "             (9701, 'TMEM8B'),\n",
       "             (9712, 'MAP3K20'),\n",
       "             (9723, 'GALNT7'),\n",
       "             (9724, 'ADA2'),\n",
       "             (9743, 'ATP8B1'),\n",
       "             (9753, 'PFN1'),\n",
       "             (9773, 'PHEX'),\n",
       "             (9779, 'ATP6V1B2'),\n",
       "             (9783, 'SERPINA1'),\n",
       "             (9790, 'SERPINB9'),\n",
       "             (9801, 'PIK3C2B'),\n",
       "             (9808, 'PIK3CD'),\n",
       "             (9809, 'PIK3CG'),\n",
       "             (9814, 'ACP2'),\n",
       "             (9818, 'PIP4K2A'),\n",
       "             (9838, 'PLAUR'),\n",
       "             (9840, 'PLCB2'),\n",
       "             (9851, 'TM6SF1'),\n",
       "             (9852, 'UBASH3A'),\n",
       "             (9867, 'PLEK'),\n",
       "             (9910, 'P2RY13'),\n",
       "             (9912, 'GPR84'),\n",
       "             (9913, 'IL20RA'),\n",
       "             (9936, 'ACP5'),\n",
       "             (9949, 'SETD4'),\n",
       "             (9972, 'TREM2'),\n",
       "             (9991, 'GNG2'),\n",
       "             (10022, 'SASH3'),\n",
       "             (10038, 'XRN1'),\n",
       "             (10065, 'POU2AF1'),\n",
       "             (10068, 'CPVL'),\n",
       "             (10072, 'RHOF'),\n",
       "             (10080, 'APBB1IP'),\n",
       "             (10081, 'POU2F2'),\n",
       "             (10108, 'SGTB'),\n",
       "             (10116, 'UGT1A6'),\n",
       "             (10117, 'UGT1A5'),\n",
       "             (10127, 'POU5F1'),\n",
       "             (10138, 'PARP14'),\n",
       "             (10141, 'MINDY2'),\n",
       "             (10145, 'UGT1A4'),\n",
       "             (10146, 'UGT1A1'),\n",
       "             (10147, 'UGT1A3'),\n",
       "             (10158, 'CROT'),\n",
       "             (10159, 'PPARG'),\n",
       "             (10161, 'P4HTM'),\n",
       "             (10162, 'MANSC1'),\n",
       "             (10178, 'RAB39A'),\n",
       "             (10180, 'XAF1'),\n",
       "             (10186, 'ZNF853'),\n",
       "             (10188, 'FAM20A'),\n",
       "             (10259, 'TENT5C'),\n",
       "             (10261, 'GDPD2'),\n",
       "             (10278, 'FNBP1L'),\n",
       "             (10303, 'LAX1'),\n",
       "             (10358, 'SSH3'),\n",
       "             (10410, 'MCUB'),\n",
       "             (10413, 'MARCHF1'),\n",
       "             (10435, 'EPN3'),\n",
       "             (10460, 'OXR1'),\n",
       "             (10496, 'CRTAC1'),\n",
       "             (10562, 'NADSYN1'),\n",
       "             (10613, 'SLC47A1'),\n",
       "             (10648, 'TMEM140'),\n",
       "             (10670, 'GIMAP4'),\n",
       "             (10680, 'SLC29A3'),\n",
       "             (10706, 'GIMAP5'),\n",
       "             (10728, 'TMEM176A'),\n",
       "             (10742, 'SIRPG'),\n",
       "             (10755, 'DNAJA4'),\n",
       "             (10770, 'BATF3'),\n",
       "             (10771, 'PRF1'),\n",
       "             (10774, 'SMPD3'),\n",
       "             (10775, 'SRGN'),\n",
       "             (10784, 'MAML3'),\n",
       "             (10789, 'ZNF823'),\n",
       "             (10794, 'CDC42BPG'),\n",
       "             (10802, 'STAB2'),\n",
       "             (10810, 'BMP2K'),\n",
       "             (10817, 'DDX60'),\n",
       "             (10833, 'DOCK10'),\n",
       "             (10855, 'FLVCR2'),\n",
       "             (10896, 'PKIA'),\n",
       "             (10903, 'VAC14'),\n",
       "             (10935, 'HHAT'),\n",
       "             (10999, 'AXL'),\n",
       "             (11003, 'ADAP2'),\n",
       "             (11008, 'PRKCE'),\n",
       "             (11017, 'RNF130'),\n",
       "             (11018, 'PRKCG'),\n",
       "             (11035, 'ARHGAP15'),\n",
       "             (11065, 'PRKCQ'),\n",
       "             (11066, 'WSB2'),\n",
       "             (11070, 'GPRC5C'),\n",
       "             (11103, 'SULF2'),\n",
       "             (11125, 'MAPK10'),\n",
       "             (11212, 'CRTAM'),\n",
       "             (11248, 'RPRM'),\n",
       "             (11251, 'KCNQ5'),\n",
       "             (11253, 'RELN'),\n",
       "             (11281, 'SUCNR1'),\n",
       "             (11287, 'B2M'),\n",
       "             (11295, 'ZC3HAV1'),\n",
       "             (11297, 'SLAMF8'),\n",
       "             (11354, 'ARNTL2'),\n",
       "             (11356, 'DUSP22'),\n",
       "             (11375, 'PSMB8'),\n",
       "             (11384, 'FAM20C'),\n",
       "             (11388, 'PSMB9'),\n",
       "             (11396, 'PSMB10'),\n",
       "             (11434, 'DDX24'),\n",
       "             (11442, 'CASS4'),\n",
       "             (11480, 'RGL3'),\n",
       "             (11503, 'ZNFX1'),\n",
       "             (11514, 'ANKRD50'),\n",
       "             (11528, 'PSME1'),\n",
       "             (11531, 'PSME2'),\n",
       "             (11540, 'ARFGEF3'),\n",
       "             (11550, 'PTAFR'),\n",
       "             (11556, 'PTGDR'),\n",
       "             (11599, 'PTGS1'),\n",
       "             (11626, 'PTK2'),\n",
       "             (11628, 'ERMN'),\n",
       "             (11632, 'PLEKHH1'),\n",
       "             (11633, 'GRAMD1B'),\n",
       "             (11637, 'PLEKHG1'),\n",
       "             (11719, 'KIF17'),\n",
       "             (11723, 'PREX1'),\n",
       "             (11774, 'KIAA1522'),\n",
       "             (11795, 'QSOX1'),\n",
       "             (11818, 'WDFY4'),\n",
       "             (11819, 'DENND1A'),\n",
       "             (11825, 'SFMBT2'),\n",
       "             (11847, 'PTPN7'),\n",
       "             (11852, 'RAB40C'),\n",
       "             (11859, 'HAMP'),\n",
       "             (11865, 'SLAMF7'),\n",
       "             (11870, 'KRTAP5-8'),\n",
       "             (11879, 'PTPRC'),\n",
       "             (11882, 'PTPRCAP'),\n",
       "             (11887, 'PTPRJ'),\n",
       "             (11889, 'PTPRM'),\n",
       "             (11895, 'PTPRR'),\n",
       "             (11911, 'CXCL16'),\n",
       "             (11928, 'SQOR'),\n",
       "             (11930, 'MS4A7'),\n",
       "             (11934, 'RHOU'),\n",
       "             (11935, 'NLRC4'),\n",
       "             (11952, 'ARHGAP22'),\n",
       "             (11987, 'RAB27A'),\n",
       "             (11994, 'RAC2'),\n",
       "             (12023, 'RAP1GAP'),\n",
       "             (12034, 'PLAAT4'),\n",
       "             (12041, 'HIVEP3'),\n",
       "             (12064, 'GNB4'),\n",
       "             (12074, 'BCKDHB'),\n",
       "             (12092, 'BCL2A1'),\n",
       "             (12114, 'RFX5'),\n",
       "             (12116, 'RGS1'),\n",
       "             (12120, 'ACTB'),\n",
       "             (12141, 'RNASE2'),\n",
       "             (12146, 'RNASE6'),\n",
       "             (12157, 'BACH2'),\n",
       "             (12161, 'SLC5A7'),\n",
       "             (12165, 'APOBEC3G'),\n",
       "             (12208, 'TNFRSF17'),\n",
       "             (12343, 'RTN1'),\n",
       "             (12371, 'CFB'),\n",
       "             (12404, 'SCN5A'),\n",
       "             (12417, 'CCL3'),\n",
       "             (12420, 'CCL4'),\n",
       "             (12421, 'CCL5'),\n",
       "             (12422, 'CCL7'),\n",
       "             (12423, 'CCL8'),\n",
       "             (12429, 'CCL18'),\n",
       "             (12430, 'CCL19'),\n",
       "             (12432, 'CCL21'),\n",
       "             (12434, 'CCL23'),\n",
       "             (12438, 'CXCL11'),\n",
       "             (12463, 'PRDM1'),\n",
       "             (12474, 'GALNT11'),\n",
       "             (12501, 'SECTM1'),\n",
       "             (12504, 'BLK'),\n",
       "             (12506, 'MYO1G'),\n",
       "             (12510, 'SELPLG'),\n",
       "             (12511, 'SEMA3F'),\n",
       "             (12520, 'CDH23'),\n",
       "             (12531, 'SAMSN1'),\n",
       "             (12535, 'PARVG'),\n",
       "             (12539, 'NPFFR1'),\n",
       "             (12546, 'SLC39A8'),\n",
       "             (12551, 'NOD2'),\n",
       "             (12552, 'TINAGL1'),\n",
       "             (12559, 'IFIH1'),\n",
       "             (12588, 'SETMAR'),\n",
       "             (12610, 'MS4A6A'),\n",
       "             (12640, 'CXCR5'),\n",
       "             (12662, 'ARHGAP9'),\n",
       "             (12679, 'CASP17P'),\n",
       "             (12692, 'MMP25'),\n",
       "             (12702, 'BLVRA'),\n",
       "             (12773, 'ARRDC5'),\n",
       "             (12783, 'ANKRD36BP2'),\n",
       "             (12786, 'CLEC7A'),\n",
       "             (12796, 'PLA2G2F'),\n",
       "             (12803, 'REREP3'),\n",
       "             (12854, 'PARP12'),\n",
       "             (12855, 'GAREM1'),\n",
       "             (12890, 'ST6GAL1'),\n",
       "             (12924, 'PPP1R3G'),\n",
       "             (12927, 'ST8SIA1'),\n",
       "             (12932, 'LPIN3'),\n",
       "             (12939, 'RASAL3'),\n",
       "             (12978, 'SLA'),\n",
       "             (12980, 'SLAMF1'),\n",
       "             (13017, 'SLC2A5'),\n",
       "             (13045, 'SLC6A1'),\n",
       "             (13070, 'NCF1'),\n",
       "             (13072, 'SLC6A7'),\n",
       "             (13084, 'SLC6A9'),\n",
       "             (13085, 'nan'),\n",
       "             (13118, 'SLC8A1'),\n",
       "             (13121, 'SLC9A1'),\n",
       "             (13123, 'NCF1C'),\n",
       "             (13127, 'SLC11A1'),\n",
       "             (13132, 'SLC14A1'),\n",
       "             (13135, 'SLC16A1'),\n",
       "             (13149, 'SLC22A5'),\n",
       "             (13202, 'SIGLEC1'),\n",
       "             (13238, 'SOD2'),\n",
       "             (13244, 'SORL1'),\n",
       "             (13260, 'SP100'),\n",
       "             (13268, 'SPI1'),\n",
       "             (13269, 'SPIB'),\n",
       "             (13271, 'SPINK1'),\n",
       "             (13273, 'SPN'),\n",
       "             (13289, 'SRC'),\n",
       "             (13298, 'SRMS'),\n",
       "             (13303, 'BRAF'),\n",
       "             (13309, 'TRIM21'),\n",
       "             (13329, 'STAT1'),\n",
       "             (13330, 'STAT2'),\n",
       "             (13332, 'STAT4'),\n",
       "             (13451, 'VAMP1'),\n",
       "             (13454, 'XCL2'),\n",
       "             (13490, 'TAP1'),\n",
       "             (13491, 'TAP2'),\n",
       "             (13492, 'TAPBP'),\n",
       "             (13506, 'TBX2'),\n",
       "             (13511, 'TBXAS1'),\n",
       "             (13540, 'nan'),\n",
       "             (13547, 'TBX3'),\n",
       "             (13564, 'TCN2'),\n",
       "             (13566, 'BTK'),\n",
       "             (13624, 'TGM2'),\n",
       "             (13637, 'THRB'),\n",
       "             (13662, 'TLR1'),\n",
       "             (13663, 'TLR2'),\n",
       "             (13667, 'SERPING1'),\n",
       "             (13682, 'C1QA'),\n",
       "             (13689, 'TNFAIP3'),\n",
       "             (13690, 'C1QB'),\n",
       "             (13693, 'TNFRSF1B'),\n",
       "             (13699, 'C1QC'),\n",
       "             (13705, 'C1R'),\n",
       "             (13714, 'C1S'),\n",
       "             (13724, 'C2'),\n",
       "             (13737, 'TRAF1'),\n",
       "             (13742, 'C3AR1'),\n",
       "             (13749, 'C4B'),\n",
       "             (13756, 'TRPM2'),\n",
       "             (13757, 'TRPS1'),\n",
       "             (13767, 'TSHR'),\n",
       "             (13782, 'TTN'),\n",
       "             (13797, 'C5AR1'),\n",
       "             (13798, 'TUBB2A'),\n",
       "             (13861, 'LOC728989'),\n",
       "             (13873, 'TNFSF4'),\n",
       "             (13877, 'CCR2'),\n",
       "             (13882, 'TNFRSF4'),\n",
       "             (13927, 'TYROBP'),\n",
       "             (14001, 'VAV1'),\n",
       "             (14020, 'VIPR1'),\n",
       "             (14032, 'WARS1'),\n",
       "             (14033, 'WAS'),\n",
       "             (14034, 'WIPF1'),\n",
       "             (14038, 'LAT2'),\n",
       "             (14072, 'FMNL1'),\n",
       "             (14083, 'ZAP70'),\n",
       "             (14140, 'ZNF80'),\n",
       "             (14205, 'CACNA1D'),\n",
       "             (14225, 'SLC30A3'),\n",
       "             (14238, 'LAPTM5'),\n",
       "             (14239, 'TVP23A'),\n",
       "             (14252, 'CACNB3'),\n",
       "             (14261, 'CXCR4'),\n",
       "             (14306, 'ST8SIA4'),\n",
       "             (14312, 'PVRIG'),\n",
       "             (14384, 'LILRA6'),\n",
       "             (14403, 'ABHD16A'),\n",
       "             (14410, 'OR13A1'),\n",
       "             ...])"
      ]
     },
     "execution_count": 134,
     "metadata": {},
     "output_type": "execute_result"
    }
   ],
   "source": [
    "import collections\n",
    "\n",
    "for i, pair in enumerate(col_idx_map_list): \n",
    "    col_idx_map_list[i] =  collections.OrderedDict(sorted(pair.items()))\n",
    "    \n",
    "col_idx_map_list[0]"
   ]
  },
  {
   "cell_type": "code",
   "execution_count": 135,
   "metadata": {},
   "outputs": [
    {
     "data": {
      "text/plain": [
       "1241"
      ]
     },
     "execution_count": 135,
     "metadata": {},
     "output_type": "execute_result"
    }
   ],
   "source": [
    "len(col_idx_map_list[0])"
   ]
  },
  {
   "cell_type": "code",
   "execution_count": 136,
   "metadata": {},
   "outputs": [
    {
     "data": {
      "text/plain": [
       "array(['ADA', 'MTMR3', 'AP1S2', ..., 'FAM174B', 'SPHK1', 'GBP1P1'],\n",
       "      dtype='<U23')"
      ]
     },
     "execution_count": 136,
     "metadata": {},
     "output_type": "execute_result"
    }
   ],
   "source": [
    "col_name_list[0]\n",
    "# col_name_list is unsorted!!"
   ]
  },
  {
   "cell_type": "code",
   "execution_count": 137,
   "metadata": {},
   "outputs": [
    {
     "name": "stdout",
     "output_type": "stream",
     "text": [
      "(1241,) [True, True, True, True, True, True, True, True, True, True, True, True]\n",
      "(1205,) [True, True, True, True, True, True, True, True, True]\n",
      "(1292,) [True, True, True, True, True, True, True, True, True, True]\n",
      "(1272,) [True, True, True, True, True, True, True, True, True, True, True, True]\n",
      "(1223,) [True, True, True, True, True, True, True, True, True]\n",
      "(993,) [True, True, True, True, True, True, True, True, True]\n",
      "(1224,) [True, True, True, True, True, True, True, True, True, True]\n",
      "(1342,) [True, True, True, True, True, True, True, True, True, True]\n",
      "(1173,) [True, True, True, True, True, True, True, True, True, True, True]\n",
      "(953,) [True, True, True, True, True, True, True, True, True, True]\n"
     ]
    }
   ],
   "source": [
    "# check nan\n",
    "for c in col_name_list:\n",
    "    print(c.shape, [True for name in c if name==\"nan\"])"
   ]
  },
  {
   "cell_type": "code",
   "execution_count": 138,
   "metadata": {},
   "outputs": [
    {
     "data": {
      "text/plain": [
       "(120, 1241)"
      ]
     },
     "execution_count": 138,
     "metadata": {},
     "output_type": "execute_result"
    }
   ],
   "source": [
    "x_train_cls2_list[0].shape"
   ]
  },
  {
   "cell_type": "code",
   "execution_count": 139,
   "metadata": {},
   "outputs": [
    {
     "name": "stdout",
     "output_type": "stream",
     "text": [
      "10 10 10\n"
     ]
    }
   ],
   "source": [
    "# 약 10*1100개\n",
    "print(len(pval0), len(pval1), len(pval2))"
   ]
  },
  {
   "cell_type": "code",
   "execution_count": 140,
   "metadata": {},
   "outputs": [
    {
     "name": "stdout",
     "output_type": "stream",
     "text": [
      "1209\n",
      "1176\n",
      "1263\n",
      "1253\n",
      "1208\n",
      "965\n",
      "1188\n",
      "1330\n",
      "1145\n",
      "935\n"
     ]
    }
   ],
   "source": [
    "for p in pval0:\n",
    "    print(len(p))"
   ]
  },
  {
   "cell_type": "code",
   "execution_count": 141,
   "metadata": {},
   "outputs": [],
   "source": [
    "all_pval0 = [item for sublist in pval0 for item in sublist]\n",
    "all_pval1 = [item for sublist in pval1 for item in sublist]\n",
    "all_pval2 = [item for sublist in pval2 for item in sublist]"
   ]
  },
  {
   "cell_type": "code",
   "execution_count": 142,
   "metadata": {},
   "outputs": [
    {
     "name": "stdout",
     "output_type": "stream",
     "text": [
      "3.297125217763904e-07\n",
      "3.931670534638763e-07\n",
      "4.271195302021916e-07\n",
      "\n",
      "\n",
      "6.408081679404127e-07\n",
      "6.800006258506809e-07\n",
      "6.952008495830517e-07\n"
     ]
    }
   ],
   "source": [
    "print(np.mean(all_pval0))\n",
    "print(np.mean(all_pval1))\n",
    "print(np.mean(all_pval2))\n",
    "print('\\n')\n",
    "print(np.std(all_pval0))\n",
    "print(np.std(all_pval1))\n",
    "print(np.std(all_pval2))"
   ]
  },
  {
   "cell_type": "code",
   "execution_count": 143,
   "metadata": {
    "colab": {
     "base_uri": "https://localhost:8080/",
     "height": 191
    },
    "id": "xpB4EUp-hTcx",
    "outputId": "d214954b-e59c-4602-f5aa-41a79ebd8e8d"
   },
   "outputs": [
    {
     "name": "stdout",
     "output_type": "stream",
     "text": [
      "1241\n",
      "1205\n",
      "1292\n",
      "1272\n",
      "1223\n",
      "993\n",
      "1224\n",
      "1342\n",
      "1173\n",
      "953\n"
     ]
    }
   ],
   "source": [
    "for i in range(len(feature_list)):\n",
    "  # selected number of features per fold\n",
    "  print(len(feature_list[i]))"
   ]
  },
  {
   "cell_type": "code",
   "execution_count": 144,
   "metadata": {
    "colab": {
     "base_uri": "https://localhost:8080/",
     "height": 191
    },
    "id": "zneJjtzp7YEj",
    "outputId": "29c4cca7-b3e4-40a2-deb9-2e5bc18559e0"
   },
   "outputs": [
    {
     "name": "stdout",
     "output_type": "stream",
     "text": [
      "(255, 1241) (29, 1241) (255, 3) (29, 3)\n",
      "(255, 1205) (29, 1205) (255, 3) (29, 3)\n",
      "(255, 1292) (29, 1292) (255, 3) (29, 3)\n",
      "(255, 1272) (29, 1272) (255, 3) (29, 3)\n",
      "(256, 1223) (28, 1223) (256, 3) (28, 3)\n",
      "(256, 993) (28, 993) (256, 3) (28, 3)\n",
      "(256, 1224) (28, 1224) (256, 3) (28, 3)\n",
      "(256, 1342) (28, 1342) (256, 3) (28, 3)\n",
      "(256, 1173) (28, 1173) (256, 3) (28, 3)\n",
      "(256, 953) (28, 953) (256, 3) (28, 3)\n"
     ]
    }
   ],
   "source": [
    "for i, (x_train, x_test, y_train, y_test) in enumerate(zip(x_train_list, x_test_list, y_train_list, y_test_list)):\n",
    "  x_train = x_train[:, feature_list[i]]\n",
    "  x_test = x_test[:, feature_list[i]]\n",
    "    \n",
    "  x_train_list[i] = x_train\n",
    "  x_test_list[i] = x_test\n",
    "  y_train_list[i] = y_train\n",
    "  y_test_list[i] = y_test\n",
    "\n",
    "  # (, 900 ~ 1300)\n",
    "  print(x_train.shape, x_test.shape, y_train.shape, y_test.shape)"
   ]
  },
  {
   "cell_type": "code",
   "execution_count": null,
   "metadata": {},
   "outputs": [],
   "source": []
  },
  {
   "cell_type": "markdown",
   "metadata": {
    "id": "t1YoXxZQDKmE"
   },
   "source": [
    "# **Neural Networks**"
   ]
  },
  {
   "cell_type": "code",
   "execution_count": 145,
   "metadata": {},
   "outputs": [],
   "source": [
    "y_all_test, y_all_proba = [], []"
   ]
  },
  {
   "cell_type": "code",
   "execution_count": 146,
   "metadata": {
    "id": "yfiOn9Ip7rOs"
   },
   "outputs": [],
   "source": [
    "one_pred_list, train_acc_list, total_acc_list = [], [], []\n",
    "w_list = []"
   ]
  },
  {
   "cell_type": "code",
   "execution_count": 147,
   "metadata": {
    "id": "u9efeTxvHC8g"
   },
   "outputs": [],
   "source": [
    "n_classes = y_train.shape[1]"
   ]
  },
  {
   "cell_type": "code",
   "execution_count": 148,
   "metadata": {
    "colab": {
     "base_uri": "https://localhost:8080/",
     "height": 1000
    },
    "id": "_aRNcR30s20H",
    "outputId": "68cf9735-ba69-499a-a943-cbc21105f480",
    "scrolled": false
   },
   "outputs": [
    {
     "name": "stdout",
     "output_type": "stream",
     "text": [
      "0.379\n",
      "0.483\n",
      "0.241\n",
      "0.621\n",
      "0.25\n",
      "0.393\n",
      "0.464\n",
      "0.25\n",
      "0.107\n",
      "0.321\n"
     ]
    }
   ],
   "source": [
    "from keras.models import Sequential\n",
    "from keras.layers import Dense, Dropout\n",
    "from keras.layers import LeakyReLU\n",
    "\n",
    "from keras.optimizers import Adam\n",
    "from keras import regularizers\n",
    "from keras.callbacks import EarlyStopping, ModelCheckpoint\n",
    "from keras.layers import BatchNormalization, Activation\n",
    "\n",
    "import tensorflow as tf\n",
    "import datetime\n",
    "\n",
    "from sklearn.multiclass import OneVsRestClassifier\n",
    "from sklearn.metrics import precision_recall_curve, roc_curve, auc\n",
    "from sklearn.preprocessing import label_binarize\n",
    "\n",
    "from operator import add\n",
    "\n",
    "start = datetime.datetime.now()\n",
    "cls = ['desert', 'inflamed', 'excluded']\n",
    "\n",
    "%matplotlib inline\n",
    "\n",
    "EarlyStopping = EarlyStopping(monitor='accuracy', patience=1000, verbose=1)\n",
    "\n",
    "epoch = 2500\n",
    "h_loss, h_val_loss, h_acc, h_val_acc = [0]*epoch, [0]*epoch, [0]*epoch, [0]*epoch\n",
    "\n",
    "reg =tf.keras.regularizers.l1(0.01)\n",
    "reg2 =tf.keras.regularizers.l1(0.08)\n",
    "\n",
    "for idx, (x_train, x_test, y_train, y_test) in enumerate(zip(x_train_list, x_test_list, y_train_list, y_test_list)):\n",
    "#   mc = ModelCheckpoint('best_model_'+str(idx)+'.h5', monitor='val_loss', mode='min', save_best_only=True)\n",
    "    \n",
    "  with tf.device('/gpu:0'):\n",
    "  \n",
    "    model = Sequential()\n",
    "    # input_shape=(x_train.shape[1],), activation='relu'))\n",
    "    #  kernel_regularizer=reg\n",
    "#     model.add(Dense(32, input_shape=(x_train.shape[1],), activation='relu'))\n",
    "\n",
    "#     model.add(Dropout(0.3))\n",
    "#     model.add(Dense(32, activation='relu'))\n",
    "\n",
    "\n",
    "#     model.add(Dense(y_train.shape[1], activation='softmax'))\n",
    "\n",
    "    model.add(Dense(y_train.shape[1], input_shape=(x_train.shape[1],), kernel_regularizer=reg2))\n",
    "\n",
    "    opt = Adam(learning_rate=0.00001)\n",
    "    model.compile(loss='categorical_crossentropy', \n",
    "                  optimizer=opt, \n",
    "                  metrics=['accuracy']) \n",
    "\n",
    "    hist = model.fit(x_train, y_train, validation_data=(x_test, y_test), epochs=epoch, batch_size=128, verbose=0)\n",
    "    h_loss = list(map(add, h_loss, hist.history['loss']))\n",
    "    h_val_loss = list(map(add, h_val_loss, hist.history['val_loss']))\n",
    "    h_acc = list(map(add, h_acc, hist.history['accuracy']))\n",
    "    h_val_acc = list(map(add, h_val_acc, hist.history['val_accuracy']))\n",
    "\n",
    "  \n",
    "  \n",
    "#   plt.subplot(1,2,1)\n",
    "#   plt.figure(figsize=(12,8))\n",
    "#   plt.plot(hist.history['accuracy'])\n",
    "#   plt.plot(hist.history['val_accuracy'])\n",
    "#   # plt.legend(['training loss','test loss', 'training accuracy','test accuracy'])\n",
    "#   plt.legend(['training accuracy','test accuracy'], prop={'size': 26})\n",
    "#   plt.grid()\n",
    "#   plt.show()\n",
    "\n",
    "#   plt.subplot(1,2,2)\n",
    "#   plt.figure(figsize=(10,5))\n",
    "#   plt.plot(hist.history['loss'])\n",
    "#   plt.plot(hist.history['val_loss'])\n",
    "#   plt.legend(['training loss','test loss'])\n",
    "#   plt.grid() \n",
    "#   plt.show()\n",
    "\n",
    "\n",
    "  # training accuracy\n",
    "  # print(\"Train Accuracy: \", hist.history['accuracy'][-1])\n",
    "  train_acc_list.append(hist.history['accuracy'][-1])\n",
    "\n",
    "  # test accuracy\n",
    "  loss, accuracy = model.evaluate(x_test, y_test, verbose=0)\n",
    "  # print(\"Test Accuracy = {:.3f}\".format(accuracy))\n",
    "  print(round(accuracy, 3))\n",
    "  total_acc_list.append(accuracy)\n",
    "  \n",
    "\n",
    "  prediction = model.predict(x_test, verbose=0)\n",
    "  y_all_test.append(y_test)\n",
    "  y_all_proba.append(prediction)\n",
    "  # print(prediction)\n",
    "  \n",
    "  one_pred = np.zeros_like(prediction)\n",
    "  # one hot encoding of prediction\n",
    "  one_pred[np.arange(len(prediction)), prediction.argmax(1)] = 1\n",
    "  one_pred_list.append(one_pred)\n",
    "    \n",
    "  weights = model.layers[0].get_weights()\n",
    "  w = weights[0]\n",
    "  w_list.append(w)\n",
    "\n",
    "\n",
    "\n",
    "end = datetime.datetime.now()\n",
    "time_delta = end - start"
   ]
  },
  {
   "cell_type": "code",
   "execution_count": 149,
   "metadata": {
    "colab": {
     "base_uri": "https://localhost:8080/"
    },
    "id": "BxeFJw-3Xzor",
    "outputId": "7530f322-75a1-44dd-cb97-d2c8db7e9ed8"
   },
   "outputs": [
    {
     "name": "stdout",
     "output_type": "stream",
     "text": [
      "Total test Accuracy = 0.351\r\n"
     ]
    }
   ],
   "source": [
    "tf.print(\"Total test Accuracy = {:.3f}\".format(K.sum(total_acc_list)/len(total_acc_list)))"
   ]
  },
  {
   "cell_type": "code",
   "execution_count": 150,
   "metadata": {},
   "outputs": [
    {
     "name": "stdout",
     "output_type": "stream",
     "text": [
      "(1241, 3)\n",
      "(1205, 3)\n",
      "(1292, 3)\n",
      "(1272, 3)\n",
      "(1223, 3)\n",
      "(993, 3)\n",
      "(1224, 3)\n",
      "(1342, 3)\n",
      "(1173, 3)\n",
      "(953, 3)\n"
     ]
    }
   ],
   "source": [
    "for w in w_list:\n",
    "    print(w.shape)\n",
    "#     print(w)"
   ]
  },
  {
   "cell_type": "code",
   "execution_count": 151,
   "metadata": {},
   "outputs": [],
   "source": [
    "ids_list = []\n",
    "n = 20\n",
    "for w in w_list:\n",
    "  feature_w = np.sum(np.absolute(w), axis=1)\n",
    "  ids = feature_w.argsort()[::-1][:n]\n",
    "  ids_list.append(ids)\n",
    "#   print(w)\n",
    "  # ids"
   ]
  },
  {
   "cell_type": "code",
   "execution_count": 152,
   "metadata": {},
   "outputs": [
    {
     "name": "stdout",
     "output_type": "stream",
     "text": [
      "[ 743  837  401  300   22 1155  995  628  754 1194  792 1167  454   50\n",
      "  440  458  534  317   94 1224]\n",
      "[ 904 1000  733  994  329  642  493   40  346 1106  719  160  538  724\n",
      " 1093  857  323  638  286  960]\n",
      "[ 574  799  628 1226  492  302  745  507  652  548  598  264    3  124\n",
      " 1077 1056  596 1166  226  130]\n",
      "[ 138  228  244  750 1025  190  406  426  823  264  684 1151 1136  463\n",
      " 1253  950  724 1127  195  398]\n",
      "[ 663 1005  742  395  937  764  337   20  310  302  164  373  498  402\n",
      "   52  106  394  503  476  737]\n",
      "[753 615 472 538  93 527 151 934   3 247 276 841 510 497 808 245 696 478\n",
      " 425 209]\n",
      "[282 478 651 752 277 816 182 329 953 509 830 590 577 800 945 941  86 850\n",
      " 631 705]\n",
      "[ 343  711 1336   30  787  580  634  294  598 1309 1057  599  172  295\n",
      "  414  761  441  517 1085  359]\n",
      "[ 488  305  586  558  516  495  359  807  420   66  345  745  174  714\n",
      "  769  338  121  959   55 1075]\n",
      "[815 383 652 888  62 752 351 733 201 577 521 204 925 582 446 778 767 575\n",
      " 371 920]\n"
     ]
    }
   ],
   "source": [
    "for ids in ids_list:\n",
    "    print(ids)"
   ]
  },
  {
   "cell_type": "code",
   "execution_count": 153,
   "metadata": {},
   "outputs": [
    {
     "data": {
      "text/plain": [
       "[array([10159, 11879,  6346,  4583,   498, 16856, 14306,  8602, 10358,\n",
       "        17177, 11070, 16938,  7009,  1056,  6964,  7013,  7628,  4927,\n",
       "         1711, 17475]),\n",
       " array([13332, 15050, 10435, 15008,  5143,  9030,  7514,  1003,  5415,\n",
       "        16771, 10178,  2771,  7755, 10259, 16601, 12559,  5122,  8960,\n",
       "         4422, 14420]),\n",
       " array([ 7755, 10680,  8335, 17066,  7157,  4424,  9852,  7297,  8556,\n",
       "         7569,  7991,  3956,   171,  2151, 15042, 14564,  7965, 16418,\n",
       "         3379,  2222]),\n",
       " array([ 2302,  3472,  3683, 10068, 14433,  3007,  6086,  6404, 11384,\n",
       "         3949,  9064, 16454, 16250,  6955, 17475, 13269,  9753, 16119,\n",
       "         3131,  5990]),\n",
       " array([ 9165, 14784, 10278,  6254, 13655, 10775,  5231,   497,  4778,\n",
       "         4575,  2771,  5834,  7452,  6346,  1096,  2004,  6206,  7517,\n",
       "         7243, 10180]),\n",
       " array([13329, 10303,  8036,  8945,  1959,  8748,  3002, 16999,   164,\n",
       "         4568,  5251, 15266,  8536,  8335, 14483,  4488, 12208,  8085,\n",
       "         7569,  3937]),\n",
       " array([ 4328,  7288,  9005, 10413,  4243, 11723,  2981,  5082, 13667,\n",
       "         7534, 11911,  8290,  8099, 11388, 13564, 13506,  1673, 12161,\n",
       "         8687,  9843]),\n",
       " array([ 4915,  9311, 17649,   630, 10180,  7677,  8313,  4243,  7894,\n",
       "        17424, 13927,  7925,  2792,  4261,  6066,  9913,  6429,  7297,\n",
       "        14424,  5152]),\n",
       " array([ 7540,  4847,  8525,  8206,  7662,  7563,  5798, 12146,  6892,\n",
       "         1428,  5553, 11065,  2940, 10429, 11628,  5391,  2191, 14784,\n",
       "         1238, 16793]),\n",
       " array([15493,  7452, 12146, 16920,  1471, 14238,  7008, 13699,  3932,\n",
       "        10303,  9165,  3951, 17318, 10460,  8012, 14771, 14484, 10259,\n",
       "         7288, 17227])]"
      ]
     },
     "execution_count": 153,
     "metadata": {},
     "output_type": "execute_result"
    }
   ],
   "source": [
    "# get index of original training feature table\n",
    "top_feature_idx_list = []\n",
    "\n",
    "for i, ids in enumerate(ids_list):\n",
    "    top_feature_idx = np.array(list(col_idx_map_list[i]))[ids]\n",
    "    top_feature_idx_list.append(top_feature_idx)\n",
    "    \n",
    "top_feature_idx_list"
   ]
  },
  {
   "cell_type": "code",
   "execution_count": 154,
   "metadata": {},
   "outputs": [
    {
     "data": {
      "text/plain": [
       "58"
      ]
     },
     "execution_count": 154,
     "metadata": {},
     "output_type": "execute_result"
    }
   ],
   "source": [
    "list(col_idx_map_list[0])[1]\n",
    "# list(col_idx_map_list[0].values())[1]"
   ]
  },
  {
   "cell_type": "code",
   "execution_count": 155,
   "metadata": {},
   "outputs": [],
   "source": [
    "top_feature_name_list = []\n",
    "\n",
    "for i, ids in enumerate(ids_list):\n",
    "    top_feature_name = np.array(list(col_idx_map_list[i].values()))[ids]\n",
    "    top_feature_name_list.append(top_feature_name)\n",
    "# top_feature_name_list  "
   ]
  },
  {
   "cell_type": "code",
   "execution_count": 156,
   "metadata": {},
   "outputs": [
    {
     "name": "stdout",
     "output_type": "stream",
     "text": [
      "(20,) []\n",
      "(20,) []\n",
      "(20,) []\n",
      "(20,) []\n",
      "(20,) []\n",
      "(20,) []\n",
      "(20,) []\n",
      "(20,) []\n",
      "(20,) []\n",
      "(20,) []\n"
     ]
    }
   ],
   "source": [
    "# check nan, print True if name contains 'nan'\n",
    "for t in top_feature_name_list:\n",
    "    print(t.shape, [True for name in t if name==\"nan\"])"
   ]
  },
  {
   "cell_type": "code",
   "execution_count": 157,
   "metadata": {},
   "outputs": [
    {
     "data": {
      "text/plain": [
       "[14784,\n",
       " 7297,\n",
       " 17475,\n",
       " 10180,\n",
       " 6346,\n",
       " 7755,\n",
       " 9165,\n",
       " 8335,\n",
       " 7569,\n",
       " 12146,\n",
       " 2771,\n",
       " 4243,\n",
       " 10259,\n",
       " 7288,\n",
       " 7452,\n",
       " 10303]"
      ]
     },
     "execution_count": 157,
     "metadata": {},
     "output_type": "execute_result"
    }
   ],
   "source": [
    "seen = set()\n",
    "repeated = set()\n",
    "\n",
    "# check repeated value by original index\n",
    "for feature_idx in top_feature_idx_list:\n",
    "  for i in set(feature_idx):\n",
    "    if i in seen:\n",
    "      repeated.add(i)\n",
    "    else:\n",
    "      seen.add(i)\n",
    "    \n",
    "repeated_idx = list(repeated)\n",
    "repeated_idx"
   ]
  },
  {
   "cell_type": "code",
   "execution_count": 158,
   "metadata": {},
   "outputs": [],
   "source": [
    "# non bonf \n",
    "# seen = set()\n",
    "# repeated = set()\n",
    "\n",
    "# # check repeated value by original index\n",
    "# for idx in ids_list:\n",
    "#   for i in set(idx):\n",
    "#     if i in seen:\n",
    "#       repeated.add(i)\n",
    "#     else:\n",
    "#       seen.add(i)\n",
    "    \n",
    "# repeated_idx = list(repeated)\n",
    "# repeated_idx"
   ]
  },
  {
   "cell_type": "code",
   "execution_count": 159,
   "metadata": {},
   "outputs": [
    {
     "data": {
      "text/plain": [
       "array(['TMEM156', 'ARSI', 'TOX', 'XAF1', 'MILR1', 'SPATC1', 'FOXP3',\n",
       "       'ARRB2', 'TNFRSF9', 'RNASE6', 'DBH-AS1', 'FABP6', 'TENT5C', 'ID3',\n",
       "       'APOE', 'LAX1'], dtype='<U23')"
      ]
     },
     "execution_count": 159,
     "metadata": {},
     "output_type": "execute_result"
    }
   ],
   "source": [
    "repeated_name = np.array(col_name)[repeated_idx]\n",
    "repeated_name"
   ]
  },
  {
   "cell_type": "code",
   "execution_count": 160,
   "metadata": {},
   "outputs": [
    {
     "data": {
      "text/plain": [
       "True"
      ]
     },
     "execution_count": 160,
     "metadata": {},
     "output_type": "execute_result"
    }
   ],
   "source": [
    "repeated_name[0] in col_idx_map_list[0].values()"
   ]
  },
  {
   "cell_type": "code",
   "execution_count": 161,
   "metadata": {},
   "outputs": [
    {
     "name": "stdout",
     "output_type": "stream",
     "text": [
      "['T', 'T', 'T', 'T', 'T', 'T', 'T', 'T', 'T', 'T', 'T', 'T', 'T', 'T', 'T', 'T']\n",
      "['T', 'T', 'T', 'T', 'T', 'T', 'T', 'T', 'T', 'T', 'T', 'T', 'T', 'T', 'T', 'T']\n",
      "['T', 'T', 'T', 'T', 'T', 'T', 'T', 'T', 'T', 'T', 'T', 'T', 'T', 'T', 'T', 'T']\n",
      "['T', 'T', 'T', 'T', 'T', 'T', 'T', 'T', 'T', 'T', 'T', 'T', 'T', 'T', 'T', 'T']\n",
      "['T', 'T', 'T', 'T', 'T', 'T', 'T', 'T', 'T', 'T', 'T', False, 'T', 'T', 'T', 'T']\n",
      "['T', 'T', 'T', 'T', False, 'T', 'T', 'T', 'T', 'T', 'T', False, 'T', 'T', 'T', 'T']\n",
      "['T', 'T', 'T', 'T', 'T', 'T', 'T', 'T', 'T', 'T', 'T', 'T', 'T', 'T', 'T', 'T']\n",
      "['T', 'T', 'T', 'T', 'T', 'T', 'T', 'T', 'T', 'T', 'T', 'T', 'T', 'T', 'T', 'T']\n",
      "['T', 'T', 'T', 'T', 'T', 'T', 'T', 'T', 'T', 'T', 'T', 'T', 'T', 'T', 'T', 'T']\n",
      "['T', False, 'T', 'T', False, 'T', 'T', 'T', 'T', 'T', 'T', False, 'T', 'T', 'T', 'T']\n"
     ]
    }
   ],
   "source": [
    "# check all repeated_features exist in selected feature dictionary per fold\n",
    "# [True if name in col_idx_map.values() else False for col_idx_map in col_idx_map_list for name in repeated_name]\n",
    "\n",
    "for col_idx_map in col_idx_map_list:\n",
    "    print([\"T\" if name in col_idx_map.values() else False for name in repeated_name])"
   ]
  },
  {
   "cell_type": "code",
   "execution_count": 162,
   "metadata": {},
   "outputs": [],
   "source": [
    "r_name = repeated_name.tolist()\n",
    "# r_idx = repeated_idx.tolist()\n",
    "\n",
    "rm_list = []\n",
    "for col_idx_map in col_idx_map_list:\n",
    "    for i, name in enumerate(repeated_name):\n",
    "        if name not in col_idx_map.values():\n",
    "            rm_list.append(i)\n",
    "            \n",
    "rm_list = list(dict.fromkeys(rm_list))            \n",
    "for i in rm_list:\n",
    "    r_name.pop(i)\n",
    "    repeated_idx.pop(i)\n",
    "\n",
    "repeated_name = np.array(r_name)\n",
    "# repeated_idx = np.array(r_idx)"
   ]
  },
  {
   "cell_type": "code",
   "execution_count": 163,
   "metadata": {
    "scrolled": true
   },
   "outputs": [
    {
     "data": {
      "text/plain": [
       "array(['TMEM156', 'TOX', 'XAF1', 'SPATC1', 'FOXP3', 'ARRB2', 'TNFRSF9',\n",
       "       'RNASE6', 'DBH-AS1', 'TENT5C', 'ID3', 'APOE', 'LAX1'], dtype='<U7')"
      ]
     },
     "execution_count": 163,
     "metadata": {},
     "output_type": "execute_result"
    }
   ],
   "source": [
    "# final \n",
    "repeated_name"
   ]
  },
  {
   "cell_type": "code",
   "execution_count": 164,
   "metadata": {},
   "outputs": [
    {
     "data": {
      "text/plain": [
       "[14784,\n",
       " 17475,\n",
       " 10180,\n",
       " 7755,\n",
       " 9165,\n",
       " 8335,\n",
       " 7569,\n",
       " 12146,\n",
       " 2771,\n",
       " 10259,\n",
       " 7288,\n",
       " 7452,\n",
       " 10303]"
      ]
     },
     "execution_count": 164,
     "metadata": {},
     "output_type": "execute_result"
    }
   ],
   "source": [
    "# final \n",
    "repeated_idx"
   ]
  },
  {
   "cell_type": "code",
   "execution_count": 165,
   "metadata": {},
   "outputs": [
    {
     "data": {
      "text/plain": [
       "13"
      ]
     },
     "execution_count": 165,
     "metadata": {},
     "output_type": "execute_result"
    }
   ],
   "source": [
    "n_features = len(repeated_idx)\n",
    "n_features"
   ]
  },
  {
   "cell_type": "code",
   "execution_count": 166,
   "metadata": {},
   "outputs": [
    {
     "data": {
      "text/plain": [
       "0"
      ]
     },
     "execution_count": 166,
     "metadata": {},
     "output_type": "execute_result"
    }
   ],
   "source": [
    "list(col_idx_map_list[0].keys()).index(1)"
   ]
  },
  {
   "cell_type": "code",
   "execution_count": 167,
   "metadata": {},
   "outputs": [
    {
     "data": {
      "text/plain": [
       "[[1023, 1224, 747, 549, 671, 602, 524, 860, 165, 750, 483, 501, 753],\n",
       " [984, 1184, 720, 538, 652, 588, 512, 825, 160, 724, 469, 489, 727],\n",
       " [1065, 1273, 778, 574, 702, 628, 548, 897, 171, 782, 504, 525, 785],\n",
       " [1046, 1253, 767, 573, 691, 627, 546, 873, 167, 770, 504, 522, 772],\n",
       " [1005, 1202, 737, 546, 663, 597, 521, 844, 164, 741, 478, 498, 743],\n",
       " [818, 979, 611, 449, 552, 497, 425, 694, 138, 613, 391, 406, 615],\n",
       " [1015, 1207, 739, 547, 662, 599, 521, 849, 162, 743, 478, 499, 746],\n",
       " [1107, 1319, 787, 584, 706, 636, 558, 914, 169, 791, 516, 536, 794],\n",
       " [959, 1155, 703, 521, 635, 570, 498, 807, 160, 707, 461, 477, 709],\n",
       " [779, 939, 573, 427, 521, 472, 404, 652, 131, 575, 371, 383, 577]]"
      ]
     },
     "execution_count": 167,
     "metadata": {},
     "output_type": "execute_result"
    }
   ],
   "source": [
    "feature_idx_list = []\n",
    "\n",
    "for col_idx_map in col_idx_map_list:\n",
    "    feature_idx = []\n",
    "    for rep_idx in repeated_idx:\n",
    "        if rep_idx in col_idx_map.keys():\n",
    "            feature_idx.append(list(col_idx_map.keys()).index(rep_idx))\n",
    "    feature_idx_list.append(feature_idx)        \n",
    "feature_idx_list    "
   ]
  },
  {
   "cell_type": "code",
   "execution_count": 168,
   "metadata": {},
   "outputs": [],
   "source": [
    "# feature_name_list = []\n",
    "\n",
    "# for i, ids in enumerate(feature_idx_list ):\n",
    "#     feature_name = np.array(list(col_idx_map_list[i].values()))[ids]\n",
    "#     feature_name_list.append(feature_name)\n",
    "# feature_name_list  "
   ]
  },
  {
   "cell_type": "code",
   "execution_count": 169,
   "metadata": {},
   "outputs": [
    {
     "data": {
      "text/plain": [
       "array([[ 3.6287211e-02,  5.2281581e-02, -4.7744434e-02],\n",
       "       [-4.1748736e-02,  4.0929358e-02, -3.6689967e-02],\n",
       "       [-2.7881967e-02, -6.8633388e-05,  5.5764709e-02],\n",
       "       ...,\n",
       "       [ 6.4271945e-03,  5.3521659e-02,  2.2679424e-02],\n",
       "       [-2.5195029e-02, -2.9318940e-02,  2.8358078e-02],\n",
       "       [ 2.4859261e-02,  3.7713781e-02,  7.9835504e-03]], dtype=float32)"
      ]
     },
     "execution_count": 169,
     "metadata": {},
     "output_type": "execute_result"
    }
   ],
   "source": [
    "w_list[2]"
   ]
  },
  {
   "cell_type": "code",
   "execution_count": 170,
   "metadata": {},
   "outputs": [
    {
     "data": {
      "text/plain": [
       "array([0.00433513, 0.00386086, 0.0276604 ], dtype=float32)"
      ]
     },
     "execution_count": 170,
     "metadata": {},
     "output_type": "execute_result"
    }
   ],
   "source": [
    "w_list[2][1168]"
   ]
  },
  {
   "cell_type": "code",
   "execution_count": 171,
   "metadata": {},
   "outputs": [],
   "source": [
    "# (w_list[0][1037] + w_list[1][997] +w_list[2][1077])/n_features"
   ]
  },
  {
   "cell_type": "code",
   "execution_count": 172,
   "metadata": {},
   "outputs": [
    {
     "data": {
      "text/plain": [
       "array([-0.00579295, -0.01111252,  0.01562402])"
      ]
     },
     "execution_count": 172,
     "metadata": {},
     "output_type": "execute_result"
    }
   ],
   "source": [
    "# [w[idx] for idx in feature_idx for w, feature_idx in zip(w_list, feature_idx_list)]\n",
    "# output: 3(==n_classes)* n_features\n",
    "mean_w_list = []\n",
    "\n",
    "for w, feature_idx in zip(w_list, feature_idx_list):\n",
    "    for idx in feature_idx:\n",
    "        w[idx]\n",
    "        \n",
    "for i in range(n_features):\n",
    "    ary = np.zeros(3)\n",
    "    for w, feature_idx in zip(w_list, feature_idx_list):\n",
    "        for c in range(n_classes):\n",
    "            ary[c] += w[feature_idx[i]][c]\n",
    "    mean_w_list.append(ary/n_features)\n",
    "    \n",
    "mean_w_list[0]    "
   ]
  },
  {
   "cell_type": "code",
   "execution_count": 173,
   "metadata": {},
   "outputs": [
    {
     "data": {
      "text/plain": [
       "(953, 3)"
      ]
     },
     "execution_count": 173,
     "metadata": {},
     "output_type": "execute_result"
    }
   ],
   "source": [
    "w.shape"
   ]
  },
  {
   "cell_type": "code",
   "execution_count": 174,
   "metadata": {},
   "outputs": [],
   "source": [
    "# # non bonf \n",
    "# mean_w_list = []\n",
    "        \n",
    "# for i in range(n_features):\n",
    "#     ary = np.zeros(3)\n",
    "#     for w in w_list:\n",
    "#         for c in range(n_classes):\n",
    "#             ary[c] += w[repeated_idx[i]][c]\n",
    "#             print(w[repeated_idx[i]][c])\n",
    "#     mean_w_list.append(ary/n_features)\n",
    "    \n",
    "# mean_w_list[0]    "
   ]
  },
  {
   "cell_type": "code",
   "execution_count": 175,
   "metadata": {},
   "outputs": [
    {
     "data": {
      "text/plain": [
       "[array([-0.00579295, -0.01111252,  0.01562402]),\n",
       " array([-0.00887163, -0.00234678, -0.00513912]),\n",
       " array([-0.00665409,  0.00032249,  0.00379274]),\n",
       " array([-0.00599484, -0.01017522,  0.00287159]),\n",
       " array([-0.011346  , -0.00395544, -0.00405095]),\n",
       " array([ 0.01126967, -0.00390696,  0.00718204]),\n",
       " array([ 0.00629946, -0.01131399, -0.0100597 ]),\n",
       " array([-0.0116012 , -0.00639622, -0.01342672]),\n",
       " array([0.00801876, 0.00654398, 0.00347906]),\n",
       " array([-0.0042868 , -0.00840255, -0.0190197 ]),\n",
       " array([0.02370058, 0.00539297, 0.00275282]),\n",
       " array([-0.00710489, -0.00306664,  0.00227833]),\n",
       " array([ 0.00371064,  0.00591692, -0.01106254])]"
      ]
     },
     "execution_count": 175,
     "metadata": {},
     "output_type": "execute_result"
    }
   ],
   "source": [
    "mean_w_list"
   ]
  },
  {
   "cell_type": "code",
   "execution_count": 176,
   "metadata": {},
   "outputs": [],
   "source": [
    "from scipy import stats\n",
    "\n",
    "def bonferroni_correction_function(cls0, cls1):\n",
    "    # 2.8261361067148994e-06\n",
    "    alpha = 0.05\n",
    "    no_test = 17692\n",
    "    alpha_bonferroni = alpha/no_test \n",
    "\n",
    "    pval_list = []\n",
    "    \n",
    "    # number of valid features\n",
    "    counter = 0\n",
    "    for i in range(n_features):\n",
    "        statistic, pvalue = stats.ttest_ind(cls0[i], cls1[i], equal_var=False)\n",
    "        pval_list.append(pvalue)\n",
    "        \n",
    "        # print(len(statistic)) #17962\n",
    "        # print(len(pvalue)) #17692\n",
    "        print(pvalue)\n",
    "\n",
    "        # low p-value\n",
    "        if pvalue <= alpha_bonferroni:\n",
    "            counter = counter + 1\n",
    "\n",
    "            # size (selected feature count)*(number of training data per class) array\n",
    "\n",
    "        # break\n",
    "    # class0, class1의 경우 대략 900 ~ 1300개\n",
    "    # class1, class2의 경우 대략 200 ~ 300개\n",
    "    # class2, class0의 경우 대략 200 ~ 400개\n",
    "    # print(\"number of selected features per fold: \", counter)\n",
    "\n",
    "    # save feature index without duplication\n",
    "    # print(\"# of features w dups: \", len(features))\n",
    "    \n",
    "    # print(\"# of features w/o dups: \", len(nodup_features))\n",
    "\n",
    "    return pval_list\n",
    "\n",
    "# print(len(final_nodup_features)) #54"
   ]
  },
  {
   "cell_type": "code",
   "execution_count": 177,
   "metadata": {},
   "outputs": [
    {
     "name": "stdout",
     "output_type": "stream",
     "text": [
      "1.0353968866005354e-07\n",
      "3.565129176396806e-07\n",
      "9.387663860408752e-08\n",
      "1.454266357810666e-06\n",
      "1.3995046848241816e-06\n",
      "4.413525457288672e-18\n",
      "3.9301789641221277e-07\n",
      "2.1040446931125624e-14\n",
      "5.514536345856748e-10\n",
      "4.598212515610165e-14\n",
      "1.0166227030174779e-07\n",
      "1.282502555375715e-06\n",
      "1.6799283452334203e-12\n",
      "0.0053279311197000235\n",
      "0.022300729406231658\n",
      "0.015635593929359225\n",
      "0.19968296794951843\n",
      "0.007183460903552426\n",
      "9.865070261556964e-07\n",
      "0.003067044289117309\n",
      "1.8032328418447082e-13\n",
      "0.029565134857415416\n",
      "0.0003616740014280471\n",
      "0.6424421917093688\n",
      "0.029890491353727622\n",
      "0.009966767100803924\n",
      "0.0005649909212557124\n",
      "0.0004619498283041409\n",
      "0.00010836917560051344\n",
      "1.4809251494428986e-05\n",
      "0.004744530962193128\n",
      "2.951605836975049e-09\n",
      "0.003472796021796063\n",
      "0.0013887246846144372\n",
      "3.1787190266058045e-07\n",
      "1.0800815915666799e-07\n",
      "4.2687983906541494e-07\n",
      "0.0006729432165270587\n",
      "4.503172813413753e-08\n",
      "2.5908706952513123e-13\n",
      "6.627681857285562e-09\n",
      "5.256105994390456e-07\n",
      "5.2750398328857135e-14\n",
      "2.6846327239018316e-10\n",
      "8.47892029583343e-08\n",
      "8.846530038902215e-13\n",
      "1.0304520311821688e-15\n",
      "2.7869917244167877e-15\n",
      "1.2628258115805714e-10\n",
      "1.8118455418139507e-11\n",
      "1.85304672871072e-08\n",
      "5.186107377299165e-08\n",
      "0.0001449632262107459\n",
      "0.011636136458723918\n",
      "3.118702694739699e-05\n",
      "0.06584819017067899\n",
      "0.0002003269651406317\n",
      "0.0004030981289481054\n",
      "3.7443082951655866e-05\n",
      "3.695632945884772e-06\n",
      "1.1458721962617874e-09\n",
      "3.5558576863139466e-06\n",
      "9.552396918442789e-05\n",
      "0.015028328008591501\n",
      "0.008454579182776362\n",
      "3.5331513976224922e-06\n",
      "5.191071369777946e-06\n",
      "0.06756972466554989\n",
      "8.246733028964625e-13\n",
      "4.738786332772285e-05\n",
      "0.007475991077093292\n",
      "9.306216516565144e-07\n",
      "3.5722745030104355e-08\n",
      "0.0006988649700135794\n",
      "0.00027333129091511614\n",
      "1.9917827931466592e-05\n",
      "3.499790941106511e-05\n",
      "2.845760578308989e-05\n",
      "3.2195385380907946e-07\n",
      "2.9228216152030934e-09\n",
      "9.908588722969206e-07\n",
      "3.559035629629249e-08\n",
      "8.786657935780712e-07\n",
      "4.5919982799941623e-17\n",
      "7.535949057612584e-14\n",
      "9.177661766128478e-07\n",
      "4.79141595304047e-10\n",
      "1.14066102891551e-09\n",
      "6.635963781646531e-11\n",
      "1.208266916535172e-09\n",
      "1.218109597041629e-07\n",
      "0.004201619071156179\n",
      "0.0007977003649437068\n",
      "0.020791768523693646\n",
      "0.0003983260604669195\n",
      "0.06686068820963308\n",
      "6.232782858382125e-06\n",
      "0.0008716887306887695\n",
      "8.320995187179542e-05\n",
      "0.029430104459437695\n",
      "0.6698725311901894\n",
      "0.0159320147815256\n",
      "0.00016841656570240927\n",
      "0.034250877066317464\n",
      "0.0009225113248420185\n",
      "0.0010449586304461572\n",
      "0.001284667741835603\n",
      "0.003782295351198608\n",
      "0.0005622345958556264\n",
      "3.642082367482392e-09\n",
      "6.998084121182346e-10\n",
      "0.04983873492848422\n",
      "2.424855057839866e-07\n",
      "1.7599023840976862e-09\n",
      "4.426021747869831e-08\n",
      "9.416667148905082e-05\n",
      "2.310518837123689e-05\n",
      "6.44204180035186e-07\n",
      "4.9389967482724534e-08\n",
      "3.6584679412028986e-13\n",
      "1.731626886630771e-06\n",
      "1.504241536723133e-08\n",
      "2.664566974435998e-07\n",
      "7.520599351055698e-12\n",
      "4.809989756361332e-11\n",
      "1.0726010698538912e-13\n",
      "1.1170807685634656e-14\n",
      "5.330098452079498e-11\n",
      "2.735810036487164e-09\n",
      "7.936444355769847e-07\n",
      "0.0025865180650773904\n",
      "0.008521140350457652\n",
      "0.004166989477016173\n",
      "0.0020976502805147897\n",
      "0.05040413320234032\n",
      "0.0014081544296882234\n",
      "5.208415929290445e-09\n",
      "0.011533352074031191\n",
      "4.75700192302257e-11\n",
      "0.0029731395375987633\n",
      "0.0013195108184891817\n",
      "8.988131699553709e-06\n",
      "0.2609286170528554\n",
      "0.0032533599286958766\n",
      "0.00031981517667000695\n",
      "5.4111747147481245e-08\n",
      "0.0196402075516968\n",
      "1.4705230319518844e-05\n",
      "0.0031199958907765567\n",
      "0.09544059557519671\n",
      "1.4081395159576247e-06\n",
      "0.0003959354575314946\n",
      "8.620362338840252e-11\n",
      "5.171184022502554e-06\n",
      "0.0013502409092313072\n",
      "6.267870412660633e-06\n",
      "1.810816311303901e-14\n",
      "5.65855835024076e-09\n",
      "1.7641775998436437e-06\n",
      "8.383709489233472e-11\n",
      "3.241368922391108e-09\n",
      "4.6664825734414625e-08\n",
      "4.106232656987318e-08\n",
      "1.3539389845756942e-06\n",
      "3.011731412951735e-12\n",
      "1.3728342575298847e-07\n",
      "2.8835183422524824e-07\n",
      "2.0258869520618555e-07\n",
      "1.2040998070042106e-07\n",
      "2.1218436140475304e-12\n",
      "0.000326792643832105\n",
      "0.006656209865927894\n",
      "0.02794262194274295\n",
      "2.8427661701735825e-05\n",
      "0.008737183844165244\n",
      "1.6350089803791195e-05\n",
      "0.000170719153030596\n",
      "6.163176799938518e-06\n",
      "0.001161324361557951\n",
      "4.678401435622366e-05\n",
      "7.782331230512897e-05\n",
      "4.852989157413356e-05\n",
      "0.07148089047023773\n",
      "0.0002013239845208382\n",
      "0.0022789075283378914\n",
      "2.3869887295828727e-08\n",
      "0.0021409162338183975\n",
      "0.00015958442926832786\n",
      "0.006446848237536956\n",
      "0.02541789800551756\n",
      "1.737640433963706e-05\n",
      "0.004846411524570438\n",
      "0.11750725662063104\n",
      "0.004305919893622434\n",
      "0.026273977432959714\n",
      "1.3769837807749639e-12\n",
      "1.119950600946105e-14\n",
      "4.063211012817048e-08\n",
      "2.92760251375057e-10\n",
      "2.3440825087532205e-06\n",
      "6.234438482078232e-14\n",
      "3.91418400823591e-07\n",
      "2.064460049995767e-07\n",
      "2.605124325413788e-08\n",
      "1.185613531015854e-07\n",
      "1.989056275020525e-07\n",
      "1.348169575137941e-06\n",
      "4.78264311249346e-07\n",
      "1.9855692119883431e-07\n",
      "2.1547046641537075e-06\n",
      "4.354366922135613e-05\n",
      "0.001147453921754428\n",
      "0.0004477910058126942\n",
      "1.7801363978370783e-11\n",
      "0.0026008055165550035\n",
      "0.00012098890914506988\n",
      "0.09417906389876526\n",
      "0.003950614621723398\n",
      "0.005473249664493984\n",
      "0.0001331344078586715\n",
      "0.00044075648264173235\n",
      "0.0003418223606548546\n",
      "2.612613642403702e-07\n",
      "0.011606692664557584\n",
      "2.0071288074201156e-05\n",
      "0.026536216262333722\n",
      "0.013682648897634833\n",
      "0.006697914809355245\n",
      "0.025487880585398897\n",
      "3.917717525936358e-06\n",
      "0.00032280906549454714\n",
      "0.0005213839615137169\n",
      "0.02901618451120958\n",
      "0.021744478591149443\n",
      "3.2303357178251645e-15\n",
      "1.2889586045989533e-07\n",
      "2.8914809077936346e-07\n",
      "2.6543706843835687e-16\n",
      "2.512726371373724e-07\n",
      "2.3483868045454054e-07\n",
      "8.325592775327095e-09\n",
      "6.738474069526585e-08\n",
      "2.578647021119398e-07\n",
      "1.7462724833032746e-07\n",
      "1.7117049128454239e-06\n",
      "1.4956843520455083e-07\n",
      "2.7576832073383986e-06\n",
      "1.5540957974431935e-10\n",
      "0.00015377699289692614\n",
      "0.5404749900290432\n",
      "0.003840769986026747\n",
      "0.0019416017913004428\n",
      "0.0008737733294668214\n",
      "0.0001317257380624413\n",
      "1.0424260230948625e-05\n",
      "0.00011354985805001237\n",
      "0.035052491677967805\n",
      "0.0402764642399915\n",
      "0.0004648273666375812\n",
      "0.0034217875772691564\n",
      "0.0002996654003714333\n",
      "0.01781630037969995\n",
      "1.2424593968427298e-07\n",
      "5.220866757454696e-13\n",
      "0.0016017419896947557\n",
      "0.01555568879768062\n",
      "0.0011843542670508778\n",
      "0.040495382538854055\n",
      "0.030744516081555602\n",
      "4.8078969375612634e-05\n",
      "0.0004608430498272081\n",
      "0.0017118930871247386\n",
      "0.005813116032691298\n",
      "5.652505944341853e-20\n",
      "2.207624959713341e-06\n",
      "1.9512022710702567e-06\n",
      "1.0790242420255172e-10\n",
      "1.4624079751627137e-07\n",
      "1.0911918703310289e-09\n",
      "2.4703615925499795e-06\n",
      "1.2054365621756795e-07\n",
      "1.709103737775955e-12\n",
      "2.6230888304667624e-06\n",
      "2.677796863985018e-06\n",
      "1.235667174398568e-07\n",
      "1.4278071994936318e-07\n",
      "6.654009428998413e-07\n",
      "0.00010758491071642985\n",
      "0.00909437533122887\n",
      "1.262043290084799e-09\n",
      "6.800112965011326e-06\n",
      "0.00016781578210592904\n",
      "0.00043224169949234543\n",
      "0.00010702188610898139\n",
      "0.0002764927731476459\n",
      "0.0003495940992967851\n",
      "0.31423005261921416\n",
      "0.01785464394791799\n",
      "0.002647876564023766\n",
      "2.9555985494280184e-10\n",
      "0.055156746819087395\n",
      "0.003356478804140786\n",
      "0.12018417317828073\n",
      "0.0333005792193152\n",
      "0.0005729989921049399\n",
      "0.09914014172634365\n",
      "0.01862224715364488\n",
      "5.422182435077263e-07\n",
      "0.046978820330852156\n",
      "5.199397190370316e-05\n",
      "9.993874095427602e-05\n",
      "0.0003846273051893336\n",
      "4.656860408320031e-09\n",
      "1.6811912011903827e-08\n",
      "9.326040512324403e-11\n",
      "1.2280037474269439e-08\n",
      "4.711353444591158e-07\n",
      "2.9083317459109e-15\n",
      "3.810459407576488e-10\n",
      "2.242700975287461e-15\n",
      "2.3477257020813684e-09\n",
      "2.9871828607035455e-08\n",
      "2.7412880939768948e-06\n",
      "3.5048437536742615e-07\n",
      "1.4925630727914136e-10\n",
      "0.007276904009130824\n",
      "0.0011457845628793288\n",
      "2.308222157416068e-09\n",
      "5.406330220746526e-09\n",
      "0.002886520306475654\n",
      "0.00040543901700579717\n",
      "1.4892548553259608e-07\n",
      "6.21569563018886e-08\n",
      "2.2138333937872413e-08\n",
      "0.19887307899508552\n",
      "0.09156642017167214\n",
      "0.0015381985283218834\n",
      "7.024357983767995e-07\n",
      "7.793384052936418e-05\n",
      "0.00014870791113214853\n",
      "0.23278001762090741\n",
      "0.3567743640636396\n",
      "0.003869278900207892\n",
      "1.2618521590912493e-08\n",
      "0.006403606074267661\n",
      "2.2472031638566074e-06\n",
      "0.051296546142170475\n",
      "6.040162427669121e-07\n",
      "0.0003413145114652663\n",
      "0.010758818057084157\n",
      "0.0011691213180317114\n",
      "2.1881501145354975e-07\n",
      "6.824047005259831e-15\n",
      "9.167732902856683e-07\n",
      "3.4327424840108935e-09\n",
      "3.325858342913991e-07\n",
      "8.015045402439569e-17\n",
      "2.790076276938726e-12\n",
      "1.4800518479836832e-09\n",
      "2.54670800429679e-11\n",
      "7.967993364251108e-08\n",
      "2.2317149147440546e-07\n",
      "1.3430724938382776e-06\n",
      "1.0017812277984351e-06\n",
      "0.0026662838403310033\n",
      "2.684575074399471e-06\n",
      "0.002439717285063207\n",
      "0.0044061613754395315\n",
      "0.002481505313821193\n",
      "3.9201372897208054e-12\n",
      "0.004466771686452209\n",
      "0.00010197562607868381\n",
      "0.00021055034461302867\n",
      "0.0020815689412158546\n",
      "0.010391455659260182\n",
      "0.0017934159456030683\n",
      "5.546573448446237e-06\n",
      "0.0010568939739001688\n",
      "1.3646500379955443e-07\n",
      "0.006514495260079704\n",
      "1.2097021299984872e-05\n",
      "0.0015046930915061645\n",
      "0.0009417577262824738\n",
      "1.8037069871655783e-07\n",
      "0.00017395412076394147\n",
      "5.588483578089062e-06\n",
      "0.0014490632279450344\n",
      "0.0006103288117021266\n",
      "0.01676243838845296\n",
      "0.18188362806572816\n"
     ]
    }
   ],
   "source": [
    "pval0, pval1, pval2 = [], [], []\n",
    "\n",
    "for cls0, cls1, cls2, f_idx in zip(x_train_cls0_list, x_train_cls1_list, x_train_cls2_list, feature_idx_list):\n",
    "  # cls with important features\n",
    "  cls0 = cls0[:, f_idx]\n",
    "  cls1 = cls1[:, f_idx]\n",
    "  cls2 = cls2[:, f_idx]\n",
    "\n",
    "#   print(cls0.T.shape) # cls0.T.shape = (20, 68==#of class 0)\n",
    "#   print(cls1.T.shape)\n",
    "#   print(cls2.T.shape)\n",
    "\n",
    "  \n",
    "  p0 = bonferroni_correction_function(cls0.T, cls1.T)\n",
    "  # print(\"\\ncls1, cls2\")\n",
    "  p1 = bonferroni_correction_function(cls1.T, cls2.T)\n",
    "  # print(\"\\ncls2, cls0\")\n",
    "  p2 = bonferroni_correction_function(cls2.T, cls0.T)\n",
    "\n",
    "# len(p0)==20\n",
    "# 10*20\n",
    "  pval0.append(p0)\n",
    "  pval1.append(p1)\n",
    "  pval2.append(p2)\n",
    "\n",
    "#   print(np.mean(p0))"
   ]
  },
  {
   "cell_type": "code",
   "execution_count": 178,
   "metadata": {},
   "outputs": [
    {
     "data": {
      "text/plain": [
       "(67, 1241)"
      ]
     },
     "execution_count": 178,
     "metadata": {},
     "output_type": "execute_result"
    }
   ],
   "source": [
    "x_train_cls1_list[0].shape"
   ]
  },
  {
   "cell_type": "code",
   "execution_count": 179,
   "metadata": {},
   "outputs": [],
   "source": [
    "# pval0"
   ]
  },
  {
   "cell_type": "code",
   "execution_count": 180,
   "metadata": {},
   "outputs": [],
   "source": [
    "# sval =1.2338236680153996e-12 + 2.220643124826812e-07+1.3737044280375801e-07+3.3140214724153804e-09+1.892502354865443e-06+3.341293646189116e-07+2.7540324673693234e-07+1.4823732618674294e-06+9.377785509554675e-11+2.451487785024761e-06"
   ]
  },
  {
   "cell_type": "code",
   "execution_count": 181,
   "metadata": {},
   "outputs": [],
   "source": [
    "# sval/10"
   ]
  },
  {
   "cell_type": "code",
   "execution_count": 182,
   "metadata": {},
   "outputs": [
    {
     "data": {
      "text/plain": [
       "array([0.00222051, 0.00449945, 0.05993344, 0.03053641, 0.01324413,\n",
       "       0.00120027, 0.00116242, 0.00121314, 0.01537811, 0.09146796,\n",
       "       0.11217737, 0.00669583, 0.0320166 ])"
      ]
     },
     "execution_count": 182,
     "metadata": {},
     "output_type": "execute_result"
    }
   ],
   "source": [
    "np.mean(pval1, axis=0)"
   ]
  },
  {
   "cell_type": "code",
   "execution_count": 183,
   "metadata": {},
   "outputs": [],
   "source": [
    "# pval1"
   ]
  },
  {
   "cell_type": "code",
   "execution_count": 185,
   "metadata": {},
   "outputs": [
    {
     "name": "stdout",
     "output_type": "stream",
     "text": [
      "[1.29317125e-07 2.77444470e-07 6.57237310e-07 3.23768093e-07\n",
      " 5.84203985e-07 6.33840664e-08 3.30457813e-07 2.66760774e-07\n",
      " 2.87324564e-08 3.16437962e-07 7.94301887e-07 4.82242739e-07\n",
      " 5.46838685e-07]\n",
      "3.6931748969573653e-07 \n",
      "\n",
      "[0.00222051 0.00449945 0.05993344 0.03053641 0.01324413 0.00120027\n",
      " 0.00116242 0.00121314 0.01537811 0.09146796 0.11217737 0.00669583\n",
      " 0.0320166 ]\n",
      "0.02859581799445524 \n",
      "\n",
      "[0.00780016 0.00751554 0.03254995 0.0500428  0.00743223 0.00415087\n",
      " 0.02187874 0.01614285 0.00831638 0.00539192 0.01195187 0.00648075\n",
      " 0.02373268]\n",
      "0.015645134926668632 \n",
      "\n",
      "\n",
      "\n",
      "[2.02495996e-07 6.51949057e-07 6.92279971e-07 6.37698510e-07\n",
      " 7.23172856e-07 9.76427080e-08 7.29389453e-07 4.50058446e-07\n",
      " 7.67615643e-08 7.71356333e-07 1.07186222e-06 5.60580983e-07\n",
      " 8.08027070e-07]\n",
      "5.748673207971041e-07 \n",
      "\n",
      "[0.00252007 0.00710614 0.16031848 0.05975398 0.02308021 0.00255016\n",
      " 0.00153546 0.00344055 0.02871445 0.20146337 0.19900628 0.00997793\n",
      " 0.07693892]\n",
      "0.0597235384229695 \n",
      "\n",
      "[0.02124659 0.01672221 0.06953595 0.10820786 0.01143649 0.00569002\n",
      " 0.03780447 0.01778288 0.01698701 0.01393575 0.03518588 0.00917843\n",
      " 0.05352355]\n",
      "0.0320951598260399 \n",
      "\n"
     ]
    }
   ],
   "source": [
    "print(np.mean(pval0, axis=0))\n",
    "print(np.mean(np.mean(pval0, axis=0)),'\\n')\n",
    "print(np.mean(pval1, axis=0))\n",
    "print(np.mean(np.mean(pval1, axis=0)),'\\n')\n",
    "print(np.mean(pval2, axis=0))\n",
    "print(np.mean(np.mean(pval2, axis=0)),'\\n')\n",
    "print('\\n')\n",
    "print(np.std(pval0, axis=0))\n",
    "print(np.mean(np.std(pval0, axis=0)),'\\n')\n",
    "print(np.std(pval1, axis=0))\n",
    "print(np.mean(np.std(pval1, axis=0)),'\\n')\n",
    "print(np.std(pval2, axis=0))\n",
    "print(np.mean(np.std(pval2, axis=0)),'\\n')"
   ]
  },
  {
   "cell_type": "code",
   "execution_count": 89,
   "metadata": {
    "colab": {
     "base_uri": "https://localhost:8080/",
     "height": 35
    },
    "id": "f8_IcAcZgM2J",
    "outputId": "adbcd90e-0b33-428e-ae4a-6ce175c1c204"
   },
   "outputs": [
    {
     "name": "stdout",
     "output_type": "stream",
     "text": [
      "running time: 131 sec\n"
     ]
    }
   ],
   "source": [
    "print('running time: {} sec'.format(time_delta.seconds))"
   ]
  },
  {
   "cell_type": "code",
   "execution_count": 90,
   "metadata": {},
   "outputs": [],
   "source": [
    "y_all_test = np.concatenate(y_all_test)\n",
    "y_all_proba = np.concatenate(y_all_proba)"
   ]
  },
  {
   "cell_type": "code",
   "execution_count": 91,
   "metadata": {},
   "outputs": [],
   "source": [
    "# roc curve\n",
    "fpr = dict()\n",
    "tpr = dict()\n",
    "# mean_fpr, mean_tpr = dict({0:0, 1:0, 2:0}), dict({0:0, 1:0, 2:0})\n",
    "roc_auc = dict()\n",
    "\n",
    "# pr curve\n",
    "pre = dict()\n",
    "rec = dict()\n",
    "# mean_pre, mean_rec = dict({0:0, 1:0, 2:0}), dict({0:0, 1:0, 2:0})\n",
    "pr_auc = dict()"
   ]
  },
  {
   "cell_type": "code",
   "execution_count": null,
   "metadata": {
    "colab": {
     "base_uri": "https://localhost:8080/",
     "height": 424
    },
    "id": "omKU6YJ1Rcot",
    "outputId": "b5ee4e64-ce7b-438d-febf-6376a88b82e9"
   },
   "outputs": [],
   "source": [
    "# PR curve\n",
    "for i, label in zip(range(3), cls):\n",
    "  pre[i], rec[i], _ = precision_recall_curve(y_test[:, i], prediction[:, i])\n",
    "#   mean_pre[i] /= 10\n",
    "#   mean_rec[i] /= 10\n",
    "\n",
    "  pr_auc[i] = auc(rec[i], pre[i])\n",
    "  plt.plot(rec[i], pre[i], lw=2, label='PR curve of class \"{0}\" (area = {1:0.3f})'\n",
    "          ''.format(label, pr_auc[i]))\n",
    "    \n",
    "\n",
    "plt.xlabel(\"recall\")\n",
    "plt.ylabel(\"precision\")\n",
    "plt.legend(loc=\"best\")\n",
    "plt.title(\"PR curve\")\n",
    "\n",
    "plt.savefig('PR curve.png', dpi=300)\n",
    "plt.show()\n"
   ]
  },
  {
   "cell_type": "code",
   "execution_count": null,
   "metadata": {
    "colab": {
     "base_uri": "https://localhost:8080/",
     "height": 394
    },
    "id": "VniiPe3t7BD7",
    "outputId": "922229c1-5a6f-4e00-bc87-15cfdde01762"
   },
   "outputs": [],
   "source": [
    "# ROC curve\n",
    "for i, label in zip(range(3), cls):\n",
    "#   mean_fpr[i] /= 10\n",
    "#   mean_tpr[i] /= 10\n",
    "  fpr[i], tpr[i], _ = roc_curve(y_test[:, i],\n",
    "                                    prediction[:, i])\n",
    "  roc_auc[i] = auc(fpr[i], tpr[i])\n",
    "  plt.plot(fpr[i], tpr[i], lw=2, label='ROC curve of class \"{0}\" (area = {1:0.3f})'\n",
    "          ''.format(label, roc_auc[i]))\n",
    "\n",
    "plt.xlabel(\"false positive rate\")\n",
    "plt.ylabel(\"true positive rate\")\n",
    "plt.legend(loc=\"best\")\n",
    "plt.title(\"ROC curve\")\n",
    "\n",
    "plt.savefig('ROC curve.png', dpi=300)\n",
    "plt.show()\n"
   ]
  },
  {
   "cell_type": "code",
   "execution_count": null,
   "metadata": {},
   "outputs": [],
   "source": [
    "# h_loss, h_val_loss, h_acc, h_val_acc\n",
    "# nsplit = 8\n",
    "nsplit = float(nsplit)\n",
    "\n",
    "h_loss[:] = [x/nsplit for x in h_loss]\n",
    "h_val_loss[:] = [x/nsplit for x in h_val_loss]\n",
    "h_acc[:] = [x/nsplit for x in h_acc]\n",
    "h_val_acc[:] = [x/nsplit for x in h_val_acc]\n",
    "\n",
    "\n",
    "plt.figure(figsize=(12,8))\n",
    "plt.plot(h_loss)\n",
    "plt.plot(h_val_loss)\n",
    "plt.legend(['training loss','test loss'])\n",
    "plt.grid()\n",
    "plt.savefig('loss.png', dpi=300)\n",
    "plt.show()\n",
    "\n",
    "\n",
    "plt.figure(figsize=(12,8))\n",
    "plt.plot(h_acc)\n",
    "plt.plot(h_val_acc)\n",
    "plt.xlabel('epoch')\n",
    "plt.legend(['training accuracy','test accuracy'], prop={'size': 6})\n",
    "# plt.grid()\n",
    "plt.savefig('acc.png', dpi=300)\n",
    "plt.show()"
   ]
  },
  {
   "cell_type": "code",
   "execution_count": null,
   "metadata": {
    "id": "lqLbWJGAzxSr"
   },
   "outputs": [],
   "source": [
    "acc_list, rec_list, pre_list, total_acc_list = [], [], [], []\n",
    "\n",
    "for one_pred, y_test in zip(one_pred_list, y_test_list):\n",
    "  acc, rec, pre, total_acc = result(one_pred, y_test)\n",
    "  acc_list.append(acc)\n",
    "  rec_list.append(rec)\n",
    "  pre_list.append(pre)\n",
    "  total_acc_list.append(total_acc)"
   ]
  },
  {
   "cell_type": "code",
   "execution_count": null,
   "metadata": {
    "id": "-DzyBvx4oLty"
   },
   "outputs": [],
   "source": [
    "train_acc_list"
   ]
  },
  {
   "cell_type": "code",
   "execution_count": null,
   "metadata": {
    "colab": {
     "base_uri": "https://localhost:8080/"
    },
    "id": "hpElsAqwoLvq",
    "outputId": "990f4de5-9d37-4841-d6bd-936e6f03a49a"
   },
   "outputs": [],
   "source": [
    "tf.print(\"Total TRAIN Accuracy = {:.3f}\".format(K.sum(train_acc_list)/len(train_acc_list)))"
   ]
  },
  {
   "cell_type": "code",
   "execution_count": null,
   "metadata": {
    "colab": {
     "base_uri": "https://localhost:8080/"
    },
    "id": "2HGz-aYzJO09",
    "outputId": "cfe9a310-0ac1-43d3-cca7-93c58ae6f4e5"
   },
   "outputs": [],
   "source": [
    "# total accuracy\n",
    "total_acc_list"
   ]
  },
  {
   "cell_type": "code",
   "execution_count": null,
   "metadata": {
    "id": "-ThdIAXcV-2C"
   },
   "outputs": [],
   "source": [
    "# decode one hot vector\n",
    "y_pred = np.argmax(one_pred, axis=1).reshape(-1, 1)\n",
    "# y_pred"
   ]
  },
  {
   "cell_type": "code",
   "execution_count": null,
   "metadata": {
    "colab": {
     "base_uri": "https://localhost:8080/"
    },
    "id": "lNC-HX58VPB0",
    "outputId": "5c80d970-674a-4874-dd2c-7baf42dc624f"
   },
   "outputs": [],
   "source": [
    "from sklearn import metrics\n",
    "\n",
    "for one_pred, y_test in zip(one_pred_list, y_test_list):\n",
    "  \n",
    "  dec_y_pred = np.argmax(one_pred, axis=1).reshape(-1, 1)\n",
    "  dec_y_test = np.argmax(y_test, axis=1).reshape(-1, 1)\n",
    "\n",
    "  # Print the confusion matrix\n",
    "  # print(metrics.confusion_matrix(dec_y_test, dec_y_pred))\n",
    "\n",
    "  # Print the precision and recall, among other metrics\n",
    "  print(metrics.classification_report(dec_y_test, dec_y_pred, digits=3))"
   ]
  },
  {
   "cell_type": "code",
   "execution_count": null,
   "metadata": {
    "colab": {
     "base_uri": "https://localhost:8080/"
    },
    "id": "kntqJEQmN2Xx",
    "outputId": "2a3da380-e38f-4dbf-edbf-fb6bd072008c"
   },
   "outputs": [],
   "source": [
    "# number of class\n",
    "for i in range(y_test_list[0].shape[1]):\n",
    "  acc_mean, rec_mean, pre_mean = 0, 0, 0\n",
    "  \n",
    "  # k-fold\n",
    "  for j in range(len(acc_list)):  \n",
    "    acc_mean += acc_list[j][i]\n",
    "    rec_mean += rec_list[j][i]\n",
    "    pre_mean += pre_list[j][i]\n",
    "  \n",
    "  acc_mean /= len(acc_list)\n",
    "  rec_mean /= len(rec_list)\n",
    "  pre_mean /= len(pre_list)\n",
    "\n",
    "  print(\"\\nclass: \", i)\n",
    "  # mean score of k-folds\n",
    "  tf.print(\"Accuracy = {:.3f}\".format(acc_mean))\n",
    "  tf.print(\"Recall = {:.3f}\".format(rec_mean))\n",
    "  tf.print(\"Precision = {:.3f} \".format(pre_mean))"
   ]
  },
  {
   "cell_type": "code",
   "execution_count": null,
   "metadata": {
    "colab": {
     "base_uri": "https://localhost:8080/"
    },
    "id": "qhXKxrFivMNq",
    "outputId": "e8bb24fe-ff0c-4235-94a6-4c6081349674"
   },
   "outputs": [],
   "source": [
    "len(acc_list)"
   ]
  },
  {
   "cell_type": "code",
   "execution_count": 187,
   "metadata": {},
   "outputs": [],
   "source": [
    "lst = [np.array([-0.00579295, -0.01111252,  0.01562402]),\n",
    " np.array([-0.00887163, -0.00234678, -0.00513912]),\n",
    " np.array([-0.00665409,  0.00032249,  0.00379274]),\n",
    " np.array([-0.00599484, -0.01017522,  0.00287159]),\n",
    " np.array([-0.011346  , -0.00395544, -0.00405095]),\n",
    " np.array([ 0.01126967, -0.00390696,  0.00718204]),\n",
    " np.array([ 0.00629946, -0.01131399, -0.0100597 ]),\n",
    " np.array([-0.0116012 , -0.00639622, -0.01342672]),\n",
    " np.array([0.00801876, 0.00654398, 0.00347906]),\n",
    " np.array([-0.0042868 , -0.00840255, -0.0190197 ]),\n",
    " np.array([0.02370058, 0.00539297, 0.00275282]),\n",
    " np.array([-0.00710489, -0.00306664,  0.00227833]),\n",
    " np.array([ 0.00371064,  0.00591692, -0.01106254])\n",
    "]"
   ]
  },
  {
   "cell_type": "code",
   "execution_count": 193,
   "metadata": {},
   "outputs": [
    {
     "data": {
      "text/plain": [
       "array([-0.00066564, -0.00326923, -0.00190601])"
      ]
     },
     "execution_count": 193,
     "metadata": {},
     "output_type": "execute_result"
    }
   ],
   "source": [
    "np.mean(lst, axis=0)"
   ]
  },
  {
   "cell_type": "code",
   "execution_count": 198,
   "metadata": {},
   "outputs": [
    {
     "data": {
      "text/plain": [
       "0.27276513999999996"
      ]
     },
     "execution_count": 198,
     "metadata": {},
     "output_type": "execute_result"
    }
   ],
   "source": [
    "lst = [0.2408451, 0.21637085, 0.32011274, 0.28361083, 0.23472572, 0.34361835,\n",
    " 0.27995798, 0.09976171, 0.28402286, 0.26182375, 0.28349403, 0.26317557,\n",
    " 0.23039316, 0.34074784, 0.34802407, 0.29737508, 0.296906, 0.28480688]\n",
    "\n",
    "\n",
    "np.mean(lst)"
   ]
  },
  {
   "cell_type": "markdown",
   "metadata": {
    "id": "TdjgW7RovsvY"
   },
   "source": [
    "# **SVM**"
   ]
  },
  {
   "cell_type": "code",
   "execution_count": null,
   "metadata": {
    "id": "c71NtlyIisen"
   },
   "outputs": [],
   "source": [
    "acc_list, rec_list, pre_list, total_acc_list = [], [], [], []\n",
    "y_all_test,y_all_proba = [], []"
   ]
  },
  {
   "cell_type": "code",
   "execution_count": null,
   "metadata": {
    "colab": {
     "base_uri": "https://localhost:8080/",
     "height": 647
    },
    "id": "qBAGFlSCvwuJ",
    "outputId": "477d5bd5-9be4-4009-e40a-3415412a9d35"
   },
   "outputs": [],
   "source": [
    "# Support Vector Classifier\n",
    "# one vs rest\n",
    "\n",
    "from sklearn.metrics import accuracy_score\n",
    "from sklearn.svm import SVC\n",
    "from sklearn.multiclass import OneVsRestClassifier\n",
    "from sklearn.metrics import precision_recall_curve, roc_curve, auc\n",
    "\n",
    "# c_list = [0.1, 1.0, 10, 100, 1000]\n",
    "c_list = [1.0, 10, 100, 1000]\n",
    "cls = ['desert', 'inflamed', 'excluded']\n",
    "\n",
    "with tf.device('/gpu:0'):\n",
    "#     for c in c_list:\n",
    "    for x_train, decoded_y_train, x_test, y_test in zip(x_train_list, decoded_y_train_list, x_test_list, y_test_list):\n",
    "      svm = OneVsRestClassifier(SVC(C=100, gamma='scale', probability=True)).fit(x_train, decoded_y_train)\n",
    "      prob_y_pred_svc = svm.predict_proba(x_test)\n",
    "      y_pred_svc = svm.predict(x_test)\n",
    "\n",
    "      y_all_test.append(y_test)\n",
    "      y_all_proba.append(prob_y_pred_svc)\n",
    "\n",
    "      # print(y_pred_svc)\n",
    "\n",
    "      # encode y_pred_svc to one-hot vector \n",
    "      Y = encoder.fit_transform(y_pred_svc)\n",
    "      y_pred_svc = pd.get_dummies(Y).values.astype(np.float32)\n",
    "\n",
    "      # print(y_pred_svc)\n",
    "\n",
    "\n",
    "\n",
    "      acc = accuracy_score(y_test, y_pred_svc)\n",
    "      print(round(acc, 3))\n",
    "      total_acc_list.append(round(acc, 3))\n",
    "\n",
    "      acc, rec, pre, total_acc = result(y_pred_svc, y_test)\n",
    "      acc_list.append(acc)\n",
    "      rec_list.append(rec)\n",
    "      pre_list.append(pre)\n",
    "      total_acc_list.append(total_acc)\n",
    "    # print(round(sum(total_acc_list)/len(total_acc_list), 3))\n",
    "    print(sum(total_acc_list)/len(total_acc_list))"
   ]
  },
  {
   "cell_type": "code",
   "execution_count": null,
   "metadata": {
    "id": "HyLE_NGj64s8"
   },
   "outputs": [],
   "source": [
    "sum(total_acc_list)/len(total_acc_list)"
   ]
  },
  {
   "cell_type": "code",
   "execution_count": null,
   "metadata": {
    "id": "VeaZVpB_qL2C"
   },
   "outputs": [],
   "source": [
    "# number of class\n",
    "for i in range(y_test_list[0].shape[1]):\n",
    "  acc_mean, rec_mean, pre_mean = 0, 0, 0\n",
    "  \n",
    "  # k-fold\n",
    "  for j in range(len(acc_list)):  \n",
    "    acc_mean += acc_list[j][i]\n",
    "    rec_mean += rec_list[j][i]\n",
    "    pre_mean += pre_list[j][i]\n",
    "  \n",
    "  acc_mean /= len(acc_list)\n",
    "  rec_mean /= len(rec_list)\n",
    "  pre_mean /= len(pre_list)\n",
    "\n",
    "  print(\"\\nclass: \", i)\n",
    "  # mean score of k-folds\n",
    "  tf.print(\"Accuracy = {:.3f}\".format(acc_mean))\n",
    "  tf.print(\"Recall = {:.3f}\".format(rec_mean))\n",
    "  tf.print(\"Precision = {:.3f} \".format(pre_mean))"
   ]
  },
  {
   "cell_type": "code",
   "execution_count": null,
   "metadata": {
    "id": "n5YJfX8dixap"
   },
   "outputs": [],
   "source": [
    "y_all_test = np.concatenate(y_all_test)\n",
    "y_all_proba = np.concatenate(y_all_proba)"
   ]
  },
  {
   "cell_type": "code",
   "execution_count": null,
   "metadata": {
    "id": "8_Mom3PQlwhm"
   },
   "outputs": [],
   "source": [
    "# PR curve\n",
    "pr_auc = dict()\n",
    "for i, label in zip(range(3), cls):\n",
    "  pre[i], rec[i], _ = precision_recall_curve(y_all_test[:, i], y_all_proba[:, i])\n",
    "#   mean_pre[i] /= 10\n",
    "#   mean_rec[i] /= 10\n",
    "\n",
    "  pr_auc[i] = auc(rec[i], pre[i])\n",
    "  plt.plot(rec[i], pre[i], lw=2, label='PR curve of class \"{0}\" (area = {1:0.3f})'\n",
    "          ''.format(label, pr_auc[i]))\n",
    "    \n",
    "\n",
    "plt.xlabel(\"recall\")\n",
    "plt.ylabel(\"precision\")\n",
    "plt.legend(loc=\"best\")\n",
    "plt.title(\"PR curve\")\n",
    "\n",
    "plt.savefig('PR curve.png', dpi=300)\n",
    "plt.show()\n"
   ]
  },
  {
   "cell_type": "code",
   "execution_count": null,
   "metadata": {
    "id": "JQL4hbMKlwv-"
   },
   "outputs": [],
   "source": [
    "# ROC curve\n",
    "fpr = dict()\n",
    "tpr = dict()\n",
    "roc_auc = dict()\n",
    "for i, label in zip(range(3), cls):\n",
    "#   mean_fpr[i] /= 10\n",
    "#   mean_tpr[i] /= 10\n",
    "  fpr[i], tpr[i], _ = roc_curve(y_all_test[:, i], y_all_proba[:, i])\n",
    "  roc_auc[i] = auc(fpr[i], tpr[i])\n",
    "  plt.plot(fpr[i], tpr[i], lw=2, label='ROC curve of class \"{0}\" (area = {1:0.3f})'\n",
    "          ''.format(label, roc_auc[i]))\n",
    "\n",
    "plt.xlabel(\"false positive rate\")\n",
    "plt.ylabel(\"true positive rate\")\n",
    "plt.legend(loc=\"best\")\n",
    "plt.title(\"ROC curve\")\n",
    "\n",
    "plt.savefig('ROC curve.png', dpi=300)\n",
    "plt.show()"
   ]
  },
  {
   "cell_type": "code",
   "execution_count": null,
   "metadata": {
    "id": "2lkr_8QglwzR"
   },
   "outputs": [],
   "source": []
  },
  {
   "cell_type": "code",
   "execution_count": null,
   "metadata": {
    "id": "NOkExKYKFqi2"
   },
   "outputs": [],
   "source": [
    "# output개수가 0인 class가 있을 때 add [0]*y_pred_svc.shape[0]\n",
    "\n",
    "# new_column = [0] * y_pred_svc.shape[0]\n",
    "# y_pred_svc = np.insert(y_pred_svc, 2, new_column, axis=1)\n",
    "# y_pred_svc"
   ]
  },
  {
   "cell_type": "code",
   "execution_count": null,
   "metadata": {
    "id": "aM8SnLHa82wn"
   },
   "outputs": [],
   "source": []
  }
 ],
 "metadata": {
  "accelerator": "GPU",
  "colab": {
   "collapsed_sections": [
    "QXOkd8z7EpPb",
    "q4HMfhUpEIsW",
    "W6U48cnDvxCm",
    "t1YoXxZQDKmE"
   ],
   "name": "classify_by_biomarkers_cross_validation_wo_boost.ipynb",
   "provenance": []
  },
  "kernelspec": {
   "display_name": "Python 3",
   "language": "python",
   "name": "python3"
  },
  "language_info": {
   "codemirror_mode": {
    "name": "ipython",
    "version": 3
   },
   "file_extension": ".py",
   "mimetype": "text/x-python",
   "name": "python",
   "nbconvert_exporter": "python",
   "pygments_lexer": "ipython3",
   "version": "3.7.9"
  }
 },
 "nbformat": 4,
 "nbformat_minor": 1
}
